{
 "cells": [
  {
   "cell_type": "markdown",
   "metadata": {
    "colab_type": "text",
    "id": "cf5CmXQCZyF1"
   },
   "source": [
    "# Guided Capstone Step 4. Pre-Processing and Training Data Development"
   ]
  },
  {
   "cell_type": "markdown",
   "metadata": {
    "colab_type": "text",
    "id": "b2jue2jPGJlt"
   },
   "source": [
    "**The Data Science Method**  \n",
    "\n",
    "\n",
    "1.   Problem Identification \n",
    "\n",
    "\n",
    "2.   Data Wrangling \n",
    "  \n",
    " \n",
    "3.   Exploratory Data Analysis   \n",
    "\n",
    "4.   **Pre-processing and Training Data Development**  \n",
    " * Create dummy or indicator features for categorical variables\n",
    "  * Standardize the magnitude of numeric features\n",
    "  * Split into testing and training datasets\n",
    "  * Apply scaler to the testing set\n",
    "5.   Modeling \n",
    "  * Fit Models with Training Data Set\n",
    "  * Review Model Outcomes — Iterate over additional models as needed.\n",
    "  * Identify the Final Model\n",
    "\n",
    "6.   Documentation\n",
    "  * Review the Results\n",
    "  * Present and share your findings - storytelling\n",
    "  * Finalize Code \n",
    "  * Finalize Documentation"
   ]
  },
  {
   "cell_type": "markdown",
   "metadata": {
    "colab_type": "text",
    "id": "K8xfkAqqZyF2"
   },
   "source": [
    "**<font color='teal'> Start by loading the necessary packages as we did in step 3 and printing out our current working directory just to confirm we are in the correct project directory. </font>**"
   ]
  },
  {
   "cell_type": "code",
   "execution_count": 10,
   "metadata": {
    "colab": {},
    "colab_type": "code",
    "id": "ry6WPL5eZyF3"
   },
   "outputs": [
    {
     "name": "stdout",
     "output_type": "stream",
     "text": [
      "Index(['Unnamed: 0', 'Name', 'Region', 'state', 'summit_elev', 'vertical_drop',\n",
      "       'trams', 'fastEight', 'fastSixes', 'fastQuads', 'quad', 'triple',\n",
      "       'double', 'surface', 'total_chairs', 'Runs', 'TerrainParks',\n",
      "       'LongestRun_mi', 'SkiableTerrain_ac', 'Snow Making_ac',\n",
      "       'daysOpenLastYear', 'yearsOpen', 'averageSnowfall', 'AdultWeekday',\n",
      "       'AdultWeekend', 'projectedDaysOpen', 'NightSkiing_ac', 'cluster'],\n",
      "      dtype='object')\n"
     ]
    }
   ],
   "source": [
    "import pandas as pd\n",
    "\n",
    "df = pd.read_csv(\"/home/vince/nstem/models/sb/gc/gc1.2/step3_outputA.csv\")\n",
    "df.head()\n",
    "print(df.columns)"
   ]
  },
  {
   "cell_type": "markdown",
   "metadata": {
    "colab_type": "text",
    "id": "630T-ogRZyF8"
   },
   "source": [
    "**<font color='teal'>  Load the csv file you created in step 3, remember it should be saved inside your data subfolder and print the first five rows.</font>**"
   ]
  },
  {
   "cell_type": "code",
   "execution_count": 0,
   "metadata": {
    "colab": {},
    "colab_type": "code",
    "id": "dMNbk0u3ZyF9"
   },
   "outputs": [],
   "source": []
  },
  {
   "cell_type": "markdown",
   "metadata": {
    "colab_type": "text",
    "id": "zkBHf9smZyGB"
   },
   "source": [
    "## Create dummy features for categorical variables"
   ]
  },
  {
   "cell_type": "markdown",
   "metadata": {
    "colab_type": "text",
    "id": "vWKHm0NhAnrJ"
   },
   "source": [
    "**<font color='teal'> Create dummy variables for `state`. Add the dummies back to the dataframe and remove the original column for `state`. </font>**\n",
    "\n",
    "Hint: you can see an example of how to execute this in Aiden's article on preprocessing [here](https://medium.com/@aiden.dataminer/the-data-science-method-dsm-pre-processing-and-training-data-development-fd2d75182967). "
   ]
  },
  {
   "cell_type": "code",
   "execution_count": 11,
   "metadata": {
    "colab": {},
    "colab_type": "code",
    "id": "lZqWk8ltZyGZ",
    "pycharm": {
     "name": "#%%GuidedCapstoneStep4 and step5HL\n"
    }
   },
   "outputs": [
    {
     "name": "stdout",
     "output_type": "stream",
     "text": [
      "   Unnamed: 0               Name       Region        state  summit_elev  \\\n",
      "0           2   Hilltop Ski Area       Alaska       Alaska         2090   \n",
      "1          41   Ski Granby Ranch     Colorado     Colorado         9202   \n",
      "2          50  Powder Ridge Park  Connecticut  Connecticut          720   \n",
      "3          51        Ski Sundown  Connecticut  Connecticut         1075   \n",
      "4          69        Paoli Peaks      Indiana      Indiana          900   \n",
      "\n",
      "   vertical_drop  trams  fastEight  fastSixes  fastQuads  ...  \\\n",
      "0            294      0        0.0          0          0  ...   \n",
      "1           1000      0        0.0          0          2  ...   \n",
      "2            550      0        0.0          0          0  ...   \n",
      "3            625      0        0.0          0          0  ...   \n",
      "4            300      0        0.0          0          1  ...   \n",
      "\n",
      "   SkiableTerrain_ac  Snow Making_ac  daysOpenLastYear  yearsOpen  \\\n",
      "0               30.0            30.0             150.0       36.0   \n",
      "1              406.0           170.0             116.0       36.0   \n",
      "2               80.0            68.0              80.0       60.0   \n",
      "3               70.0            70.0              84.0       50.0   \n",
      "4               65.0            65.0              75.0       41.0   \n",
      "\n",
      "   averageSnowfall  AdultWeekday  AdultWeekend  projectedDaysOpen  \\\n",
      "0             69.0          30.0          34.0              152.0   \n",
      "1            220.0          84.0          84.0               92.0   \n",
      "2             80.0          45.0          55.0              100.0   \n",
      "3             45.0          62.0          62.0               95.0   \n",
      "4             18.0          38.0          45.0               80.0   \n",
      "\n",
      "   NightSkiing_ac  cluster  \n",
      "0            30.0        2  \n",
      "1           100.0        0  \n",
      "2            40.0        1  \n",
      "3            66.0        1  \n",
      "4            65.0        1  \n",
      "\n",
      "[5 rows x 28 columns]\n",
      "   Unnamed: 0  summit_elev  vertical_drop  trams  fastEight  fastSixes  \\\n",
      "0           2         2090            294      0        0.0          0   \n",
      "1          41         9202           1000      0        0.0          0   \n",
      "2          50          720            550      0        0.0          0   \n",
      "3          51         1075            625      0        0.0          0   \n",
      "4          69          900            300      0        0.0          0   \n",
      "\n",
      "   fastQuads  quad  triple  double  ...  Massachusetts  Michigan  Minnesota  \\\n",
      "0          0     0       1       0  ...              0         0          0   \n",
      "1          2     0       1       1  ...              0         0          0   \n",
      "2          0     0       1       2  ...              0         0          0   \n",
      "3          0     0       3       0  ...              0         0          0   \n",
      "4          1     1       3       1  ...              0         0          0   \n",
      "\n",
      "   New York  North Carolina  Ohio  Pennsylvania  Utah  Vermont  Wisconsin  \n",
      "0         0               0     0             0     0        0          0  \n",
      "1         0               0     0             0     0        0          0  \n",
      "2         0               0     0             0     0        0          0  \n",
      "3         0               0     0             0     0        0          0  \n",
      "4         0               0     0             0     0        0          0  \n",
      "\n",
      "[5 rows x 39 columns]\n"
     ]
    }
   ],
   "source": [
    "df = pd.read_csv(\"/home/vince/nstem/models/sb/gc/gc1.2/step3_outputA.csv\")\n",
    "\n",
    "print(df.head())\n",
    "\n",
    "dummy=pd.get_dummies(df['state'])\n",
    "df = pd.concat([df, dummy], axis=1)\n",
    "df = df.drop(['state','Name','Region'], axis=1)\n",
    "print(df.head())\n"
   ]
  },
  {
   "cell_type": "markdown",
   "metadata": {
    "colab_type": "text",
    "id": "HnDVhE1-ZyGF"
   },
   "source": [
    "## Standardize the magnitude of numeric features"
   ]
  },
  {
   "cell_type": "markdown",
   "metadata": {
    "colab": {},
    "colab_type": "code",
    "id": "gW3D-WlDZyGG"
   },
   "source": [
    "**<font color='teal'> Using sklearn preprocessing standardize the scale of the features of the dataframe except the name of the resort which we done't need in the dataframe for modeling, so it can be droppped here as well. Also, we want to hold out our response variable(s) so we can have their true values available for model performance review. Let's set `AdultWeekend` to the y variable as our response for scaling and modeling. Later we will go back and consider the `AdultWeekday`, `dayOpenLastYear`, and `projectedDaysOpen`. For now leave them in the development dataframe. </font>**"
   ]
  },
  {
   "cell_type": "code",
   "execution_count": 12,
   "metadata": {
    "colab": {},
    "colab_type": "code",
    "id": "IZL-q-KtAYI6"
   },
   "outputs": [],
   "source": [
    "# first we import the preprocessing package from the sklearn library\n",
    "from sklearn import preprocessing as pp\n",
    "# Declare an explanatory variable, called X,and assign it the result of dropping 'Name' and 'AdultWeekend' from the df\n",
    "X = df.drop(['AdultWeekend'], axis=1)\n",
    "\n",
    "# Declare a response variable, called y, and assign it the AdultWeekend column of the df \n",
    "y = df['AdultWeekend']\n",
    "\n",
    "# # Here we use the StandardScaler() method of the preprocessing package, and then call the fit() method with parameter X\n",
    "scaler = pp.StandardScaler().fit(X)\n",
    "#\n",
    "# # Declare a variable called X_scaled, and assign it the result of calling the transform() method with parameter X\n",
    "X_scaled=scaler.transform(X)"
   ]
  },
  {
   "cell_type": "markdown",
   "metadata": {
    "colab_type": "text",
    "id": "GAT8h4_mZyGK"
   },
   "source": [
    "## Split into training and testing datasets"
   ]
  },
  {
   "cell_type": "markdown",
   "metadata": {
    "colab_type": "text",
    "id": "6rdS8EGeAnrW"
   },
   "source": [
    "**<font color='teal'> Using sklearn model selection import train_test_split, and create a 75/25 split with the y = `AdultWeekend`. We will start by using the adult weekend ticket price as our response variable for modeling.</font>**"
   ]
  },
  {
   "cell_type": "code",
   "execution_count": 14,
   "metadata": {
    "colab": {},
    "colab_type": "code",
    "id": "BSkPut0gguds"
   },
   "outputs": [
    {
     "name": "stdout",
     "output_type": "stream",
     "text": [
      "[[ 7.58772041e-01 -1.03633292e-01 -2.77678016e-01  0.00000000e+00\n",
      "   0.00000000e+00  0.00000000e+00 -4.54698862e-01 -9.44236968e-01\n",
      "  -1.18492876e-01 -2.55069091e-01  6.31364150e-01 -6.19912079e-01\n",
      "  -6.44735383e-01 -8.70967742e-01 -1.23778363e+00 -9.19255457e-01\n",
      "  -1.33689242e+00  3.73979955e-01 -3.41431917e-01 -8.61937856e-01\n",
      "  -1.33198577e+00 -1.22757401e+00 -1.18165614e+00  1.27872403e+00\n",
      "  -2.00000000e-01 -2.00000000e-01 -2.88675135e-01 -2.00000000e-01\n",
      "  -2.00000000e-01 -2.00000000e-01 -2.88675135e-01 -3.61157559e-01\n",
      "  -3.61157559e-01 -2.00000000e-01  1.82574186e+00 -2.00000000e-01\n",
      "  -2.00000000e-01 -2.88675135e-01]\n",
      " [-1.29529506e+00 -7.42166770e-01 -8.73082738e-01  0.00000000e+00\n",
      "   0.00000000e+00  0.00000000e+00  1.23418262e+00  3.77694787e-02\n",
      "   1.93538364e+00 -2.55069091e-01 -3.34251609e-01  1.17094504e+00\n",
      "  -5.80508870e-01 -3.22580645e-02 -6.95384062e-01 -3.55561073e-01\n",
      "  -1.76764980e-01 -1.76401216e+00 -1.32779079e+00 -9.41642838e-01\n",
      "  -7.50154146e-01 -1.81730452e+00 -1.43666400e-02 -2.32495277e-01\n",
      "  -2.00000000e-01 -2.00000000e-01 -2.88675135e-01  5.00000000e+00\n",
      "  -2.00000000e-01 -2.00000000e-01 -2.88675135e-01 -3.61157559e-01\n",
      "  -3.61157559e-01 -2.00000000e-01 -5.47722558e-01 -2.00000000e-01\n",
      "  -2.00000000e-01 -2.88675135e-01]\n",
      " [-1.50973064e+00 -8.29570592e-01 -1.80751666e-01  0.00000000e+00\n",
      "   0.00000000e+00  0.00000000e+00 -4.54698862e-01 -9.44236968e-01\n",
      "  -1.18492876e-01  4.81797171e-01 -3.34251609e-01 -6.19912079e-01\n",
      "  -3.23602817e-01  1.64516129e+00 -5.14584206e-01 -1.86452758e-01\n",
      "  -1.09834551e-01 -1.49745581e+00  7.54522384e-01 -1.18024686e-01\n",
      "  -2.41051478e-01 -6.37843488e-01 -5.98011391e-01 -2.32495277e-01\n",
      "  -2.00000000e-01 -2.00000000e-01  3.46410162e+00 -2.00000000e-01\n",
      "  -2.00000000e-01 -2.00000000e-01 -2.88675135e-01 -3.61157559e-01\n",
      "  -3.61157559e-01 -2.00000000e-01 -5.47722558e-01 -2.00000000e-01\n",
      "  -2.00000000e-01 -2.88675135e-01]\n",
      " [ 7.81344207e-01 -9.22801336e-01 -4.57684095e-01  0.00000000e+00\n",
      "   0.00000000e+00  0.00000000e+00 -4.54698862e-01 -9.44236968e-01\n",
      "  -1.18492876e-01  1.21866343e+00 -3.34251609e-01 -2.29597066e-02\n",
      "  -9.65867949e-01 -8.70967742e-01 -1.05698377e+00 -5.81038826e-01\n",
      "  -6.22967843e-01 -4.31230409e-01  3.16140664e-01 -9.15074511e-01\n",
      "   6.98385240e-01 -6.37843488e-01 -4.81282441e-01 -2.32495277e-01\n",
      "  -2.00000000e-01 -2.00000000e-01 -2.88675135e-01 -2.00000000e-01\n",
      "  -2.00000000e-01 -2.00000000e-01 -2.88675135e-01 -3.61157559e-01\n",
      "  -3.61157559e-01 -2.00000000e-01  1.82574186e+00 -2.00000000e-01\n",
      "  -2.00000000e-01 -2.88675135e-01]\n",
      " [-9.00282159e-01 -6.29512955e-01 -6.65383416e-01  0.00000000e+00\n",
      "   0.00000000e+00  0.00000000e+00  1.23418262e+00  2.00178237e+00\n",
      "   9.08445381e-01 -9.91935352e-01 -3.34251609e-01  1.17094504e+00\n",
      "   2.18123120e+00  8.06451613e-01 -8.76183919e-01  6.15727711e-02\n",
      "   5.14849457e-01  6.34994990e-01  1.08330867e+00  5.72751829e-01\n",
      "   4.13509095e-01  1.42621333e+00 -2.24478750e-01 -2.32495277e-01\n",
      "  -2.00000000e-01 -2.00000000e-01 -2.88675135e-01 -2.00000000e-01\n",
      "  -2.00000000e-01  5.00000000e+00 -2.88675135e-01 -3.61157559e-01\n",
      "  -3.61157559e-01 -2.00000000e-01 -5.47722558e-01 -2.00000000e-01\n",
      "  -2.00000000e-01 -2.88675135e-01]\n",
      " [ 3.97617385e-01  1.49439992e+00  5.94659135e-01  0.00000000e+00\n",
      "   0.00000000e+00  0.00000000e+00 -4.54698862e-01  2.00178237e+00\n",
      "  -1.14543113e+00  1.21866343e+00 -3.34251609e-01  1.17094504e+00\n",
      "  -4.52055843e-01 -8.70967742e-01  3.89415075e-01 -1.73444426e-02\n",
      "   4.92539314e-01 -5.37852949e-01 -1.22241057e-01 -7.68948709e-01\n",
      "  -5.31967288e-01  5.44743329e-01  6.86007061e-01 -1.74371458e+00\n",
      "  -2.00000000e-01 -2.00000000e-01 -2.88675135e-01 -2.00000000e-01\n",
      "  -2.00000000e-01 -2.00000000e-01 -2.88675135e-01 -3.61157559e-01\n",
      "   2.76887462e+00 -2.00000000e-01 -5.47722558e-01 -2.00000000e-01\n",
      "  -2.00000000e-01 -2.88675135e-01]\n",
      " [-6.63274416e-01 -3.92551482e-01 -9.00775981e-01  0.00000000e+00\n",
      "   0.00000000e+00  0.00000000e+00 -4.54698862e-01  3.77694787e-02\n",
      "   9.08445381e-01 -9.91935352e-01  6.31364150e-01 -2.29597066e-02\n",
      "  -5.80508870e-01 -3.22580645e-02 -1.05698377e+00 -6.93777703e-01\n",
      "  -8.46069275e-01 -4.31230409e-01 -1.65657708e+00 -4.50128779e-01\n",
      "  -2.41051478e-01 -4.81129696e-02 -7.14740341e-01 -2.32495277e-01\n",
      "  -2.00000000e-01 -2.00000000e-01 -2.88675135e-01 -2.00000000e-01\n",
      "  -2.00000000e-01 -2.00000000e-01  3.46410162e+00 -3.61157559e-01\n",
      "  -3.61157559e-01 -2.00000000e-01 -5.47722558e-01 -2.00000000e-01\n",
      "  -2.00000000e-01 -2.88675135e-01]\n",
      " [ 1.00706587e+00  3.50381005e-01  3.01504856e+00  0.00000000e+00\n",
      "   0.00000000e+00  0.00000000e+00 -4.54698862e-01  1.01977593e+00\n",
      "  -1.14543113e+00  1.21866343e+00 -1.29986737e+00 -2.29597066e-02\n",
      "   3.01617587e+00  8.06451613e-01 -3.33784350e-01  2.29380253e+00\n",
      "   3.80988598e-01  1.32804150e+00 -1.26456265e-02  2.80449134e+00\n",
      "   1.50444338e+00  1.24929417e+00 -3.64553491e-01  1.27872403e+00\n",
      "  -2.00000000e-01 -2.00000000e-01 -2.88675135e-01 -2.00000000e-01\n",
      "  -2.00000000e-01 -2.00000000e-01 -2.88675135e-01 -3.61157559e-01\n",
      "  -3.61157559e-01 -2.00000000e-01 -5.47722558e-01 -2.00000000e-01\n",
      "   5.00000000e+00 -2.88675135e-01]\n",
      " [-1.61130539e+00  3.28909173e+00  1.06544426e+00  0.00000000e+00\n",
      "   0.00000000e+00  0.00000000e+00  2.92306411e+00 -9.44236968e-01\n",
      "  -1.18492876e-01 -2.55069091e-01 -1.29986737e+00 -6.19912079e-01\n",
      "   1.02515396e+00 -8.70967742e-01 -3.33784350e-01  3.48883462e+00\n",
      "   2.16580005e+00  4.21749910e-01 -1.87576794e+00  1.74175824e+00\n",
      "   2.59537767e+00 -1.10962790e+00  8.02736012e-01 -1.74371458e+00\n",
      "  -2.00000000e-01  5.00000000e+00 -2.88675135e-01 -2.00000000e-01\n",
      "  -2.00000000e-01 -2.00000000e-01 -2.88675135e-01 -3.61157559e-01\n",
      "  -3.61157559e-01 -2.00000000e-01 -5.47722558e-01 -2.00000000e-01\n",
      "  -2.00000000e-01 -2.88675135e-01]\n",
      " [ 6.12052962e-01 -5.72214894e-01  9.61807628e-02  0.00000000e+00\n",
      "   0.00000000e+00  0.00000000e+00 -4.54698862e-01 -9.44236968e-01\n",
      "  -1.14543113e+00  1.95552969e+00 -3.34251609e-01 -2.29597066e-02\n",
      "  -3.87829330e-01 -8.70967742e-01  1.29341436e+00 -7.95242692e-01\n",
      "  -1.04686056e+00 -1.76401216e+00 -1.10859993e+00 -2.64150487e-01\n",
      "   1.22593285e-01 -2.11216978e+00 -9.24852452e-01 -2.32495277e-01\n",
      "  -2.00000000e-01 -2.00000000e-01 -2.88675135e-01 -2.00000000e-01\n",
      "  -2.00000000e-01 -2.00000000e-01 -2.88675135e-01 -3.61157559e-01\n",
      "  -3.61157559e-01 -2.00000000e-01  1.82574186e+00 -2.00000000e-01\n",
      "  -2.00000000e-01 -2.88675135e-01]\n",
      " [-2.05146262e+00 -1.64330391e-01 -8.89698684e-01  0.00000000e+00\n",
      "   0.00000000e+00  0.00000000e+00 -4.54698862e-01 -9.44236968e-01\n",
      "  -1.18492876e-01 -9.91935352e-01 -3.34251609e-01 -1.81381682e+00\n",
      "  -7.08961896e-01 -8.70967742e-01  3.89415075e-01 -7.50147141e-01\n",
      "  -9.57619991e-01  2.23433309e+00 -1.87576794e+00 -2.64150487e-01\n",
      "  -1.33198577e+00  2.42875521e+00 -8.31469292e-01  1.27872403e+00\n",
      "   5.00000000e+00 -2.00000000e-01 -2.88675135e-01 -2.00000000e-01\n",
      "  -2.00000000e-01 -2.00000000e-01 -2.88675135e-01 -3.61157559e-01\n",
      "  -3.61157559e-01 -2.00000000e-01 -5.47722558e-01 -2.00000000e-01\n",
      "  -2.00000000e-01 -2.88675135e-01]\n",
      " [ 4.31475634e-01 -4.50820697e-01 -1.06693544e+00  0.00000000e+00\n",
      "   0.00000000e+00  0.00000000e+00 -4.54698862e-01  3.77694787e-02\n",
      "   9.08445381e-01 -2.55069091e-01 -1.29986737e+00 -6.19912079e-01\n",
      "  -8.37414923e-01 -8.70967742e-01 -1.05698377e+00 -2.76643859e-01\n",
      "  -2.05939783e-02 -1.64674059e-01 -1.26456265e-02  4.13341864e-01\n",
      "  -3.86509383e-01  5.44743329e-01  1.49053890e-01 -2.32495277e-01\n",
      "  -2.00000000e-01 -2.00000000e-01 -2.88675135e-01 -2.00000000e-01\n",
      "  -2.00000000e-01 -2.00000000e-01 -2.88675135e-01 -3.61157559e-01\n",
      "  -3.61157559e-01  5.00000000e+00 -5.47722558e-01 -2.00000000e-01\n",
      "  -2.00000000e-01 -2.88675135e-01]\n",
      " [ 1.52622568e+00 -6.15916805e-01 -8.73082738e-01  0.00000000e+00\n",
      "   0.00000000e+00  0.00000000e+00 -4.54698862e-01 -9.44236968e-01\n",
      "   1.93538364e+00 -9.91935352e-01 -3.34251609e-01 -6.19912079e-01\n",
      "  -3.87829330e-01  2.48387097e+00 -5.14584206e-01 -7.27599366e-01\n",
      "  -9.12999704e-01  2.08504830e-01  8.64117814e-01 -6.36107072e-01\n",
      "  -2.27746215e+00 -4.60924332e-01 -7.84777712e-01 -2.32495277e-01\n",
      "  -2.00000000e-01 -2.00000000e-01 -2.88675135e-01 -2.00000000e-01\n",
      "  -2.00000000e-01 -2.00000000e-01 -2.88675135e-01 -3.61157559e-01\n",
      "  -3.61157559e-01 -2.00000000e-01 -5.47722558e-01 -2.00000000e-01\n",
      "  -2.00000000e-01  3.46410162e+00]\n",
      " [ 1.51493960e+00 -5.96493733e-01 -9.83855710e-01  0.00000000e+00\n",
      "   0.00000000e+00  0.00000000e+00 -4.54698862e-01  1.01977593e+00\n",
      "  -1.14543113e+00 -2.55069091e-01  2.56259567e+00  1.17094504e+00\n",
      "  -2.47025051e-03  1.64516129e+00 -5.14584206e-01 -1.18809432e-01\n",
      "   2.91748026e-01  1.16810769e+00  1.74088125e+00 -5.16549598e-01\n",
      "   4.13509095e-01  5.41617549e-01  4.75894951e-01 -2.32495277e-01\n",
      "  -2.00000000e-01 -2.00000000e-01 -2.88675135e-01 -2.00000000e-01\n",
      "  -2.00000000e-01 -2.00000000e-01 -2.88675135e-01 -3.61157559e-01\n",
      "  -3.61157559e-01 -2.00000000e-01 -5.47722558e-01 -2.00000000e-01\n",
      "  -2.00000000e-01  3.46410162e+00]\n",
      " [ 1.38905637e-02 -1.10916944e-01  1.61930912e+00  0.00000000e+00\n",
      "   0.00000000e+00  0.00000000e+00  2.92306411e+00  3.77694787e-02\n",
      "  -1.18492876e-01 -2.55069091e-01 -1.29986737e+00 -2.29597066e-02\n",
      "   6.39794882e-01  8.06451613e-01  2.19741364e+00  7.15458256e-01\n",
      "   1.67497690e+00  1.11479642e+00  2.06545234e-01 -3.83707961e-01\n",
      "   1.21352757e+00  1.07237502e+00  2.06340867e+00  1.27872403e+00\n",
      "  -2.00000000e-01 -2.00000000e-01 -2.88675135e-01 -2.00000000e-01\n",
      "  -2.00000000e-01 -2.00000000e-01 -2.88675135e-01  2.76887462e+00\n",
      "  -3.61157559e-01 -2.00000000e-01 -5.47722558e-01 -2.00000000e-01\n",
      "  -2.00000000e-01 -2.88675135e-01]\n",
      " [-5.95557918e-01 -6.57190832e-01 -1.21924827e+00  0.00000000e+00\n",
      "   0.00000000e+00  0.00000000e+00 -4.54698862e-01  1.01977593e+00\n",
      "  -1.18492876e-01 -9.91935352e-01  2.56259567e+00  1.17094504e+00\n",
      "  -6.44735383e-01 -8.70967742e-01  3.89415075e-01 -6.93777703e-01\n",
      "  -8.46069275e-01  1.01882290e-01  8.64117814e-01 -4.50128779e-01\n",
      "  -9.43613160e-01  2.46752290e-01 -7.14740341e-01 -2.32495277e-01\n",
      "  -2.00000000e-01 -2.00000000e-01 -2.88675135e-01 -2.00000000e-01\n",
      "  -2.00000000e-01 -2.00000000e-01  3.46410162e+00 -3.61157559e-01\n",
      "  -3.61157559e-01 -2.00000000e-01 -5.47722558e-01 -2.00000000e-01\n",
      "  -2.00000000e-01 -2.88675135e-01]\n",
      " [ 3.63759136e-01  7.63121276e-01 -6.93076659e-01  0.00000000e+00\n",
      "   0.00000000e+00  0.00000000e+00 -4.54698862e-01  1.01977593e+00\n",
      "  -1.14543113e+00 -2.55069091e-01 -3.34251609e-01 -6.19912079e-01\n",
      "  -7.73188409e-01  8.06451613e-01 -5.14584206e-01 -7.83968804e-01\n",
      "  -1.02455042e+00 -4.31230409e-01  4.25736094e-01 -5.16549598e-01\n",
      "  -6.04696241e-01 -6.37843488e-01 -9.01506662e-01  1.27872403e+00\n",
      "  -2.00000000e-01 -2.00000000e-01 -2.88675135e-01 -2.00000000e-01\n",
      "  -2.00000000e-01 -2.00000000e-01 -2.88675135e-01 -3.61157559e-01\n",
      "   2.76887462e+00 -2.00000000e-01 -5.47722558e-01 -2.00000000e-01\n",
      "  -2.00000000e-01 -2.88675135e-01]\n",
      " [ 1.94467892e-01 -1.38015864e-02  9.61807628e-02  0.00000000e+00\n",
      "   0.00000000e+00  0.00000000e+00 -4.54698862e-01  3.77694787e-02\n",
      "  -1.14543113e+00 -9.91935352e-01  6.31364150e-01 -1.21686445e+00\n",
      "  -1.30923277e-01 -8.70967742e-01  7.51014787e-01 -5.69764939e-01\n",
      "  -1.22534171e+00  3.73979955e-01  1.96007211e+00  4.13341864e-01\n",
      "  -6.04696241e-01  5.44743329e-01 -1.25169351e+00  1.27872403e+00\n",
      "  -2.00000000e-01 -2.00000000e-01 -2.88675135e-01 -2.00000000e-01\n",
      "  -2.00000000e-01 -2.00000000e-01 -2.88675135e-01  2.76887462e+00\n",
      "  -3.61157559e-01 -2.00000000e-01 -5.47722558e-01 -2.00000000e-01\n",
      "  -2.00000000e-01 -2.88675135e-01]\n",
      " [-1.02442907e+00 -9.75243629e-01 -1.12232192e+00  0.00000000e+00\n",
      "   0.00000000e+00  0.00000000e+00 -4.54698862e-01 -9.44236968e-01\n",
      "  -1.18492876e-01 -9.91935352e-01  6.31364150e-01 -1.21686445e+00\n",
      "  -8.37414923e-01 -8.70967742e-01 -1.05698377e+00 -5.81038826e-01\n",
      "  -6.22967843e-01 -1.64674059e-01 -3.41431917e-01 -1.18024686e-01\n",
      "   6.98385240e-01  5.41617549e-01 -6.44702971e-01 -2.32495277e-01\n",
      "  -2.00000000e-01 -2.00000000e-01 -2.88675135e-01 -2.00000000e-01\n",
      "   5.00000000e+00 -2.00000000e-01 -2.88675135e-01 -3.61157559e-01\n",
      "  -3.61157559e-01 -2.00000000e-01 -5.47722558e-01 -2.00000000e-01\n",
      "  -2.00000000e-01 -2.88675135e-01]] [[ 0.72491379 -0.49937838 -0.04228545  0.          0.          0.\n",
      "  -0.45469886  2.00178237  0.90844538 -0.99193535  0.63136415  1.17094504\n",
      "  -0.2593763  -0.03225806 -0.69538406  0.07284666  0.67102046  0.37397995\n",
      "   0.20654523 -0.78223287  1.06806967  0.54474333  0.80273601 -0.23249528\n",
      "  -0.2        -0.2        -0.28867513 -0.2        -0.2        -0.2\n",
      "  -0.28867513 -0.36115756 -0.36115756 -0.2         1.82574186 -0.2\n",
      "  -0.2        -0.28867513]\n",
      " [ 0.37504522  1.44292878  0.34541995  0.          0.          0.\n",
      "  -0.45469886  0.03776948 -0.11849288 -0.25506909 -0.33425161 -0.61991208\n",
      "  -0.38782933 -0.03225806  0.38941507 -0.52466939 -0.51141713  1.75453166\n",
      "   0.53533152 -0.5165496  -0.38650938 -0.16605907 -0.36455349 -1.74371458\n",
      "  -0.2        -0.2        -0.28867513 -0.2        -0.2        -0.2\n",
      "  -0.28867513 -0.36115756  2.76887462 -0.2        -0.54772256 -0.2\n",
      "  -0.2        -0.28867513]\n",
      " [ 0.63462513  0.3484387   1.26483561  0.          0.          0.\n",
      "  -0.45469886 -0.94423697  0.90844538  0.48179717 -0.33425161 -0.02295971\n",
      "   0.63979488 -0.87096774  2.19741364  0.039025    0.24712774 -1.12427692\n",
      "   0.31614066  0.41334186 -0.38650938 -0.34297823 -0.55131981  1.27872403\n",
      "  -0.2        -0.2        -0.28867513 -0.2        -0.2        -0.2\n",
      "  -0.28867513 -0.36115756 -0.36115756 -0.2         1.82574186 -0.2\n",
      "  -0.2        -0.28867513]\n",
      " [-1.49844456 -0.65719083  0.02694766  0.          0.          0.\n",
      "  -0.45469886 -0.94423697  1.93538364 -0.99193535 -0.33425161 -0.61991208\n",
      "  -0.51628236 -0.03225806  0.38941507 -0.29919163 -0.06521426 -1.28421073\n",
      "  -0.34143192 -0.58297042  0.99534072 -0.93270875  0.00897915 -0.23249528\n",
      "  -0.2        -0.2         3.46410162 -0.2        -0.2        -0.2\n",
      "  -0.28867513 -0.36115756 -0.36115756 -0.2        -0.54772256 -0.2\n",
      "  -0.2        -0.28867513]\n",
      " [ 0.99577978  1.92850557  0.95467129  0.          0.          0.\n",
      "  -0.45469886 -0.94423697 -1.14543113  0.48179717 -0.33425161 -1.21686445\n",
      "  -0.06669676 -0.87096774 -0.69538406  0.4899805   0.24712774 -0.16467406\n",
      "  -0.23183649  2.80449134 -0.24105148 -0.34297823  1.73656761 -1.74371458\n",
      "  -0.2        -0.2        -0.28867513 -0.2        -0.2        -0.2\n",
      "  -0.28867513 -0.36115756 -0.36115756 -0.2        -0.54772256  5.\n",
      "  -0.2        -0.28867513]\n",
      " [ 0.07032098 -0.15947462  0.9325167   0.          0.          0.\n",
      "  -0.45469886  0.03776948 -0.11849288  1.95552969 -0.33425161  1.17094504\n",
      "   2.05277817  1.64516129  1.29341436  1.39189152  2.47814205  0.10188229\n",
      "   0.97371324  0.43991019  0.04986433  0.12880619  2.55367027  1.27872403\n",
      "  -0.2        -0.2        -0.28867513 -0.2        -0.2        -0.2\n",
      "  -0.28867513  2.76887462 -0.36115756 -0.2        -0.54772256 -0.2\n",
      "  -0.2        -0.28867513]\n",
      " [ 0.74748596 -0.52365722  0.23464698  0.          0.          0.\n",
      "   1.23418262  0.03776948 -1.14543113  1.95552969  1.59697991  2.36484978\n",
      "  -0.06669676 -0.03225806  1.47421421  0.32087219  1.16184361 -0.43123041\n",
      "  -0.9990045  -0.5165496   0.48623805  0.65956365  1.26965181 -0.23249528\n",
      "  -0.2        -0.2        -0.28867513 -0.2        -0.2        -0.2\n",
      "  -0.28867513 -0.36115756 -0.36115756 -0.2         1.82574186 -0.2\n",
      "  -0.2        -0.28867513]] [44.         45.         55.         64.16681004 64.         68.\n",
      " 45.         79.         84.         62.         34.         43.\n",
      " 48.         54.         76.         35.34       64.         40.\n",
      " 64.16681004] [73.  70.  68.  62.  50.  63.2 65. ]\n"
     ]
    }
   ],
   "source": [
    "# Import the train_test_split function from the sklearn.model_selection utility.\n",
    "from sklearn.model_selection import train_test_split\n",
    "\n",
    "# Get the 1-dimensional flattened array of our response variable y by calling the ravel() function on y\n",
    "y = y.ravel()\n",
    "\n",
    "# Call the train_test_split() function with the first two parameters set to X_scaled and y \n",
    "# Declare four variables, X_train, X_test, y_train and y_test separated by commas \n",
    "X_train, X_test, y_train, y_test = train_test_split(X_scaled, y, test_size=0.25, random_state=1)\n",
    "\n",
    "print(X_train, X_test, y_train, y_test)"
   ]
  },
  {
   "cell_type": "markdown",
   "metadata": {
    "colab_type": "text",
    "id": "UayqbwkWAnra"
   },
   "source": [
    "Here we start the actual modeling work. First let's fit a multiple linear regression model to predict the `AdultWeekend` price."
   ]
  },
  {
   "cell_type": "markdown",
   "metadata": {
    "colab_type": "text",
    "id": "83fkLldXFCNd"
   },
   "source": [
    "# Guided Capstone Step 5. Modeling\n"
   ]
  },
  {
   "cell_type": "markdown",
   "metadata": {
    "colab_type": "text",
    "id": "JbZXsVevfr9M"
   },
   "source": [
    "This is the fifth step in the Data Science Method. In the previous steps you cleaned and prepared the datasets. Now it's time to get into the most exciting part: modeling! In this exercise, you'll build three different models and compare each model's performance. In the end, you'll choose the best model for demonstrating insights to Big Mountain management.\n",
    "\n",
    "\n",
    "\n",
    "### **The Data Science Method**  \n",
    "\n",
    "\n",
    "1.   Problem Identification \n",
    "\n",
    "2.   Data Wrangling \n",
    "  \n",
    "3.   Exploratory Data Analysis \n",
    " \n",
    "4.   Pre-processing and Training Data Development\n",
    "\n",
    "5.   **Modeling**\n",
    "  * Fit Models with Training Data Set\n",
    "  * Review Model Outcomes — Iterate over additional models as needed.\n",
    "  * Identify the Final Model\n",
    "\n",
    "6.   Documentation\n",
    "  * Review the Results\n",
    "  * Present and share your findings - storytelling\n",
    "  * Finalize Code \n",
    "  * Finalize Documentation"
   ]
  },
  {
   "cell_type": "markdown",
   "metadata": {
    "colab_type": "text",
    "id": "D_wfsP_-Anra"
   },
   "source": [
    "## Fit Models with a Training Dataset"
   ]
  },
  {
   "cell_type": "markdown",
   "metadata": {
    "colab_type": "text",
    "id": "CoI8S5SwAnrc"
   },
   "source": [
    "**<font color='teal'> Using sklearn, fit the model on your training dataset.</font>**"
   ]
  },
  {
   "cell_type": "markdown",
   "metadata": {
    "colab_type": "text",
    "id": "P_GFr8sRAnrd"
   },
   "source": [
    "#### Model 1"
   ]
  },
  {
   "cell_type": "code",
   "execution_count": 15,
   "metadata": {
    "colab": {},
    "colab_type": "code",
    "id": "fW6K7uOPAnre"
   },
   "outputs": [],
   "source": [
    "#all first model set\n",
    "from sklearn import linear_model\n",
    "from sklearn.metrics import explained_variance_score,mean_absolute_error\n",
    "lm = linear_model.LinearRegression()\n",
    "model = lm.fit(X_train,y_train)"
   ]
  },
  {
   "cell_type": "markdown",
   "metadata": {
    "colab_type": "text",
    "id": "1fHqz9-WAnrg"
   },
   "source": [
    "**<font color='teal'> Predict on the testing dataset and score the model performance with the y_test set and the y-pred values. The explained variance is a measure of the variation explained by the model. This is also known as the R-squared value. </font>**\n",
    "\n",
    "Hint: you will have to use the `predict()` method here as it's used in this [DSM article](https://medium.com/@aiden.dataminer/the-data-science-method-dsm-modeling-56b4233cad1b) about modeling. "
   ]
  },
  {
   "cell_type": "code",
   "execution_count": 16,
   "metadata": {
    "colab": {},
    "colab_type": "code",
    "id": "nIo01lFEAnrh"
   },
   "outputs": [],
   "source": [
    "# Make a variable called y_pred and assign it the result of calling predict() on our model variable with parameter X_test\n",
    "y_pred = lm.predict(X_test)"
   ]
  },
  {
   "cell_type": "markdown",
   "metadata": {
    "colab_type": "text",
    "id": "N4YS0WE2Anrk"
   },
   "source": [
    "## Review Model Outcomes — Iterate over additional models as needed"
   ]
  },
  {
   "cell_type": "code",
   "execution_count": 0,
   "metadata": {
    "colab": {},
    "colab_type": "code",
    "id": "HSh9sGIYAnrk"
   },
   "outputs": [],
   "source": [
    "# You might want to use the explained_variance_score() and mean_absolute_error() metrics.\n",
    "# To do so, you will need to import them from sklearn.metrics. \n",
    "# You can plug y_test and y_pred into the functions to evaluate the model"
   ]
  },
  {
   "cell_type": "code",
   "execution_count": 0,
   "metadata": {
    "colab": {},
    "colab_type": "code",
    "id": "ihzeo8tqAnro"
   },
   "outputs": [],
   "source": []
  },
  {
   "cell_type": "markdown",
   "metadata": {
    "colab_type": "text",
    "id": "NWJcOuSdAnrr"
   },
   "source": [
    "**<font color='teal'> Print the intercept value from the linear model. </font>**\n",
    "\n",
    "Hint: our linear regression model `lm` has an attribute `intercept_` for the intercept"
   ]
  },
  {
   "cell_type": "code",
   "execution_count": 17,
   "metadata": {
    "colab": {},
    "colab_type": "code",
    "id": "3WzWejn6Anrt"
   },
   "outputs": [
    {
     "data": {
      "text/plain": "57.750082431100246"
     },
     "execution_count": 17,
     "metadata": {},
     "output_type": "execute_result"
    }
   ],
   "source": [
    "lm.intercept_\n"
   ]
  },
  {
   "cell_type": "markdown",
   "metadata": {
    "colab_type": "text",
    "id": "edajrenAAnrv"
   },
   "source": [
    "**<font color='teal'> The intercept is the mean `AdultWeekend` price for all the resorts given the other characteristics. The addition or subtraction of each of the coefficient values in the regression are numeric adjustments applied to the intercept to provide a particular observation's value for the resulting `AdultWeekend` value. Also, because we took the time to scale our x values in the training data, we can compare each of the coeeficients for the features to determine the feature importances. Print the coefficient values from the linear model and sort in descending order to identify the top ten most important features.</font>** \n",
    "\n",
    "\n",
    "Hint: make sure to review the absolute value of the coefficients, because the adjustment may be positive or negative, but what we are looking for is the magnitude of impact on our response variable."
   ]
  },
  {
   "cell_type": "code",
   "execution_count": 61,
   "metadata": {
    "colab": {},
    "colab_type": "code",
    "id": "FEKc_lmZAnrw"
   },
   "outputs": [
    {
     "name": "stdout",
     "output_type": "stream",
     "text": [
      "Index(['Coefficient'], dtype='object')\n",
      "                    Coefficient\n",
      "Unnamed: 0         1.016697e+00\n",
      "summit_elev        5.715767e-01\n",
      "vertical_drop      1.501296e-01\n",
      "trams              8.881784e-16\n",
      "fastEight          6.106227e-16\n",
      "fastSixes          1.110223e-15\n",
      "fastQuads          2.076695e+00\n",
      "quad               2.128380e-01\n",
      "triple             2.523388e-01\n",
      "double             2.225124e+00\n",
      "surface            3.602072e+00\n",
      "total_chairs       3.375494e-02\n",
      "Runs               1.529295e-01\n",
      "TerrainParks       2.363004e+00\n",
      "LongestRun_mi      3.402724e-01\n",
      "SkiableTerrain_ac  1.105950e+00\n",
      "Snow Making_ac     1.297748e+00\n",
      "daysOpenLastYear   5.896618e-01\n",
      "yearsOpen          8.788141e-01\n",
      "averageSnowfall    4.455847e-01\n",
      "AdultWeekday       4.727322e+00\n",
      "projectedDaysOpen  2.239571e-01\n",
      "NightSkiing_ac     1.245761e+00\n",
      "cluster            6.543143e-02\n",
      "Alaska             9.697489e-01\n",
      "Colorado           7.731269e-01\n",
      "Connecticut        1.700877e+00\n",
      "Indiana            2.051317e+00\n",
      "Massachusetts      2.675066e+00\n",
      "Michigan           4.546180e-01\n",
      "Minnesota          3.137900e-01\n",
      "New York           1.715483e+00\n",
      "North Carolina     3.257187e+00\n",
      "Ohio               2.619874e+00\n",
      "Pennsylvania       8.382873e-01\n",
      "Utah               6.108474e-28\n",
      "Vermont            9.512498e-01\n",
      "Wisconsin          5.913391e-01\n"
     ]
    }
   ],
   "source": [
    "# You might want to make a pandas DataFrame displaying the coefficients for each state like so: \n",
    "df1 = pd.DataFrame(abs(lm.coef_), X.columns, columns=['Coefficient'])\n",
    "print(df1.columns)\n",
    "print(df1)"
   ]
  },
  {
   "cell_type": "markdown",
   "metadata": {
    "colab_type": "text",
    "id": "BpdALMoAAnry"
   },
   "source": [
    "**<font color='teal'>You should see that the top ten important features are different states. However, the state is not something the managers at the Big Mountain Resort can do anything about. Given that we care more about actionable traits associated with ticket pricing, rebuild the model without the state features and compare the results. </font>**\n",
    "\n",
    "Hint: Try to construct another model using exactly the steps we followed above. "
   ]
  },
  {
   "cell_type": "markdown",
   "metadata": {
    "colab_type": "text",
    "id": "-mHYA1BzAnrz"
   },
   "source": [
    "#### Model 2"
   ]
  },
  {
   "cell_type": "code",
   "execution_count": 63,
   "metadata": {
    "colab": {},
    "colab_type": "code",
    "id": "Pz1YXAdiAnr0"
   },
   "outputs": [],
   "source": [
    "df2 = pd.read_csv(\"/home/vince/nstem/models/sb/gc/gc1.2/step3_outputA.csv\")\n",
    "\n",
    "df2 = df2.drop(['state','Name','Region'], axis=1)\n",
    "\n",
    "X2 = df2.drop(['AdultWeekend'], axis=1)\n",
    "\n",
    "y2 = df2['AdultWeekend']\n",
    "\n",
    "scaler2 = pp.StandardScaler().fit(X2)\n",
    "\n",
    "X_scaled2=scaler2.transform(X2)\n",
    "\n",
    "\n"
   ]
  },
  {
   "cell_type": "code",
   "execution_count": 72,
   "metadata": {
    "colab": {},
    "colab_type": "code",
    "id": "nM1EGf16Anr2"
   },
   "outputs": [
    {
     "name": "stdout",
     "output_type": "stream",
     "text": [
      "39.91378119072297\n",
      "Index(['Coefficient'], dtype='object')\n",
      "                    Coefficient\n",
      "Unnamed: 0         2.613534e+00\n",
      "summit_elev        6.190295e+01\n",
      "vertical_drop      3.281557e+01\n",
      "trams              3.730349e-13\n",
      "fastEight          4.298784e-13\n",
      "fastSixes          2.842171e-13\n",
      "fastQuads          2.759655e+00\n",
      "quad               4.957032e+01\n",
      "triple             2.618121e+01\n",
      "double             2.701384e+01\n",
      "surface            2.777229e+01\n",
      "total_chairs       2.316383e+01\n",
      "Runs               3.223836e+01\n",
      "TerrainParks       3.448912e+00\n",
      "LongestRun_mi      2.128149e+00\n",
      "SkiableTerrain_ac  1.351813e+01\n",
      "Snow Making_ac     3.723274e+01\n",
      "daysOpenLastYear   4.786066e+01\n",
      "yearsOpen          8.365326e+00\n",
      "averageSnowfall    1.689973e+01\n",
      "AdultWeekday       3.582934e+00\n",
      "projectedDaysOpen  4.699225e+01\n",
      "NightSkiing_ac     4.937005e+01\n",
      "cluster            3.871754e+01\n"
     ]
    }
   ],
   "source": [
    "# Get the 1-dimensional flattened array of our response variable y by calling the ravel() function on y\n",
    "\n",
    "# Call the train_test_split() function with the first two parameters set to X_scaled and y\n",
    "# Declare four variables, X_train, X_test, y_train and y_test separated by commas\n",
    "X_train2, X_test2, y_train2, y_test2 = train_test_split(X_scaled2, y2, test_size=0.25, random_state=1)\n",
    "\n",
    "lm2 = linear_model.LinearRegression()\n",
    "model2 = lm2.fit(X_train2,y_train2)\n",
    "y_pred2 = lm2.predict(X_test2)\n",
    "lm2.intercept_\n",
    "print(lm2.intercept_)\n",
    "\n",
    "df2b = pd.DataFrame(abs(lm2.coef_), X2.columns, columns=['Coefficient'])\n",
    "print(df2b.columns)\n",
    "print(df2b)\n",
    "\n"
   ]
  },
  {
   "cell_type": "markdown",
   "metadata": {
    "colab_type": "text",
    "id": "JWjQLr3LAnr6"
   },
   "source": [
    "**<font color='teal'> When reviewing our new model coefficients, we see `summit_elev` is now in the number two spot. This is also difficult to change from a management prespective and highly correlated with `base_elev` and `vertical_drop`.  This time, rebuild the model without the state features\n",
    " and without the `summit_elev` and without `base_elev`and compare the results. </font>**"
   ]
  },
  {
   "cell_type": "markdown",
   "metadata": {
    "colab_type": "text",
    "id": "RXqvcn93Anr7"
   },
   "source": [
    "#### Model 3"
   ]
  },
  {
   "cell_type": "code",
   "execution_count": 70,
   "metadata": {
    "colab": {},
    "colab_type": "code",
    "id": "6eugnDNNAnr8"
   },
   "outputs": [],
   "source": [
    "df3 = pd.read_csv(\"/home/vince/nstem/models/sb/gc/gc1.2/step3_outputA.csv\")\n",
    "\n",
    "df3 = df3.drop(columns=['state','Name','Region','summit_elev'], axis=1)\n",
    "X3 = df3.drop(columns=['AdultWeekend'], axis=1)\n",
    "\n",
    "y3 = df3['AdultWeekend']\n",
    "\n",
    "\n",
    "\n",
    "scaler3 = pp.StandardScaler().fit(X3)\n",
    "\n",
    "X_scaled3=scaler3.transform(X3)\n",
    "\n"
   ]
  },
  {
   "cell_type": "code",
   "execution_count": 71,
   "metadata": {
    "colab": {},
    "colab_type": "code",
    "id": "pq0pW7G9Anr_"
   },
   "outputs": [
    {
     "name": "stdout",
     "output_type": "stream",
     "text": [
      "243.65914529063903\n",
      "Index(['Coefficient'], dtype='object')\n",
      "                    Coefficient\n",
      "Unnamed: 0         3.132335e+02\n",
      "vertical_drop      9.215883e+01\n",
      "trams              7.958079e-13\n",
      "fastEight          2.535927e-11\n",
      "fastSixes          7.793233e-11\n",
      "fastQuads          7.923598e+02\n",
      "quad               2.192581e+02\n",
      "triple             2.551161e+02\n",
      "double             1.779928e+02\n",
      "surface            1.830705e+02\n",
      "total_chairs       2.558574e+02\n",
      "Runs               4.706635e+02\n",
      "TerrainParks       1.269394e+02\n",
      "LongestRun_mi      2.582906e+02\n",
      "SkiableTerrain_ac  1.369149e+02\n",
      "Snow Making_ac     2.170708e+02\n",
      "daysOpenLastYear   3.987436e+02\n",
      "yearsOpen          1.634364e+02\n",
      "averageSnowfall    4.524575e+02\n",
      "AdultWeekday       2.835002e+02\n",
      "projectedDaysOpen  6.352121e+02\n",
      "NightSkiing_ac     6.026209e+02\n",
      "cluster            1.887560e+01\n"
     ]
    }
   ],
   "source": [
    "X_train3, X_test3, y_train3, y_test3 = train_test_split(X_scaled3, y3, test_size=0.25, random_state=1)\n",
    "\n",
    "lm3 = linear_model.LinearRegression()\n",
    "model3 = lm3.fit(X_train3,y_train3)\n",
    "y_pred3 = lm3.predict(X_test3)\n",
    "lm3.intercept_\n",
    "print(lm3.intercept_)\n",
    "\n",
    "df3b = pd.DataFrame(abs(lm3.coef_), X3.columns, columns=['Coefficient'])\n",
    "print(df3b.columns)\n",
    "print(df3b)\n",
    "\n",
    "\n",
    "\n"
   ]
  },
  {
   "cell_type": "code",
   "execution_count": 0,
   "metadata": {
    "colab": {},
    "colab_type": "code",
    "id": "reXlf0HAAnsG"
   },
   "outputs": [],
   "source": []
  },
  {
   "cell_type": "markdown",
   "metadata": {
    "colab_type": "text",
    "id": "MJvQMns6AnsI"
   },
   "source": [
    "## Identify the Final Model"
   ]
  },
  {
   "cell_type": "markdown",
   "metadata": {
    "colab_type": "text",
    "id": "LD7-3iLcAnsK"
   },
   "source": [
    "**<font color='teal'> Review the model performances in the table below and choose the best model for proving insights to Big Mountain management about what features are driving ski resort lift ticket prices. Type your choice in the final markdown cell —\n",
    "you will discuss this selection more in the next step of the guided casptone. </font>**"
   ]
  },
  {
   "cell_type": "markdown",
   "metadata": {
    "colab_type": "text",
    "id": "La5S9fRPAnsK"
   },
   "source": [
    "| Model | Explained Variance| Mean Absolute Error|Features Dropped|\n",
    "| --- | --- | --- | --- |\n",
    "| Model 1. | 0. |  |-|\n",
    "| Model 2. | 0.| |'state'|\n",
    "| Model 3. | 0. | |'state','summit_elev','base_elev'|"
   ]
  },
  {
   "cell_type": "markdown",
   "metadata": {
    "colab_type": "text",
    "id": "T2c-zn7TAnsL"
   },
   "source": [
    "Model Selection:"
   ]
  },
  {
   "cell_type": "code",
   "execution_count": 66,
   "metadata": {
    "colab": {},
    "colab_type": "code",
    "id": "CgC0eMBrAnsM"
   },
   "outputs": [
    {
     "name": "stdout",
     "output_type": "stream",
     "text": [
      "LinearRegression(copy_X=True, fit_intercept=True, n_jobs=None, normalize=False)\n"
     ]
    }
   ],
   "source": [
    "print(lm3)"
   ]
  }
 ],
 "metadata": {
  "colab": {
   "collapsed_sections": [
    "RtEspslPZyGY",
    "s0DokMkAZyGc",
    "2iuitnKcZyHS",
    "iAWQxougZyHW",
    "ThMTimlBZyHZ",
    "QwZ-LkjXZyHt",
    "srtXEA3N4-Y9",
    "ChVreJupZyIA",
    "zDgSSsq1ZyID",
    "I3GYKWfi5Llg",
    "pmMvrhbI-viE",
    "ZXDPkW3UZyIX",
    "Dnc_vHQLZyId",
    "daJxuJ-dZyIg",
    "mAQ-oHiPZyIn",
    "hnGOsp3mZyIp"
   ],
   "name": "GuidedCapstoneStep5.ipynb",
   "provenance": []
  },
  "kernelspec": {
   "display_name": "Python 3",
   "language": "python",
   "name": "python3"
  },
  "language_info": {
   "codemirror_mode": {
    "name": "ipython",
    "version": 3
   },
   "file_extension": ".py",
   "mimetype": "text/x-python",
   "name": "python",
   "nbconvert_exporter": "python",
   "pygments_lexer": "ipython3",
   "version": "3.7.3"
  },
  "toc": {
   "base_numbering": "0",
   "nav_menu": {},
   "number_sections": true,
   "sideBar": true,
   "skip_h1_title": false,
   "title_cell": "Table of Contents",
   "title_sidebar": "Contents",
   "toc_cell": true,
   "toc_position": {
    "height": "calc(100% - 180px)",
    "left": "10px",
    "top": "150px",
    "width": "288px"
   },
   "toc_section_display": true,
   "toc_window_display": true
  }
 },
 "nbformat": 4,
 "nbformat_minor": 1
}