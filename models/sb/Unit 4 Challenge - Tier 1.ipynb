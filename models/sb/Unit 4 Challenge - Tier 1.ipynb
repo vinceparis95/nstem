{
 "nbformat": 4,
 "nbformat_minor": 0,
 "metadata": {
  "kernelspec": {
   "display_name": "Python 3",
   "language": "python",
   "name": "python3"
  },
  "language_info": {
   "codemirror_mode": {
    "name": "ipython",
    "version": 3
   },
   "file_extension": ".py",
   "mimetype": "text/x-python",
   "name": "python",
   "nbconvert_exporter": "python",
   "pygments_lexer": "ipython3",
   "version": "3.7.3"
  },
  "colab": {
   "name": "Springboard Data Science Career Track Unit 4 Challenge - Tier 1 Complete.ipynb",
   "provenance": []
  }
 },
 "cells": [
  {
   "cell_type": "markdown",
   "source": [
    "# Springboard Data Science Career Track Unit 4 Challenge - Tier 1 Complete\n",
    "\n",
    "\n",
    "## Objectives\n",
    "Hey! Great job getting through those challenging DataCamp courses. You're learning a lot in a short span of time - so let's apply your knowledge in the real world. \n",
    "\n",
    "In this notebook, we're going to apply the skills you've been learning, bridging the gap between the controlled environment of DataCamp and the *slightly* messier work that data scientists do with actual datasets!\n",
    "Here’s the mystery we’re going to solve: ***which boroughs of London have seen the greatest increase in housing prices, on average, over the last two decades?***\n",
    "\n",
    "\n",
    "A borough is just a fancy word for district. You may be familiar with the five boroughs of New York… [well, there are 32 boroughs within Greater London](https://en.wikipedia.org/wiki/London_boroughs). Some of them are more desirable areas to live in, and the data will reflect that with a greater rise in housing prices.\n",
    "\n",
    "This is the Tier One notebook, which is the easiest tier. More of the code has been filled in already for you, so you have to less research on how to complete the lines. We ask that you only complete this tier if you've given Tiers Two and Three your best effort and been thwarted. We also ask, once you complete this tier, to go back to the highest difficulty level and give it another go. We really want you to internalize the skills you're learning.\n",
    "\n",
    "\n",
    "This challenge will make use of only what you learned in the following DataCamp courses: \n",
    "- Prework courses (Introduction to Python for Data Science, Intermediate Python for Data Science)\n",
    "- Data Types for Data Science\n",
    "- Python Data Science Toolbox (Part One) \n",
    "- pandas Foundations\n",
    "- Manipulating DataFrames with pandas\n",
    "- Merging DataFrames with pandas\n",
    "\n",
    "Of the tools, techniques and concepts in the above DataCamp courses, this challenge should require the application of the following: \n",
    "- **pandas**\n",
    "    - **data ingestion and inspection** (pandas Foundations, Module One) \n",
    "    - **exploratory data analysis** (pandas Foundations, Module Two)\n",
    "    - **tidying and cleaning** (Manipulating DataFrames with pandas, Module Three) \n",
    "    - **transforming DataFrames** (Manipulating DataFrames with pandas, Module One)\n",
    "    - **subsetting DataFrames with lists** (Manipulating DataFrames with pandas, Module One) \n",
    "    - **filtering DataFrames** (Manipulating DataFrames with pandas, Module One) \n",
    "    - **grouping data** (Manipulating DataFrames with pandas, Module Four) \n",
    "    - **melting data** (Manipulating DataFrames with pandas, Module Three) \n",
    "    - **advanced indexing** (Manipulating DataFrames with pandas, Module Four) \n",
    "- **matplotlib** (Intermediate Python for Data Science, Module One)\n",
    "- **fundamental data types** (Data Types for Data Science, Module One) \n",
    "- **dictionaries** (Intermediate Python for Data Science, Module Two)\n",
    "- **handling dates and times** (Data Types for Data Science, Module Four)\n",
    "- **function definition** (Python Data Science Toolbox - Part One, Module One)\n",
    "- **default arguments, variable length, and scope** (Python Data Science Toolbox - Part One, Module Two) \n",
    "- **lambda functions and error handling** (Python Data Science Toolbox - Part One, Module Four) "
   ],
   "metadata": {
    "collapsed": false
   }
  },
  {
   "cell_type": "markdown",
   "source": [
    "## The Data Science Pipeline\n",
    "Data Science is magical. In this case study, you'll get to apply some complex machine learning algorithms. But as  [David Spiegelhalter](https://www.youtube.com/watch?v=oUs1uvsz0Ok) reminds us, there is no substitute for simply **taking a really, really good look at the data.** Sometimes, this is all we need to answer our question.\n",
    "\n",
    "Data Science projects generally adhere to the four stages of Data Science Pipeline:\n",
    "1. Sourcing and loading \n",
    "2. Cleaning, transforming, and visualizing \n",
    "3. Modeling \n",
    "4. Evaluating and concluding "
   ],
   "metadata": {
    "collapsed": false
   }
  },
  {
   "cell_type": "markdown",
   "source": [
    "### 1. Sourcing and Loading \n",
    "\n",
    "Any Data Science project kicks off by importing  ***pandas***. The documentation of this wonderful library can be found [here](https://pandas.pydata.org/). As you've seen, pandas is conveniently connected to the [Numpy](http://www.numpy.org/) and [Matplotlib](https://matplotlib.org/) libraries. \n",
    "\n",
    "***Hint:*** This part of the data science pipeline will test those skills you acquired in the pandas Foundations course, Module One. "
   ],
   "metadata": {
    "collapsed": false
   }
  },
  {
   "cell_type": "markdown",
   "source": [
    "#### 1.1. Importing Libraries"
   ],
   "metadata": {
    "collapsed": false
   }
  },
  {
   "cell_type": "code",
   "execution_count": 3,
   "outputs": [],
   "source": [
    "# Let's imJport the pandas, numpy libraries as pd, and np respectively.\n",
    "import pandas as pd\n",
    "import numpy as np\n",
    "\n",
    "# Load the pyplot collection of functions from matplotlib, as plt \n",
    "import matplotlib.pyplot as plt"
   ],
   "metadata": {
    "collapsed": false,
    "pycharm": {
     "name": "#%%\n"
    }
   }
  },
  {
   "cell_type": "markdown",
   "source": [
    "#### 1.2.  Loading the data\n",
    "\n",
    "\n",
    "Your the data comes from the [London Datastore](https://data.london.gov.uk/): a free, open-source data-sharing portal with a massive range of London-oriented datasets."
   ],
   "metadata": {
    "collapsed": false
   }
  },
  {
   "cell_type": "code",
   "execution_count": 4,
   "outputs": [],
   "source": [
    "# First, make a variable called url_LondonHousePrices, and assign it the following link, enclosed in quotation-marks as a string:\n",
    "# https://data.london.gov.uk/download/uk-house-price-index/70ac0766-8902-4eb5-aab5-01951aaed773/UK%20House%20price%20index.xls\n",
    "\n",
    "url_LondonHousePrices= \"https://data.london.gov.uk/download/uk-house-price-index/70ac0766-8902-4eb5-aab5-01951aaed773/UK%20House%20price%20index.xls\"\n",
    "\n",
    "# The dataset we're interested in contains the Average prices of the houses, and is actually on a particular sheet of the Excel file. \n",
    "# As a result, we need to specify the sheet name in the read_excel() method.\n",
    "# Put this data into a variable called properties.  \n",
    "properties = pd.read_excel(url_LondonHousePrices, sheet_name='Average price', index_col= None)"
   ],
   "metadata": {
    "collapsed": false,
    "pycharm": {
     "name": "#%%\n"
    }
   }
  },
  {
   "cell_type": "markdown",
   "source": [
    "### 2. Cleaning, transforming, and visualizing \n",
    "This second stage is arguably the most important part of any Data Science project. The first thing to do is take a proper look at the data. Cleaning forms the majority of this stage, and can be done both before or after Transformation.\n",
    "\n",
    "The end goal of data cleaning is to have tidy data. When data is tidy: \n",
    "\n",
    "1. Each variable has a column.\n",
    "2. Each observation forms a row.\n",
    "\n",
    "Keep the end goal in mind as you move through this process, every step will take you closer. \n",
    "\n",
    "\n",
    "\n",
    "***Hint:*** This part of the data science pipeline should test those skills you acquired in: \n",
    "- Intermediate Python for data science, all modules.\n",
    "- pandas Foundations, all modules. \n",
    "- Manipulating DataFrames with pandas, all modules.\n",
    "- Data Types for Data Science, Module Four.\n",
    "- Python Data Science Toolbox - Part One, all modules"
   ],
   "metadata": {
    "collapsed": false
   }
  },
  {
   "cell_type": "markdown",
   "source": [
    "#### 2.1. Exploring the data"
   ],
   "metadata": {
    "collapsed": false
   }
  },
  {
   "cell_type": "code",
   "execution_count": 5,
   "outputs": [
    {
     "data": {
      "text/plain": "(303, 49)"
     },
     "execution_count": 5,
     "metadata": {},
     "output_type": "execute_result"
    }
   ],
   "source": [
    "# First off, let's use .shape feature of pandas DataFrames to look at the number of rows and columns. \n",
    "properties.shape"
   ],
   "metadata": {
    "collapsed": false,
    "pycharm": {
     "name": "#%%\n"
    }
   }
  },
  {
   "cell_type": "code",
   "execution_count": 20,
   "outputs": [
    {
     "data": {
      "text/plain": "  Unnamed: 0 City of London Barking & Dagenham     Barnet     Bexley  \\\n0        NaT      E09000001          E09000002  E09000003  E09000004   \n1 1995-01-01          91449            50460.2    93284.5    64958.1   \n2 1995-02-01        82202.8            51085.8    93190.2    64787.9   \n3 1995-03-01        79120.7              51269    92247.5    64367.5   \n4 1995-04-01        77101.2            53133.5    90762.9    64277.7   \n\n       Brent    Bromley     Camden    Croydon     Ealing  ... NORTH WEST  \\\n0  E09000005  E09000006  E09000007  E09000008  E09000009  ...  E12000002   \n1    71306.6    81671.5     120933    69158.2    79885.9  ...    43958.5   \n2    72022.3    81657.6     119509    68951.1    80897.1  ...    43925.4   \n3    72015.8    81449.3     120282    68712.4    81379.9  ...    44434.9   \n4    72965.6    81124.4     120098      68610    82188.9  ...    44267.8   \n\n  YORKS & THE HUMBER EAST MIDLANDS WEST MIDLANDS EAST OF ENGLAND     LONDON  \\\n0          E12000003     E12000004     E12000005       E12000006  E12000007   \n1            44803.4       45544.5       48527.5         56701.6    74435.8   \n2            44528.8       46051.6       49341.3         56593.6    72777.9   \n3            45200.5       45383.8       49442.2         56171.2    73896.8   \n4            45614.3       46124.2       49455.9         56567.9    74455.3   \n\n  SOUTH EAST SOUTH WEST Unnamed: 47    England  \n0  E12000008  E12000009         NaN  E92000001  \n1    64018.9    54705.2         NaN    53202.8  \n2      63715    54356.1         NaN    53096.2  \n3    64113.6    53583.1         NaN    53201.3  \n4    64623.2      54786         NaN    53590.9  \n\n[5 rows x 49 columns]",
      "text/html": "<div>\n<style scoped>\n    .dataframe tbody tr th:only-of-type {\n        vertical-align: middle;\n    }\n\n    .dataframe tbody tr th {\n        vertical-align: top;\n    }\n\n    .dataframe thead th {\n        text-align: right;\n    }\n</style>\n<table border=\"1\" class=\"dataframe\">\n  <thead>\n    <tr style=\"text-align: right;\">\n      <th></th>\n      <th>Unnamed: 0</th>\n      <th>City of London</th>\n      <th>Barking &amp; Dagenham</th>\n      <th>Barnet</th>\n      <th>Bexley</th>\n      <th>Brent</th>\n      <th>Bromley</th>\n      <th>Camden</th>\n      <th>Croydon</th>\n      <th>Ealing</th>\n      <th>...</th>\n      <th>NORTH WEST</th>\n      <th>YORKS &amp; THE HUMBER</th>\n      <th>EAST MIDLANDS</th>\n      <th>WEST MIDLANDS</th>\n      <th>EAST OF ENGLAND</th>\n      <th>LONDON</th>\n      <th>SOUTH EAST</th>\n      <th>SOUTH WEST</th>\n      <th>Unnamed: 47</th>\n      <th>England</th>\n    </tr>\n  </thead>\n  <tbody>\n    <tr>\n      <th>0</th>\n      <td>NaT</td>\n      <td>E09000001</td>\n      <td>E09000002</td>\n      <td>E09000003</td>\n      <td>E09000004</td>\n      <td>E09000005</td>\n      <td>E09000006</td>\n      <td>E09000007</td>\n      <td>E09000008</td>\n      <td>E09000009</td>\n      <td>...</td>\n      <td>E12000002</td>\n      <td>E12000003</td>\n      <td>E12000004</td>\n      <td>E12000005</td>\n      <td>E12000006</td>\n      <td>E12000007</td>\n      <td>E12000008</td>\n      <td>E12000009</td>\n      <td>NaN</td>\n      <td>E92000001</td>\n    </tr>\n    <tr>\n      <th>1</th>\n      <td>1995-01-01</td>\n      <td>91449</td>\n      <td>50460.2</td>\n      <td>93284.5</td>\n      <td>64958.1</td>\n      <td>71306.6</td>\n      <td>81671.5</td>\n      <td>120933</td>\n      <td>69158.2</td>\n      <td>79885.9</td>\n      <td>...</td>\n      <td>43958.5</td>\n      <td>44803.4</td>\n      <td>45544.5</td>\n      <td>48527.5</td>\n      <td>56701.6</td>\n      <td>74435.8</td>\n      <td>64018.9</td>\n      <td>54705.2</td>\n      <td>NaN</td>\n      <td>53202.8</td>\n    </tr>\n    <tr>\n      <th>2</th>\n      <td>1995-02-01</td>\n      <td>82202.8</td>\n      <td>51085.8</td>\n      <td>93190.2</td>\n      <td>64787.9</td>\n      <td>72022.3</td>\n      <td>81657.6</td>\n      <td>119509</td>\n      <td>68951.1</td>\n      <td>80897.1</td>\n      <td>...</td>\n      <td>43925.4</td>\n      <td>44528.8</td>\n      <td>46051.6</td>\n      <td>49341.3</td>\n      <td>56593.6</td>\n      <td>72777.9</td>\n      <td>63715</td>\n      <td>54356.1</td>\n      <td>NaN</td>\n      <td>53096.2</td>\n    </tr>\n    <tr>\n      <th>3</th>\n      <td>1995-03-01</td>\n      <td>79120.7</td>\n      <td>51269</td>\n      <td>92247.5</td>\n      <td>64367.5</td>\n      <td>72015.8</td>\n      <td>81449.3</td>\n      <td>120282</td>\n      <td>68712.4</td>\n      <td>81379.9</td>\n      <td>...</td>\n      <td>44434.9</td>\n      <td>45200.5</td>\n      <td>45383.8</td>\n      <td>49442.2</td>\n      <td>56171.2</td>\n      <td>73896.8</td>\n      <td>64113.6</td>\n      <td>53583.1</td>\n      <td>NaN</td>\n      <td>53201.3</td>\n    </tr>\n    <tr>\n      <th>4</th>\n      <td>1995-04-01</td>\n      <td>77101.2</td>\n      <td>53133.5</td>\n      <td>90762.9</td>\n      <td>64277.7</td>\n      <td>72965.6</td>\n      <td>81124.4</td>\n      <td>120098</td>\n      <td>68610</td>\n      <td>82188.9</td>\n      <td>...</td>\n      <td>44267.8</td>\n      <td>45614.3</td>\n      <td>46124.2</td>\n      <td>49455.9</td>\n      <td>56567.9</td>\n      <td>74455.3</td>\n      <td>64623.2</td>\n      <td>54786</td>\n      <td>NaN</td>\n      <td>53590.9</td>\n    </tr>\n  </tbody>\n</table>\n<p>5 rows × 49 columns</p>\n</div>"
     },
     "execution_count": 20,
     "metadata": {},
     "output_type": "execute_result"
    }
   ],
   "source": [
    "# Using the .head() method, let's check out the state of our dataset.  \n",
    "properties.head()"
   ],
   "metadata": {
    "collapsed": false,
    "pycharm": {
     "name": "#%%\n"
    }
   }
  },
  {
   "cell_type": "markdown",
   "source": [
    "Oh no! What are you supposed to do with this?\n",
    "\n",
    "You've got the data, but it doesn't look tidy. At this stage, you'd struggle to perform analysis on it. It is normal for your initial data set to be formatted in a way that is not conducive to analysis. A big part of your job is fixing that. \n",
    "\n",
    "Best practice is for pandas DataFrames to contain the **observations of interest** as rows, and the features of those observations as columns. You want **tidy** DataFrames: whose rows are observations and whose columns are variables.\n",
    "\n",
    "\n",
    "Notice here that the column headings are the *particular* boroughs, which is your observation of interest. The first column contains datetime objects that capture a particular month and year, which is a variable. Most of the other cell-values are the average proprety values of the borough corresponding to that time stamp. \n",
    "\n",
    "Clearly, you need to roll up your sleeves and do some  **cleaning**. "
   ],
   "metadata": {
    "collapsed": false
   }
  },
  {
   "cell_type": "markdown",
   "source": [
    "####  2.2. Cleaning the data (Part 1)\n",
    "Data cleaning has a bad rep, but remember what your momma told you: cleanliness is next to godliness. Data cleaning can be really satisfying and fun. In the dark ages of programming, data cleaning was a tedious and difficult ordeal. Nowadays, new and improved tools have simplified the process. Getting good at data cleaning opens up a world of possibilities for data scientists and programmers. \n",
    " \n",
    "The first operation you want to do on the dataset is called **transposition**. You *transpose* a table when you flip the columns into rows, and *vice versa*. \n",
    "\n",
    "If you transpose this DataFrame then the borough names will become the row indices, and the date time objects will become the column headers. Since your end goal is tidy data, where each row will represent a borough and each column will contain data about that borough at a certain point in time, transposing the table bring us closer to where you want to be.\n",
    "\n",
    "Python makes transposition simple.\n",
    "\n",
    "Each pandas DataFrame already has the *.T* attribute which is the transposed version of that DataFrame.\n",
    "\n",
    "Assign the transposed version of the original to a new variable. Let’s call it *properties_T*. \n",
    "\n",
    "Boom! You’ve got a transposed table to play with."
   ],
   "metadata": {
    "collapsed": false
   }
  },
  {
   "cell_type": "code",
   "execution_count": 21,
   "outputs": [],
   "source": [
    "# Do this here\n",
    "properties_T = properties.T"
   ],
   "metadata": {
    "collapsed": false,
    "pycharm": {
     "name": "#%%\n"
    }
   }
  },
  {
   "cell_type": "code",
   "execution_count": 22,
   "outputs": [
    {
     "data": {
      "text/plain": "                          0                    1                    2    \\\nUnnamed: 0                NaT  1995-01-01 00:00:00  1995-02-01 00:00:00   \nCity of London      E09000001                91449              82202.8   \nBarking & Dagenham  E09000002              50460.2              51085.8   \nBarnet              E09000003              93284.5              93190.2   \nBexley              E09000004              64958.1              64787.9   \n\n                                    3                    4    \\\nUnnamed: 0          1995-03-01 00:00:00  1995-04-01 00:00:00   \nCity of London                  79120.7              77101.2   \nBarking & Dagenham                51269              53133.5   \nBarnet                          92247.5              90762.9   \nBexley                          64367.5              64277.7   \n\n                                    5                    6    \\\nUnnamed: 0          1995-05-01 00:00:00  1995-06-01 00:00:00   \nCity of London                  84409.1              94900.5   \nBarking & Dagenham              53042.2              53700.3   \nBarnet                            90258              90107.2   \nBexley                          63997.1              64252.3   \n\n                                    7                    8    \\\nUnnamed: 0          1995-07-01 00:00:00  1995-08-01 00:00:00   \nCity of London                   110128               112329   \nBarking & Dagenham              52113.1              52232.2   \nBarnet                          91441.2              92361.3   \nBexley                          63722.7              64432.6   \n\n                                    9    ...                  293  \\\nUnnamed: 0          1995-09-01 00:00:00  ...  2019-05-01 00:00:00   \nCity of London                   104473  ...               718930   \nBarking & Dagenham              51471.6  ...               295829   \nBarnet                          93273.1  ...               504765   \nBexley                          64509.5  ...               337543   \n\n                                    294                  295  \\\nUnnamed: 0          2019-06-01 00:00:00  2019-07-01 00:00:00   \nCity of London                   761786               738370   \nBarking & Dagenham               295179               299060   \nBarnet                           512818               515235   \nBexley                           339684               338257   \n\n                                    296                  297  \\\nUnnamed: 0          2019-08-01 00:00:00  2019-09-01 00:00:00   \nCity of London                   795632               792195   \nBarking & Dagenham               300402               305488   \nBarnet                           528958               527691   \nBexley                           337745               334075   \n\n                                    298                  299  \\\nUnnamed: 0          2019-10-01 00:00:00  2019-11-01 00:00:00   \nCity of London                   827375               778870   \nBarking & Dagenham               304563               306376   \nBarnet                           525985               522683   \nBexley                           333853               334044   \n\n                                    300                  301  \\\nUnnamed: 0          2019-12-01 00:00:00  2020-01-01 00:00:00   \nCity of London                   739645               748457   \nBarking & Dagenham               301435               303631   \nBarnet                           519037               518271   \nBexley                           336579               335492   \n\n                                    302  \nUnnamed: 0          2020-02-01 00:00:00  \nCity of London                   730282  \nBarking & Dagenham               298960  \nBarnet                           526024  \nBexley                           341588  \n\n[5 rows x 303 columns]",
      "text/html": "<div>\n<style scoped>\n    .dataframe tbody tr th:only-of-type {\n        vertical-align: middle;\n    }\n\n    .dataframe tbody tr th {\n        vertical-align: top;\n    }\n\n    .dataframe thead th {\n        text-align: right;\n    }\n</style>\n<table border=\"1\" class=\"dataframe\">\n  <thead>\n    <tr style=\"text-align: right;\">\n      <th></th>\n      <th>0</th>\n      <th>1</th>\n      <th>2</th>\n      <th>3</th>\n      <th>4</th>\n      <th>5</th>\n      <th>6</th>\n      <th>7</th>\n      <th>8</th>\n      <th>9</th>\n      <th>...</th>\n      <th>293</th>\n      <th>294</th>\n      <th>295</th>\n      <th>296</th>\n      <th>297</th>\n      <th>298</th>\n      <th>299</th>\n      <th>300</th>\n      <th>301</th>\n      <th>302</th>\n    </tr>\n  </thead>\n  <tbody>\n    <tr>\n      <th>Unnamed: 0</th>\n      <td>NaT</td>\n      <td>1995-01-01 00:00:00</td>\n      <td>1995-02-01 00:00:00</td>\n      <td>1995-03-01 00:00:00</td>\n      <td>1995-04-01 00:00:00</td>\n      <td>1995-05-01 00:00:00</td>\n      <td>1995-06-01 00:00:00</td>\n      <td>1995-07-01 00:00:00</td>\n      <td>1995-08-01 00:00:00</td>\n      <td>1995-09-01 00:00:00</td>\n      <td>...</td>\n      <td>2019-05-01 00:00:00</td>\n      <td>2019-06-01 00:00:00</td>\n      <td>2019-07-01 00:00:00</td>\n      <td>2019-08-01 00:00:00</td>\n      <td>2019-09-01 00:00:00</td>\n      <td>2019-10-01 00:00:00</td>\n      <td>2019-11-01 00:00:00</td>\n      <td>2019-12-01 00:00:00</td>\n      <td>2020-01-01 00:00:00</td>\n      <td>2020-02-01 00:00:00</td>\n    </tr>\n    <tr>\n      <th>City of London</th>\n      <td>E09000001</td>\n      <td>91449</td>\n      <td>82202.8</td>\n      <td>79120.7</td>\n      <td>77101.2</td>\n      <td>84409.1</td>\n      <td>94900.5</td>\n      <td>110128</td>\n      <td>112329</td>\n      <td>104473</td>\n      <td>...</td>\n      <td>718930</td>\n      <td>761786</td>\n      <td>738370</td>\n      <td>795632</td>\n      <td>792195</td>\n      <td>827375</td>\n      <td>778870</td>\n      <td>739645</td>\n      <td>748457</td>\n      <td>730282</td>\n    </tr>\n    <tr>\n      <th>Barking &amp; Dagenham</th>\n      <td>E09000002</td>\n      <td>50460.2</td>\n      <td>51085.8</td>\n      <td>51269</td>\n      <td>53133.5</td>\n      <td>53042.2</td>\n      <td>53700.3</td>\n      <td>52113.1</td>\n      <td>52232.2</td>\n      <td>51471.6</td>\n      <td>...</td>\n      <td>295829</td>\n      <td>295179</td>\n      <td>299060</td>\n      <td>300402</td>\n      <td>305488</td>\n      <td>304563</td>\n      <td>306376</td>\n      <td>301435</td>\n      <td>303631</td>\n      <td>298960</td>\n    </tr>\n    <tr>\n      <th>Barnet</th>\n      <td>E09000003</td>\n      <td>93284.5</td>\n      <td>93190.2</td>\n      <td>92247.5</td>\n      <td>90762.9</td>\n      <td>90258</td>\n      <td>90107.2</td>\n      <td>91441.2</td>\n      <td>92361.3</td>\n      <td>93273.1</td>\n      <td>...</td>\n      <td>504765</td>\n      <td>512818</td>\n      <td>515235</td>\n      <td>528958</td>\n      <td>527691</td>\n      <td>525985</td>\n      <td>522683</td>\n      <td>519037</td>\n      <td>518271</td>\n      <td>526024</td>\n    </tr>\n    <tr>\n      <th>Bexley</th>\n      <td>E09000004</td>\n      <td>64958.1</td>\n      <td>64787.9</td>\n      <td>64367.5</td>\n      <td>64277.7</td>\n      <td>63997.1</td>\n      <td>64252.3</td>\n      <td>63722.7</td>\n      <td>64432.6</td>\n      <td>64509.5</td>\n      <td>...</td>\n      <td>337543</td>\n      <td>339684</td>\n      <td>338257</td>\n      <td>337745</td>\n      <td>334075</td>\n      <td>333853</td>\n      <td>334044</td>\n      <td>336579</td>\n      <td>335492</td>\n      <td>341588</td>\n    </tr>\n  </tbody>\n</table>\n<p>5 rows × 303 columns</p>\n</div>"
     },
     "execution_count": 22,
     "metadata": {},
     "output_type": "execute_result"
    }
   ],
   "source": [
    "# Let's check the head of our new Transposed DataFrame. \n",
    "properties_T.head()"
   ],
   "metadata": {
    "collapsed": false,
    "pycharm": {
     "name": "#%%\n"
    }
   }
  },
  {
   "cell_type": "markdown",
   "source": [
    "You've made some progress! But with new progress comes new issues. For one, the row indices of our DataFrame contain the names of the boroughs. You should never have a piece of information we want to analyze as an index, this information should be within the DataFrame itself. The indices should just be a unique ID, almost always a number.\n",
    "\n",
    "Those names are perhaps the most important piece of information! Put them where you can work with them."
   ],
   "metadata": {
    "collapsed": false
   }
  },
  {
   "cell_type": "code",
   "execution_count": 23,
   "outputs": [
    {
     "data": {
      "text/plain": "Index(['Unnamed: 0', 'City of London', 'Barking & Dagenham', 'Barnet',\n       'Bexley', 'Brent', 'Bromley', 'Camden', 'Croydon', 'Ealing', 'Enfield',\n       'Greenwich', 'Hackney', 'Hammersmith & Fulham', 'Haringey', 'Harrow',\n       'Havering', 'Hillingdon', 'Hounslow', 'Islington',\n       'Kensington & Chelsea', 'Kingston upon Thames', 'Lambeth', 'Lewisham',\n       'Merton', 'Newham', 'Redbridge', 'Richmond upon Thames', 'Southwark',\n       'Sutton', 'Tower Hamlets', 'Waltham Forest', 'Wandsworth',\n       'Westminster', 'Unnamed: 34', 'Inner London', 'Outer London',\n       'Unnamed: 37', 'NORTH EAST', 'NORTH WEST', 'YORKS & THE HUMBER',\n       'EAST MIDLANDS', 'WEST MIDLANDS', 'EAST OF ENGLAND', 'LONDON',\n       'SOUTH EAST', 'SOUTH WEST', 'Unnamed: 47', 'England'],\n      dtype='object')"
     },
     "execution_count": 23,
     "metadata": {},
     "output_type": "execute_result"
    }
   ],
   "source": [
    "# To confirm what our row indices are, let's call the .index variable on our properties_T DataFrame. \n",
    "properties_T.index"
   ],
   "metadata": {
    "collapsed": false,
    "pycharm": {
     "name": "#%%\n"
    }
   }
  },
  {
   "cell_type": "code",
   "execution_count": 24,
   "outputs": [],
   "source": [
    "# Our suspicion was correct. \n",
    "# Call the .reset_index() method on properties_T to reset the indices, and the reassign the result to properties_T: \n",
    "properties_T = properties_T.reset_index()"
   ],
   "metadata": {
    "collapsed": false,
    "pycharm": {
     "name": "#%%\n"
    }
   }
  },
  {
   "cell_type": "code",
   "execution_count": 25,
   "outputs": [
    {
     "data": {
      "text/plain": "RangeIndex(start=0, stop=49, step=1)"
     },
     "execution_count": 25,
     "metadata": {},
     "output_type": "execute_result"
    }
   ],
   "source": [
    "# Now let's check out our DataFrames indices: \n",
    "properties_T.index"
   ],
   "metadata": {
    "collapsed": false,
    "pycharm": {
     "name": "#%%\n"
    }
   }
  },
  {
   "cell_type": "markdown",
   "source": [
    "Progress! \n",
    "\n",
    "The indicies are now a numerical RangeIndex, exactly what you want. \n",
    "\n",
    "**Note**: if you call the reset_index() line more than once, you'll get an error because a whole extra level of row indices will have been inserted! If you do this, don't worry. Just hit Kernel > Restart, then run all the cells up to here to get back to where you were. "
   ],
   "metadata": {
    "collapsed": false
   }
  },
  {
   "cell_type": "code",
   "execution_count": 26,
   "outputs": [
    {
     "data": {
      "text/plain": "                index          0                    1                    2  \\\n0          Unnamed: 0        NaT  1995-01-01 00:00:00  1995-02-01 00:00:00   \n1      City of London  E09000001                91449              82202.8   \n2  Barking & Dagenham  E09000002              50460.2              51085.8   \n3              Barnet  E09000003              93284.5              93190.2   \n4              Bexley  E09000004              64958.1              64787.9   \n\n                     3                    4                    5  \\\n0  1995-03-01 00:00:00  1995-04-01 00:00:00  1995-05-01 00:00:00   \n1              79120.7              77101.2              84409.1   \n2                51269              53133.5              53042.2   \n3              92247.5              90762.9                90258   \n4              64367.5              64277.7              63997.1   \n\n                     6                    7                    8  ...  \\\n0  1995-06-01 00:00:00  1995-07-01 00:00:00  1995-08-01 00:00:00  ...   \n1              94900.5               110128               112329  ...   \n2              53700.3              52113.1              52232.2  ...   \n3              90107.2              91441.2              92361.3  ...   \n4              64252.3              63722.7              64432.6  ...   \n\n                   293                  294                  295  \\\n0  2019-05-01 00:00:00  2019-06-01 00:00:00  2019-07-01 00:00:00   \n1               718930               761786               738370   \n2               295829               295179               299060   \n3               504765               512818               515235   \n4               337543               339684               338257   \n\n                   296                  297                  298  \\\n0  2019-08-01 00:00:00  2019-09-01 00:00:00  2019-10-01 00:00:00   \n1               795632               792195               827375   \n2               300402               305488               304563   \n3               528958               527691               525985   \n4               337745               334075               333853   \n\n                   299                  300                  301  \\\n0  2019-11-01 00:00:00  2019-12-01 00:00:00  2020-01-01 00:00:00   \n1               778870               739645               748457   \n2               306376               301435               303631   \n3               522683               519037               518271   \n4               334044               336579               335492   \n\n                   302  \n0  2020-02-01 00:00:00  \n1               730282  \n2               298960  \n3               526024  \n4               341588  \n\n[5 rows x 304 columns]",
      "text/html": "<div>\n<style scoped>\n    .dataframe tbody tr th:only-of-type {\n        vertical-align: middle;\n    }\n\n    .dataframe tbody tr th {\n        vertical-align: top;\n    }\n\n    .dataframe thead th {\n        text-align: right;\n    }\n</style>\n<table border=\"1\" class=\"dataframe\">\n  <thead>\n    <tr style=\"text-align: right;\">\n      <th></th>\n      <th>index</th>\n      <th>0</th>\n      <th>1</th>\n      <th>2</th>\n      <th>3</th>\n      <th>4</th>\n      <th>5</th>\n      <th>6</th>\n      <th>7</th>\n      <th>8</th>\n      <th>...</th>\n      <th>293</th>\n      <th>294</th>\n      <th>295</th>\n      <th>296</th>\n      <th>297</th>\n      <th>298</th>\n      <th>299</th>\n      <th>300</th>\n      <th>301</th>\n      <th>302</th>\n    </tr>\n  </thead>\n  <tbody>\n    <tr>\n      <th>0</th>\n      <td>Unnamed: 0</td>\n      <td>NaT</td>\n      <td>1995-01-01 00:00:00</td>\n      <td>1995-02-01 00:00:00</td>\n      <td>1995-03-01 00:00:00</td>\n      <td>1995-04-01 00:00:00</td>\n      <td>1995-05-01 00:00:00</td>\n      <td>1995-06-01 00:00:00</td>\n      <td>1995-07-01 00:00:00</td>\n      <td>1995-08-01 00:00:00</td>\n      <td>...</td>\n      <td>2019-05-01 00:00:00</td>\n      <td>2019-06-01 00:00:00</td>\n      <td>2019-07-01 00:00:00</td>\n      <td>2019-08-01 00:00:00</td>\n      <td>2019-09-01 00:00:00</td>\n      <td>2019-10-01 00:00:00</td>\n      <td>2019-11-01 00:00:00</td>\n      <td>2019-12-01 00:00:00</td>\n      <td>2020-01-01 00:00:00</td>\n      <td>2020-02-01 00:00:00</td>\n    </tr>\n    <tr>\n      <th>1</th>\n      <td>City of London</td>\n      <td>E09000001</td>\n      <td>91449</td>\n      <td>82202.8</td>\n      <td>79120.7</td>\n      <td>77101.2</td>\n      <td>84409.1</td>\n      <td>94900.5</td>\n      <td>110128</td>\n      <td>112329</td>\n      <td>...</td>\n      <td>718930</td>\n      <td>761786</td>\n      <td>738370</td>\n      <td>795632</td>\n      <td>792195</td>\n      <td>827375</td>\n      <td>778870</td>\n      <td>739645</td>\n      <td>748457</td>\n      <td>730282</td>\n    </tr>\n    <tr>\n      <th>2</th>\n      <td>Barking &amp; Dagenham</td>\n      <td>E09000002</td>\n      <td>50460.2</td>\n      <td>51085.8</td>\n      <td>51269</td>\n      <td>53133.5</td>\n      <td>53042.2</td>\n      <td>53700.3</td>\n      <td>52113.1</td>\n      <td>52232.2</td>\n      <td>...</td>\n      <td>295829</td>\n      <td>295179</td>\n      <td>299060</td>\n      <td>300402</td>\n      <td>305488</td>\n      <td>304563</td>\n      <td>306376</td>\n      <td>301435</td>\n      <td>303631</td>\n      <td>298960</td>\n    </tr>\n    <tr>\n      <th>3</th>\n      <td>Barnet</td>\n      <td>E09000003</td>\n      <td>93284.5</td>\n      <td>93190.2</td>\n      <td>92247.5</td>\n      <td>90762.9</td>\n      <td>90258</td>\n      <td>90107.2</td>\n      <td>91441.2</td>\n      <td>92361.3</td>\n      <td>...</td>\n      <td>504765</td>\n      <td>512818</td>\n      <td>515235</td>\n      <td>528958</td>\n      <td>527691</td>\n      <td>525985</td>\n      <td>522683</td>\n      <td>519037</td>\n      <td>518271</td>\n      <td>526024</td>\n    </tr>\n    <tr>\n      <th>4</th>\n      <td>Bexley</td>\n      <td>E09000004</td>\n      <td>64958.1</td>\n      <td>64787.9</td>\n      <td>64367.5</td>\n      <td>64277.7</td>\n      <td>63997.1</td>\n      <td>64252.3</td>\n      <td>63722.7</td>\n      <td>64432.6</td>\n      <td>...</td>\n      <td>337543</td>\n      <td>339684</td>\n      <td>338257</td>\n      <td>337745</td>\n      <td>334075</td>\n      <td>333853</td>\n      <td>334044</td>\n      <td>336579</td>\n      <td>335492</td>\n      <td>341588</td>\n    </tr>\n  </tbody>\n</table>\n<p>5 rows × 304 columns</p>\n</div>"
     },
     "execution_count": 26,
     "metadata": {},
     "output_type": "execute_result"
    }
   ],
   "source": [
    "# Call the head() function again on properties_T to check out the new row indices: \n",
    "properties_T.head()"
   ],
   "metadata": {
    "collapsed": false,
    "pycharm": {
     "name": "#%%\n"
    }
   }
  },
  {
   "cell_type": "markdown",
   "source": [
    "You're getting somewhere, but your column headings are mainly just integers. The first one is the string 'index' and the rest are integers ranging from 0 to 296, inclusive.\n",
    "\n",
    "For the ultimate aim of having a *tidy* DataFrame, you'll turn the datetimes found along the first row (at index 0) into the column headings.  The resulting DataFrame will have boroughs as rows, the columns as dates (each representing a particular month), and the cell-values as the average property value sold in that borough for that month. "
   ],
   "metadata": {
    "collapsed": false
   }
  },
  {
   "cell_type": "code",
   "execution_count": 27,
   "outputs": [
    {
     "data": {
      "text/plain": "Index(['index',       0,       1,       2,       3,       4,       5,       6,\n             7,       8,\n       ...\n           293,     294,     295,     296,     297,     298,     299,     300,\n           301,     302],\n      dtype='object', length=304)"
     },
     "execution_count": 27,
     "metadata": {},
     "output_type": "execute_result"
    }
   ],
   "source": [
    "# To confirm that our DataFrame's columns are mainly just integers, call the .columns feature on our DataFrame:\n",
    "properties_T.columns"
   ],
   "metadata": {
    "collapsed": false,
    "pycharm": {
     "name": "#%%\n"
    }
   }
  },
  {
   "cell_type": "markdown",
   "source": [
    "To confirm that the first row contains the proper values for column headings, use the  ***iloc[] method*** on our *properties_T* DataFrame. Use index 0. You'll recall from DataCamp that if you use single square brackets, you'll return a series. If you use double square brackets, a DataFrame is returned."
   ],
   "metadata": {
    "collapsed": false
   }
  },
  {
   "cell_type": "code",
   "execution_count": 28,
   "outputs": [
    {
     "data": {
      "text/plain": "        index    0                    1                    2  \\\n0  Unnamed: 0  NaT  1995-01-01 00:00:00  1995-02-01 00:00:00   \n\n                     3                    4                    5  \\\n0  1995-03-01 00:00:00  1995-04-01 00:00:00  1995-05-01 00:00:00   \n\n                     6                    7                    8  ...  \\\n0  1995-06-01 00:00:00  1995-07-01 00:00:00  1995-08-01 00:00:00  ...   \n\n                   293                  294                  295  \\\n0  2019-05-01 00:00:00  2019-06-01 00:00:00  2019-07-01 00:00:00   \n\n                   296                  297                  298  \\\n0  2019-08-01 00:00:00  2019-09-01 00:00:00  2019-10-01 00:00:00   \n\n                   299                  300                  301  \\\n0  2019-11-01 00:00:00  2019-12-01 00:00:00  2020-01-01 00:00:00   \n\n                   302  \n0  2020-02-01 00:00:00  \n\n[1 rows x 304 columns]",
      "text/html": "<div>\n<style scoped>\n    .dataframe tbody tr th:only-of-type {\n        vertical-align: middle;\n    }\n\n    .dataframe tbody tr th {\n        vertical-align: top;\n    }\n\n    .dataframe thead th {\n        text-align: right;\n    }\n</style>\n<table border=\"1\" class=\"dataframe\">\n  <thead>\n    <tr style=\"text-align: right;\">\n      <th></th>\n      <th>index</th>\n      <th>0</th>\n      <th>1</th>\n      <th>2</th>\n      <th>3</th>\n      <th>4</th>\n      <th>5</th>\n      <th>6</th>\n      <th>7</th>\n      <th>8</th>\n      <th>...</th>\n      <th>293</th>\n      <th>294</th>\n      <th>295</th>\n      <th>296</th>\n      <th>297</th>\n      <th>298</th>\n      <th>299</th>\n      <th>300</th>\n      <th>301</th>\n      <th>302</th>\n    </tr>\n  </thead>\n  <tbody>\n    <tr>\n      <th>0</th>\n      <td>Unnamed: 0</td>\n      <td>NaT</td>\n      <td>1995-01-01 00:00:00</td>\n      <td>1995-02-01 00:00:00</td>\n      <td>1995-03-01 00:00:00</td>\n      <td>1995-04-01 00:00:00</td>\n      <td>1995-05-01 00:00:00</td>\n      <td>1995-06-01 00:00:00</td>\n      <td>1995-07-01 00:00:00</td>\n      <td>1995-08-01 00:00:00</td>\n      <td>...</td>\n      <td>2019-05-01 00:00:00</td>\n      <td>2019-06-01 00:00:00</td>\n      <td>2019-07-01 00:00:00</td>\n      <td>2019-08-01 00:00:00</td>\n      <td>2019-09-01 00:00:00</td>\n      <td>2019-10-01 00:00:00</td>\n      <td>2019-11-01 00:00:00</td>\n      <td>2019-12-01 00:00:00</td>\n      <td>2020-01-01 00:00:00</td>\n      <td>2020-02-01 00:00:00</td>\n    </tr>\n  </tbody>\n</table>\n<p>1 rows × 304 columns</p>\n</div>"
     },
     "execution_count": 28,
     "metadata": {},
     "output_type": "execute_result"
    }
   ],
   "source": [
    "# Call the iloc[] method with double square brackets on the properties_T DataFrame, to see the row at index 0. \n",
    "properties_T.iloc[[0]]"
   ],
   "metadata": {
    "collapsed": false,
    "pycharm": {
     "name": "#%%\n"
    }
   }
  },
  {
   "cell_type": "markdown",
   "source": [
    "**Notice that these values are all the months from January 1995 to August 2019, inclusive**. You can reassign the columns of your DataFrame the values within this row at index 0 by making use of the *.columns* feature."
   ],
   "metadata": {
    "collapsed": false
   }
  },
  {
   "cell_type": "code",
   "execution_count": 29,
   "outputs": [],
   "source": [
    "# Try this now. \n",
    "properties_T.columns = properties_T.iloc[0]"
   ],
   "metadata": {
    "collapsed": false,
    "pycharm": {
     "name": "#%%\n"
    }
   }
  },
  {
   "cell_type": "code",
   "execution_count": 30,
   "outputs": [
    {
     "data": {
      "text/plain": "0          Unnamed: 0        NaN  1995-01-01 00:00:00  1995-02-01 00:00:00  \\\n0          Unnamed: 0        NaT  1995-01-01 00:00:00  1995-02-01 00:00:00   \n1      City of London  E09000001                91449              82202.8   \n2  Barking & Dagenham  E09000002              50460.2              51085.8   \n3              Barnet  E09000003              93284.5              93190.2   \n4              Bexley  E09000004              64958.1              64787.9   \n\n0  1995-03-01 00:00:00  1995-04-01 00:00:00  1995-05-01 00:00:00  \\\n0  1995-03-01 00:00:00  1995-04-01 00:00:00  1995-05-01 00:00:00   \n1              79120.7              77101.2              84409.1   \n2                51269              53133.5              53042.2   \n3              92247.5              90762.9                90258   \n4              64367.5              64277.7              63997.1   \n\n0  1995-06-01 00:00:00  1995-07-01 00:00:00  1995-08-01 00:00:00  ...  \\\n0  1995-06-01 00:00:00  1995-07-01 00:00:00  1995-08-01 00:00:00  ...   \n1              94900.5               110128               112329  ...   \n2              53700.3              52113.1              52232.2  ...   \n3              90107.2              91441.2              92361.3  ...   \n4              64252.3              63722.7              64432.6  ...   \n\n0  2019-05-01 00:00:00  2019-06-01 00:00:00  2019-07-01 00:00:00  \\\n0  2019-05-01 00:00:00  2019-06-01 00:00:00  2019-07-01 00:00:00   \n1               718930               761786               738370   \n2               295829               295179               299060   \n3               504765               512818               515235   \n4               337543               339684               338257   \n\n0  2019-08-01 00:00:00  2019-09-01 00:00:00  2019-10-01 00:00:00  \\\n0  2019-08-01 00:00:00  2019-09-01 00:00:00  2019-10-01 00:00:00   \n1               795632               792195               827375   \n2               300402               305488               304563   \n3               528958               527691               525985   \n4               337745               334075               333853   \n\n0  2019-11-01 00:00:00  2019-12-01 00:00:00  2020-01-01 00:00:00  \\\n0  2019-11-01 00:00:00  2019-12-01 00:00:00  2020-01-01 00:00:00   \n1               778870               739645               748457   \n2               306376               301435               303631   \n3               522683               519037               518271   \n4               334044               336579               335492   \n\n0  2020-02-01 00:00:00  \n0  2020-02-01 00:00:00  \n1               730282  \n2               298960  \n3               526024  \n4               341588  \n\n[5 rows x 304 columns]",
      "text/html": "<div>\n<style scoped>\n    .dataframe tbody tr th:only-of-type {\n        vertical-align: middle;\n    }\n\n    .dataframe tbody tr th {\n        vertical-align: top;\n    }\n\n    .dataframe thead th {\n        text-align: right;\n    }\n</style>\n<table border=\"1\" class=\"dataframe\">\n  <thead>\n    <tr style=\"text-align: right;\">\n      <th></th>\n      <th>Unnamed: 0</th>\n      <th>NaN</th>\n      <th>1995-01-01 00:00:00</th>\n      <th>1995-02-01 00:00:00</th>\n      <th>1995-03-01 00:00:00</th>\n      <th>1995-04-01 00:00:00</th>\n      <th>1995-05-01 00:00:00</th>\n      <th>1995-06-01 00:00:00</th>\n      <th>1995-07-01 00:00:00</th>\n      <th>1995-08-01 00:00:00</th>\n      <th>...</th>\n      <th>2019-05-01 00:00:00</th>\n      <th>2019-06-01 00:00:00</th>\n      <th>2019-07-01 00:00:00</th>\n      <th>2019-08-01 00:00:00</th>\n      <th>2019-09-01 00:00:00</th>\n      <th>2019-10-01 00:00:00</th>\n      <th>2019-11-01 00:00:00</th>\n      <th>2019-12-01 00:00:00</th>\n      <th>2020-01-01 00:00:00</th>\n      <th>2020-02-01 00:00:00</th>\n    </tr>\n  </thead>\n  <tbody>\n    <tr>\n      <th>0</th>\n      <td>Unnamed: 0</td>\n      <td>NaT</td>\n      <td>1995-01-01 00:00:00</td>\n      <td>1995-02-01 00:00:00</td>\n      <td>1995-03-01 00:00:00</td>\n      <td>1995-04-01 00:00:00</td>\n      <td>1995-05-01 00:00:00</td>\n      <td>1995-06-01 00:00:00</td>\n      <td>1995-07-01 00:00:00</td>\n      <td>1995-08-01 00:00:00</td>\n      <td>...</td>\n      <td>2019-05-01 00:00:00</td>\n      <td>2019-06-01 00:00:00</td>\n      <td>2019-07-01 00:00:00</td>\n      <td>2019-08-01 00:00:00</td>\n      <td>2019-09-01 00:00:00</td>\n      <td>2019-10-01 00:00:00</td>\n      <td>2019-11-01 00:00:00</td>\n      <td>2019-12-01 00:00:00</td>\n      <td>2020-01-01 00:00:00</td>\n      <td>2020-02-01 00:00:00</td>\n    </tr>\n    <tr>\n      <th>1</th>\n      <td>City of London</td>\n      <td>E09000001</td>\n      <td>91449</td>\n      <td>82202.8</td>\n      <td>79120.7</td>\n      <td>77101.2</td>\n      <td>84409.1</td>\n      <td>94900.5</td>\n      <td>110128</td>\n      <td>112329</td>\n      <td>...</td>\n      <td>718930</td>\n      <td>761786</td>\n      <td>738370</td>\n      <td>795632</td>\n      <td>792195</td>\n      <td>827375</td>\n      <td>778870</td>\n      <td>739645</td>\n      <td>748457</td>\n      <td>730282</td>\n    </tr>\n    <tr>\n      <th>2</th>\n      <td>Barking &amp; Dagenham</td>\n      <td>E09000002</td>\n      <td>50460.2</td>\n      <td>51085.8</td>\n      <td>51269</td>\n      <td>53133.5</td>\n      <td>53042.2</td>\n      <td>53700.3</td>\n      <td>52113.1</td>\n      <td>52232.2</td>\n      <td>...</td>\n      <td>295829</td>\n      <td>295179</td>\n      <td>299060</td>\n      <td>300402</td>\n      <td>305488</td>\n      <td>304563</td>\n      <td>306376</td>\n      <td>301435</td>\n      <td>303631</td>\n      <td>298960</td>\n    </tr>\n    <tr>\n      <th>3</th>\n      <td>Barnet</td>\n      <td>E09000003</td>\n      <td>93284.5</td>\n      <td>93190.2</td>\n      <td>92247.5</td>\n      <td>90762.9</td>\n      <td>90258</td>\n      <td>90107.2</td>\n      <td>91441.2</td>\n      <td>92361.3</td>\n      <td>...</td>\n      <td>504765</td>\n      <td>512818</td>\n      <td>515235</td>\n      <td>528958</td>\n      <td>527691</td>\n      <td>525985</td>\n      <td>522683</td>\n      <td>519037</td>\n      <td>518271</td>\n      <td>526024</td>\n    </tr>\n    <tr>\n      <th>4</th>\n      <td>Bexley</td>\n      <td>E09000004</td>\n      <td>64958.1</td>\n      <td>64787.9</td>\n      <td>64367.5</td>\n      <td>64277.7</td>\n      <td>63997.1</td>\n      <td>64252.3</td>\n      <td>63722.7</td>\n      <td>64432.6</td>\n      <td>...</td>\n      <td>337543</td>\n      <td>339684</td>\n      <td>338257</td>\n      <td>337745</td>\n      <td>334075</td>\n      <td>333853</td>\n      <td>334044</td>\n      <td>336579</td>\n      <td>335492</td>\n      <td>341588</td>\n    </tr>\n  </tbody>\n</table>\n<p>5 rows × 304 columns</p>\n</div>"
     },
     "execution_count": 30,
     "metadata": {},
     "output_type": "execute_result"
    }
   ],
   "source": [
    "# Check out our DataFrame again: \n",
    "properties_T.head()"
   ],
   "metadata": {
    "collapsed": false,
    "pycharm": {
     "name": "#%%\n"
    }
   }
  },
  {
   "cell_type": "markdown",
   "source": [
    "You need to drop the row at index 0! \n",
    "\n",
    "A good way to do this is reassign *properties_T* with the return value of calling the DataFrame ***drop()*** method, passing 0 as the index."
   ],
   "metadata": {
    "collapsed": false
   }
  },
  {
   "cell_type": "code",
   "execution_count": 31,
   "outputs": [],
   "source": [
    "# Have a go at this now. \n",
    "properties_T = properties_T.drop(properties_T.index[0])"
   ],
   "metadata": {
    "collapsed": false,
    "pycharm": {
     "name": "#%%\n"
    }
   }
  },
  {
   "cell_type": "code",
   "execution_count": 21,
   "outputs": [
    {
     "data": {
      "text/plain": "0          Unnamed: 0        NaN 1995-01-01 00:00:00 1995-02-01 00:00:00  \\\n1      City of London  E09000001               91449             82202.8   \n2  Barking & Dagenham  E09000002             50460.2             51085.8   \n3              Barnet  E09000003             93284.5             93190.2   \n4              Bexley  E09000004             64958.1             64787.9   \n5               Brent  E09000005             71306.6             72022.3   \n\n0 1995-03-01 00:00:00 1995-04-01 00:00:00 1995-05-01 00:00:00  \\\n1             79120.7             77101.2             84409.1   \n2               51269             53133.5             53042.2   \n3             92247.5             90762.9               90258   \n4             64367.5             64277.7             63997.1   \n5             72015.8             72965.6               73704   \n\n0 1995-06-01 00:00:00 1995-07-01 00:00:00 1995-08-01 00:00:00  ...  \\\n1             94900.5              110128              112329  ...   \n2             53700.3             52113.1             52232.2  ...   \n3             90107.2             91441.2             92361.3  ...   \n4             64252.3             63722.7             64432.6  ...   \n5             74310.5               74127               73547  ...   \n\n0 2019-05-01 00:00:00 2019-06-01 00:00:00 2019-07-01 00:00:00  \\\n1              718930              761786              738370   \n2              295829              295179              299060   \n3              504765              512818              515235   \n4              337543              339684              338257   \n5              482101              474460              472981   \n\n0 2019-08-01 00:00:00 2019-09-01 00:00:00 2019-10-01 00:00:00  \\\n1              795632              792195              827375   \n2              300402              305488              304563   \n3              528958              527691              525985   \n4              337745              334075              333853   \n5              487091              500800              494697   \n\n0 2019-11-01 00:00:00 2019-12-01 00:00:00 2020-01-01 00:00:00  \\\n1              778870              739645              748457   \n2              306376              301435              303631   \n3              522683              519037              518271   \n4              334044              336579              335492   \n5              432511              429917              425607   \n\n0 2020-02-01 00:00:00  \n1              730282  \n2              298960  \n3              526024  \n4              341588  \n5              479542  \n\n[5 rows x 304 columns]",
      "text/html": "<div>\n<style scoped>\n    .dataframe tbody tr th:only-of-type {\n        vertical-align: middle;\n    }\n\n    .dataframe tbody tr th {\n        vertical-align: top;\n    }\n\n    .dataframe thead th {\n        text-align: right;\n    }\n</style>\n<table border=\"1\" class=\"dataframe\">\n  <thead>\n    <tr style=\"text-align: right;\">\n      <th></th>\n      <th>Unnamed: 0</th>\n      <th>NaN</th>\n      <th>1995-01-01 00:00:00</th>\n      <th>1995-02-01 00:00:00</th>\n      <th>1995-03-01 00:00:00</th>\n      <th>1995-04-01 00:00:00</th>\n      <th>1995-05-01 00:00:00</th>\n      <th>1995-06-01 00:00:00</th>\n      <th>1995-07-01 00:00:00</th>\n      <th>1995-08-01 00:00:00</th>\n      <th>...</th>\n      <th>2019-05-01 00:00:00</th>\n      <th>2019-06-01 00:00:00</th>\n      <th>2019-07-01 00:00:00</th>\n      <th>2019-08-01 00:00:00</th>\n      <th>2019-09-01 00:00:00</th>\n      <th>2019-10-01 00:00:00</th>\n      <th>2019-11-01 00:00:00</th>\n      <th>2019-12-01 00:00:00</th>\n      <th>2020-01-01 00:00:00</th>\n      <th>2020-02-01 00:00:00</th>\n    </tr>\n  </thead>\n  <tbody>\n    <tr>\n      <th>1</th>\n      <td>City of London</td>\n      <td>E09000001</td>\n      <td>91449</td>\n      <td>82202.8</td>\n      <td>79120.7</td>\n      <td>77101.2</td>\n      <td>84409.1</td>\n      <td>94900.5</td>\n      <td>110128</td>\n      <td>112329</td>\n      <td>...</td>\n      <td>718930</td>\n      <td>761786</td>\n      <td>738370</td>\n      <td>795632</td>\n      <td>792195</td>\n      <td>827375</td>\n      <td>778870</td>\n      <td>739645</td>\n      <td>748457</td>\n      <td>730282</td>\n    </tr>\n    <tr>\n      <th>2</th>\n      <td>Barking &amp; Dagenham</td>\n      <td>E09000002</td>\n      <td>50460.2</td>\n      <td>51085.8</td>\n      <td>51269</td>\n      <td>53133.5</td>\n      <td>53042.2</td>\n      <td>53700.3</td>\n      <td>52113.1</td>\n      <td>52232.2</td>\n      <td>...</td>\n      <td>295829</td>\n      <td>295179</td>\n      <td>299060</td>\n      <td>300402</td>\n      <td>305488</td>\n      <td>304563</td>\n      <td>306376</td>\n      <td>301435</td>\n      <td>303631</td>\n      <td>298960</td>\n    </tr>\n    <tr>\n      <th>3</th>\n      <td>Barnet</td>\n      <td>E09000003</td>\n      <td>93284.5</td>\n      <td>93190.2</td>\n      <td>92247.5</td>\n      <td>90762.9</td>\n      <td>90258</td>\n      <td>90107.2</td>\n      <td>91441.2</td>\n      <td>92361.3</td>\n      <td>...</td>\n      <td>504765</td>\n      <td>512818</td>\n      <td>515235</td>\n      <td>528958</td>\n      <td>527691</td>\n      <td>525985</td>\n      <td>522683</td>\n      <td>519037</td>\n      <td>518271</td>\n      <td>526024</td>\n    </tr>\n    <tr>\n      <th>4</th>\n      <td>Bexley</td>\n      <td>E09000004</td>\n      <td>64958.1</td>\n      <td>64787.9</td>\n      <td>64367.5</td>\n      <td>64277.7</td>\n      <td>63997.1</td>\n      <td>64252.3</td>\n      <td>63722.7</td>\n      <td>64432.6</td>\n      <td>...</td>\n      <td>337543</td>\n      <td>339684</td>\n      <td>338257</td>\n      <td>337745</td>\n      <td>334075</td>\n      <td>333853</td>\n      <td>334044</td>\n      <td>336579</td>\n      <td>335492</td>\n      <td>341588</td>\n    </tr>\n    <tr>\n      <th>5</th>\n      <td>Brent</td>\n      <td>E09000005</td>\n      <td>71306.6</td>\n      <td>72022.3</td>\n      <td>72015.8</td>\n      <td>72965.6</td>\n      <td>73704</td>\n      <td>74310.5</td>\n      <td>74127</td>\n      <td>73547</td>\n      <td>...</td>\n      <td>482101</td>\n      <td>474460</td>\n      <td>472981</td>\n      <td>487091</td>\n      <td>500800</td>\n      <td>494697</td>\n      <td>432511</td>\n      <td>429917</td>\n      <td>425607</td>\n      <td>479542</td>\n    </tr>\n  </tbody>\n</table>\n<p>5 rows × 304 columns</p>\n</div>"
     },
     "execution_count": 21,
     "metadata": {},
     "output_type": "execute_result"
    }
   ],
   "source": [
    "# Now check out our DataFrame again to see how it looks. \n",
    "properties_T.head()"
   ],
   "metadata": {
    "collapsed": false,
    "pycharm": {
     "name": "#%%\n"
    }
   }
  },
  {
   "cell_type": "markdown",
   "source": [
    "You're slowly but surely getting there! Exciting, right? \n",
    "\n",
    "**Each column now represents a month and year, and each cell-value represents the average price of houses sold in borough of the corresponding row**. \n",
    "\n",
    "You have total control over your data! "
   ],
   "metadata": {
    "collapsed": false
   }
  },
  {
   "cell_type": "markdown",
   "source": [
    "#### 2.3. Cleaning the data (Part 2)\n",
    "You can see from the *.head()* list call that you need to rename some columns. \n",
    "\n",
    "'Unnamed: 0' should be something like 'London Borough' and 'NaN' should  be changed. \n",
    "\n",
    "Recall, that pandas DataFrames have a ***.rename()*** method. One of the keyworded arguments to this method is *columns*. You can assign it a dictionary whose keys are the current column names you want to change, and whose values are the desired new names.\n",
    "\n",
    "**Note**: you can change the 'Unnamed: 0' name of the first column just by including that string as a key in our dictionary, but 'NaN' stands for Not A Number,  and is denoted by *pd.NaT*. Do not use quotes when you include this value. NaN means Not A Number, and NaT means Not A Time - both of these values represent undefined or unrepresenable values like 0/0. They are functionally Null values. Don't worry, we'll help you with this.\n",
    "\n",
    "Call the **rename()** method on *properties_T* and set the *columns* keyword equal to the following dictionary: \n",
    "{'Unnamed: 0':'London_Borough', pd.NaT: 'ID'} \n",
    ", then reassign that value to properties_T to update the DataFrame."
   ],
   "metadata": {
    "collapsed": false
   }
  },
  {
   "cell_type": "code",
   "execution_count": 32,
   "outputs": [],
   "source": [
    "# Try this here. \n",
    "properties_T = properties_T.rename(columns = {'Unnamed: 0':'Borough', pd.NaT: 'ID'})"
   ],
   "metadata": {
    "collapsed": false,
    "pycharm": {
     "name": "#%%\n"
    }
   }
  },
  {
   "cell_type": "code",
   "execution_count": 33,
   "outputs": [
    {
     "data": {
      "text/plain": "0             Borough         ID 1995-01-01 00:00:00 1995-02-01 00:00:00  \\\n1      City of London  E09000001               91449             82202.8   \n2  Barking & Dagenham  E09000002             50460.2             51085.8   \n3              Barnet  E09000003             93284.5             93190.2   \n4              Bexley  E09000004             64958.1             64787.9   \n5               Brent  E09000005             71306.6             72022.3   \n\n0 1995-03-01 00:00:00 1995-04-01 00:00:00 1995-05-01 00:00:00  \\\n1             79120.7             77101.2             84409.1   \n2               51269             53133.5             53042.2   \n3             92247.5             90762.9               90258   \n4             64367.5             64277.7             63997.1   \n5             72015.8             72965.6               73704   \n\n0 1995-06-01 00:00:00 1995-07-01 00:00:00 1995-08-01 00:00:00  ...  \\\n1             94900.5              110128              112329  ...   \n2             53700.3             52113.1             52232.2  ...   \n3             90107.2             91441.2             92361.3  ...   \n4             64252.3             63722.7             64432.6  ...   \n5             74310.5               74127               73547  ...   \n\n0 2019-05-01 00:00:00 2019-06-01 00:00:00 2019-07-01 00:00:00  \\\n1              718930              761786              738370   \n2              295829              295179              299060   \n3              504765              512818              515235   \n4              337543              339684              338257   \n5              482101              474460              472981   \n\n0 2019-08-01 00:00:00 2019-09-01 00:00:00 2019-10-01 00:00:00  \\\n1              795632              792195              827375   \n2              300402              305488              304563   \n3              528958              527691              525985   \n4              337745              334075              333853   \n5              487091              500800              494697   \n\n0 2019-11-01 00:00:00 2019-12-01 00:00:00 2020-01-01 00:00:00  \\\n1              778870              739645              748457   \n2              306376              301435              303631   \n3              522683              519037              518271   \n4              334044              336579              335492   \n5              432511              429917              425607   \n\n0 2020-02-01 00:00:00  \n1              730282  \n2              298960  \n3              526024  \n4              341588  \n5              479542  \n\n[5 rows x 304 columns]",
      "text/html": "<div>\n<style scoped>\n    .dataframe tbody tr th:only-of-type {\n        vertical-align: middle;\n    }\n\n    .dataframe tbody tr th {\n        vertical-align: top;\n    }\n\n    .dataframe thead th {\n        text-align: right;\n    }\n</style>\n<table border=\"1\" class=\"dataframe\">\n  <thead>\n    <tr style=\"text-align: right;\">\n      <th></th>\n      <th>Borough</th>\n      <th>ID</th>\n      <th>1995-01-01 00:00:00</th>\n      <th>1995-02-01 00:00:00</th>\n      <th>1995-03-01 00:00:00</th>\n      <th>1995-04-01 00:00:00</th>\n      <th>1995-05-01 00:00:00</th>\n      <th>1995-06-01 00:00:00</th>\n      <th>1995-07-01 00:00:00</th>\n      <th>1995-08-01 00:00:00</th>\n      <th>...</th>\n      <th>2019-05-01 00:00:00</th>\n      <th>2019-06-01 00:00:00</th>\n      <th>2019-07-01 00:00:00</th>\n      <th>2019-08-01 00:00:00</th>\n      <th>2019-09-01 00:00:00</th>\n      <th>2019-10-01 00:00:00</th>\n      <th>2019-11-01 00:00:00</th>\n      <th>2019-12-01 00:00:00</th>\n      <th>2020-01-01 00:00:00</th>\n      <th>2020-02-01 00:00:00</th>\n    </tr>\n  </thead>\n  <tbody>\n    <tr>\n      <th>1</th>\n      <td>City of London</td>\n      <td>E09000001</td>\n      <td>91449</td>\n      <td>82202.8</td>\n      <td>79120.7</td>\n      <td>77101.2</td>\n      <td>84409.1</td>\n      <td>94900.5</td>\n      <td>110128</td>\n      <td>112329</td>\n      <td>...</td>\n      <td>718930</td>\n      <td>761786</td>\n      <td>738370</td>\n      <td>795632</td>\n      <td>792195</td>\n      <td>827375</td>\n      <td>778870</td>\n      <td>739645</td>\n      <td>748457</td>\n      <td>730282</td>\n    </tr>\n    <tr>\n      <th>2</th>\n      <td>Barking &amp; Dagenham</td>\n      <td>E09000002</td>\n      <td>50460.2</td>\n      <td>51085.8</td>\n      <td>51269</td>\n      <td>53133.5</td>\n      <td>53042.2</td>\n      <td>53700.3</td>\n      <td>52113.1</td>\n      <td>52232.2</td>\n      <td>...</td>\n      <td>295829</td>\n      <td>295179</td>\n      <td>299060</td>\n      <td>300402</td>\n      <td>305488</td>\n      <td>304563</td>\n      <td>306376</td>\n      <td>301435</td>\n      <td>303631</td>\n      <td>298960</td>\n    </tr>\n    <tr>\n      <th>3</th>\n      <td>Barnet</td>\n      <td>E09000003</td>\n      <td>93284.5</td>\n      <td>93190.2</td>\n      <td>92247.5</td>\n      <td>90762.9</td>\n      <td>90258</td>\n      <td>90107.2</td>\n      <td>91441.2</td>\n      <td>92361.3</td>\n      <td>...</td>\n      <td>504765</td>\n      <td>512818</td>\n      <td>515235</td>\n      <td>528958</td>\n      <td>527691</td>\n      <td>525985</td>\n      <td>522683</td>\n      <td>519037</td>\n      <td>518271</td>\n      <td>526024</td>\n    </tr>\n    <tr>\n      <th>4</th>\n      <td>Bexley</td>\n      <td>E09000004</td>\n      <td>64958.1</td>\n      <td>64787.9</td>\n      <td>64367.5</td>\n      <td>64277.7</td>\n      <td>63997.1</td>\n      <td>64252.3</td>\n      <td>63722.7</td>\n      <td>64432.6</td>\n      <td>...</td>\n      <td>337543</td>\n      <td>339684</td>\n      <td>338257</td>\n      <td>337745</td>\n      <td>334075</td>\n      <td>333853</td>\n      <td>334044</td>\n      <td>336579</td>\n      <td>335492</td>\n      <td>341588</td>\n    </tr>\n    <tr>\n      <th>5</th>\n      <td>Brent</td>\n      <td>E09000005</td>\n      <td>71306.6</td>\n      <td>72022.3</td>\n      <td>72015.8</td>\n      <td>72965.6</td>\n      <td>73704</td>\n      <td>74310.5</td>\n      <td>74127</td>\n      <td>73547</td>\n      <td>...</td>\n      <td>482101</td>\n      <td>474460</td>\n      <td>472981</td>\n      <td>487091</td>\n      <td>500800</td>\n      <td>494697</td>\n      <td>432511</td>\n      <td>429917</td>\n      <td>425607</td>\n      <td>479542</td>\n    </tr>\n  </tbody>\n</table>\n<p>5 rows × 304 columns</p>\n</div>"
     },
     "execution_count": 33,
     "metadata": {},
     "output_type": "execute_result"
    }
   ],
   "source": [
    "# Let's check out the DataFrame again to admire our good work. \n",
    "properties_T.head()"
   ],
   "metadata": {
    "collapsed": false,
    "pycharm": {
     "name": "#%%\n"
    }
   }
  },
  {
   "cell_type": "markdown",
   "source": [
    "You're making great leaps forward. But your DataFrame still has lots of columns. Find out exactly how many by calling ***.columns*** on our DataFrame.  "
   ],
   "metadata": {
    "collapsed": false
   }
  },
  {
   "cell_type": "code",
   "execution_count": 34,
   "outputs": [
    {
     "data": {
      "text/plain": "Index([          'Borough',                'ID', 1995-01-01 00:00:00,\n       1995-02-01 00:00:00, 1995-03-01 00:00:00, 1995-04-01 00:00:00,\n       1995-05-01 00:00:00, 1995-06-01 00:00:00, 1995-07-01 00:00:00,\n       1995-08-01 00:00:00,\n       ...\n       2019-05-01 00:00:00, 2019-06-01 00:00:00, 2019-07-01 00:00:00,\n       2019-08-01 00:00:00, 2019-09-01 00:00:00, 2019-10-01 00:00:00,\n       2019-11-01 00:00:00, 2019-12-01 00:00:00, 2020-01-01 00:00:00,\n       2020-02-01 00:00:00],\n      dtype='object', name=0, length=304)"
     },
     "execution_count": 34,
     "metadata": {},
     "output_type": "execute_result"
    }
   ],
   "source": [
    "# Try this here. \n",
    "properties_T.columns"
   ],
   "metadata": {
    "collapsed": false,
    "pycharm": {
     "name": "#%%\n"
    }
   }
  },
  {
   "cell_type": "markdown",
   "source": [
    "#### 2.4. Transforming the data\n",
    "Your data would be tidier if you had fewer columns. \n",
    "\n",
    "Wouldn't a ***single*** column for time be better than nearly 300? This single column will contain all of the datetimes in your current column headings. \n",
    "\n",
    "**Remember** the two most important properties of tidy data are:\n",
    "1. **Each column is a variable.**\n",
    "\n",
    "2. **Each row is an observation.**\n",
    "\n",
    "One of the miraculous things about pandas is ***melt()***, which enables you to melt those values along the column headings of your current DataFrame into a single column.  \n",
    "\n",
    "Make a new DataFrame called clean_properties, and assign it the return value of ***pd.melt()*** with the parameters: *properties_T* and *id_vars = ['Borough', 'ID']*. \n",
    "\n",
    "The result will be a DataFrame with rows representing the average house price within a given month and a given borough. Exactly what you want. "
   ],
   "metadata": {
    "collapsed": false
   }
  },
  {
   "cell_type": "code",
   "execution_count": 35,
   "outputs": [],
   "source": [
    "# Try this here: \n",
    "clean_properties = pd.melt(properties_T, id_vars= ['Borough', 'ID'])"
   ],
   "metadata": {
    "collapsed": false,
    "pycharm": {
     "name": "#%%\n"
    }
   }
  },
  {
   "cell_type": "code",
   "execution_count": 36,
   "outputs": [
    {
     "data": {
      "text/plain": "              Borough         ID          0    value\n0      City of London  E09000001 1995-01-01    91449\n1  Barking & Dagenham  E09000002 1995-01-01  50460.2\n2              Barnet  E09000003 1995-01-01  93284.5\n3              Bexley  E09000004 1995-01-01  64958.1\n4               Brent  E09000005 1995-01-01  71306.6",
      "text/html": "<div>\n<style scoped>\n    .dataframe tbody tr th:only-of-type {\n        vertical-align: middle;\n    }\n\n    .dataframe tbody tr th {\n        vertical-align: top;\n    }\n\n    .dataframe thead th {\n        text-align: right;\n    }\n</style>\n<table border=\"1\" class=\"dataframe\">\n  <thead>\n    <tr style=\"text-align: right;\">\n      <th></th>\n      <th>Borough</th>\n      <th>ID</th>\n      <th>0</th>\n      <th>value</th>\n    </tr>\n  </thead>\n  <tbody>\n    <tr>\n      <th>0</th>\n      <td>City of London</td>\n      <td>E09000001</td>\n      <td>1995-01-01</td>\n      <td>91449</td>\n    </tr>\n    <tr>\n      <th>1</th>\n      <td>Barking &amp; Dagenham</td>\n      <td>E09000002</td>\n      <td>1995-01-01</td>\n      <td>50460.2</td>\n    </tr>\n    <tr>\n      <th>2</th>\n      <td>Barnet</td>\n      <td>E09000003</td>\n      <td>1995-01-01</td>\n      <td>93284.5</td>\n    </tr>\n    <tr>\n      <th>3</th>\n      <td>Bexley</td>\n      <td>E09000004</td>\n      <td>1995-01-01</td>\n      <td>64958.1</td>\n    </tr>\n    <tr>\n      <th>4</th>\n      <td>Brent</td>\n      <td>E09000005</td>\n      <td>1995-01-01</td>\n      <td>71306.6</td>\n    </tr>\n  </tbody>\n</table>\n</div>"
     },
     "execution_count": 36,
     "metadata": {},
     "output_type": "execute_result"
    }
   ],
   "source": [
    "clean_properties.head()"
   ],
   "metadata": {
    "collapsed": false,
    "pycharm": {
     "name": "#%%\n"
    }
   }
  },
  {
   "cell_type": "markdown",
   "source": [
    "Awesome. This is looking good. \n",
    "\n",
    "Rename the '0' column 'Month', and the 'value' column 'Average_price'. \n",
    "\n",
    "Use the ***rename()*** method, and reassign *clean_properties* with the result. "
   ],
   "metadata": {
    "collapsed": false
   }
  },
  {
   "cell_type": "code",
   "execution_count": 37,
   "outputs": [],
   "source": [
    "# Re-name the column names\n",
    "clean_properties = clean_properties.rename(columns = {0: 'Month', 'value': 'Average_price'})"
   ],
   "metadata": {
    "collapsed": false,
    "pycharm": {
     "name": "#%%\n"
    }
   }
  },
  {
   "cell_type": "code",
   "execution_count": 38,
   "outputs": [
    {
     "data": {
      "text/plain": "              Borough         ID      Month Average_price\n0      City of London  E09000001 1995-01-01         91449\n1  Barking & Dagenham  E09000002 1995-01-01       50460.2\n2              Barnet  E09000003 1995-01-01       93284.5\n3              Bexley  E09000004 1995-01-01       64958.1\n4               Brent  E09000005 1995-01-01       71306.6",
      "text/html": "<div>\n<style scoped>\n    .dataframe tbody tr th:only-of-type {\n        vertical-align: middle;\n    }\n\n    .dataframe tbody tr th {\n        vertical-align: top;\n    }\n\n    .dataframe thead th {\n        text-align: right;\n    }\n</style>\n<table border=\"1\" class=\"dataframe\">\n  <thead>\n    <tr style=\"text-align: right;\">\n      <th></th>\n      <th>Borough</th>\n      <th>ID</th>\n      <th>Month</th>\n      <th>Average_price</th>\n    </tr>\n  </thead>\n  <tbody>\n    <tr>\n      <th>0</th>\n      <td>City of London</td>\n      <td>E09000001</td>\n      <td>1995-01-01</td>\n      <td>91449</td>\n    </tr>\n    <tr>\n      <th>1</th>\n      <td>Barking &amp; Dagenham</td>\n      <td>E09000002</td>\n      <td>1995-01-01</td>\n      <td>50460.2</td>\n    </tr>\n    <tr>\n      <th>2</th>\n      <td>Barnet</td>\n      <td>E09000003</td>\n      <td>1995-01-01</td>\n      <td>93284.5</td>\n    </tr>\n    <tr>\n      <th>3</th>\n      <td>Bexley</td>\n      <td>E09000004</td>\n      <td>1995-01-01</td>\n      <td>64958.1</td>\n    </tr>\n    <tr>\n      <th>4</th>\n      <td>Brent</td>\n      <td>E09000005</td>\n      <td>1995-01-01</td>\n      <td>71306.6</td>\n    </tr>\n  </tbody>\n</table>\n</div>"
     },
     "execution_count": 38,
     "metadata": {},
     "output_type": "execute_result"
    }
   ],
   "source": [
    "# Check out the DataFrame: \n",
    "clean_properties.head()"
   ],
   "metadata": {
    "collapsed": false,
    "pycharm": {
     "name": "#%%\n"
    }
   }
  },
  {
   "cell_type": "markdown",
   "source": [
    "You need to check out the data types of your clean_properties DataFrame, just in case you need to do any type conversions. "
   ],
   "metadata": {
    "collapsed": false
   }
  },
  {
   "cell_type": "code",
   "execution_count": 39,
   "outputs": [
    {
     "data": {
      "text/plain": "Borough                  object\nID                       object\nMonth            datetime64[ns]\nAverage_price            object\ndtype: object"
     },
     "execution_count": 39,
     "metadata": {},
     "output_type": "execute_result"
    }
   ],
   "source": [
    "# Let's use the .dtypes attribute to check the data types of our clean_properties DataFrame:\n",
    "clean_properties.dtypes"
   ],
   "metadata": {
    "collapsed": false,
    "pycharm": {
     "name": "#%%\n"
    }
   }
  },
  {
   "cell_type": "markdown",
   "source": [
    "Change the Average_price column to a numeric type, specifically, a float.\n",
    "\n",
    "Call the ***to_numeric()*** method on *pd*, pass the 'Average_price' column into its brackets, and reassign the result to the *clean_properties* 'Average_price' column."
   ],
   "metadata": {
    "collapsed": false
   }
  },
  {
   "cell_type": "code",
   "execution_count": 40,
   "outputs": [],
   "source": [
    "# Try this here\n",
    "clean_properties['Average_price'] = pd.to_numeric(clean_properties['Average_price'])"
   ],
   "metadata": {
    "collapsed": false,
    "pycharm": {
     "name": "#%%\n"
    }
   }
  },
  {
   "cell_type": "code",
   "execution_count": 41,
   "outputs": [
    {
     "data": {
      "text/plain": "Borough                  object\nID                       object\nMonth            datetime64[ns]\nAverage_price           float64\ndtype: object"
     },
     "execution_count": 41,
     "metadata": {},
     "output_type": "execute_result"
    }
   ],
   "source": [
    "# Check out the new data types:\n",
    "clean_properties.dtypes"
   ],
   "metadata": {
    "collapsed": false,
    "pycharm": {
     "name": "#%%\n"
    }
   }
  },
  {
   "cell_type": "code",
   "execution_count": 42,
   "outputs": [
    {
     "data": {
      "text/plain": "Borough          14496\nID               13590\nMonth            14496\nAverage_price    13590\ndtype: int64"
     },
     "execution_count": 42,
     "metadata": {},
     "output_type": "execute_result"
    }
   ],
   "source": [
    "# To see if there are any missing values, we should call the count() method on our DataFrame:\n",
    "clean_properties.count()"
   ],
   "metadata": {
    "collapsed": false,
    "pycharm": {
     "name": "#%%\n"
    }
   }
  },
  {
   "cell_type": "markdown",
   "source": [
    "#### 2.5. Cleaning the data (Part 3) \n",
    "Houston, we have a problem!\n",
    "\n",
    "There are fewer data points in some of the columns. Why might this be? Let's investigate.\n",
    "\n",
    "Since there are only 32 London boroughs, check out the unique values of the 'London_Borough' column to see if they're all there.\n",
    "\n",
    "Just call the ***unique()*** method on the London_Borough column. "
   ],
   "metadata": {
    "collapsed": false
   }
  },
  {
   "cell_type": "code",
   "execution_count": 43,
   "outputs": [
    {
     "data": {
      "text/plain": "array(['City of London', 'Barking & Dagenham', 'Barnet', 'Bexley',\n       'Brent', 'Bromley', 'Camden', 'Croydon', 'Ealing', 'Enfield',\n       'Greenwich', 'Hackney', 'Hammersmith & Fulham', 'Haringey',\n       'Harrow', 'Havering', 'Hillingdon', 'Hounslow', 'Islington',\n       'Kensington & Chelsea', 'Kingston upon Thames', 'Lambeth',\n       'Lewisham', 'Merton', 'Newham', 'Redbridge',\n       'Richmond upon Thames', 'Southwark', 'Sutton', 'Tower Hamlets',\n       'Waltham Forest', 'Wandsworth', 'Westminster', 'Unnamed: 34',\n       'Inner London', 'Outer London', 'Unnamed: 37', 'NORTH EAST',\n       'NORTH WEST', 'YORKS & THE HUMBER', 'EAST MIDLANDS',\n       'WEST MIDLANDS', 'EAST OF ENGLAND', 'LONDON', 'SOUTH EAST',\n       'SOUTH WEST', 'Unnamed: 47', 'England'], dtype=object)"
     },
     "execution_count": 43,
     "metadata": {},
     "output_type": "execute_result"
    }
   ],
   "source": [
    "# Do this here. \n",
    "clean_properties['Borough'].unique()"
   ],
   "metadata": {
    "collapsed": false,
    "pycharm": {
     "name": "#%%\n"
    }
   }
  },
  {
   "cell_type": "markdown",
   "source": [
    "Aha! Some of these strings are not London boroughs. You're basically Sherlock Holmes, getting ever closer solving the mystery! \n",
    "\n",
    "The strings that don't belong:\n",
    "- 'Unnamed: 34'\n",
    "- 'Unnamed: 37'\n",
    "- 'NORTH EAST'\n",
    "- 'NORTH WEST'\n",
    "- 'YORKS & THE HUMBER' \n",
    "- 'EAST MIDLANDS'\n",
    "- 'WEST MIDLANDS'\n",
    "- 'EAST OF ENGLAND'\n",
    "- 'LONDON' \n",
    "- 'SOUTH EAST' \n",
    "- 'SOUTH WEST'\n",
    "- 'Unnamed: 47' \n",
    "- 'England'\n",
    "\n",
    "See what information is contained in rows where London_Boroughs is 'Unnamed’ and, if there’s nothing valuable, you can drop them.  To investigate, subset the clean_properties DataFrame on this condition."
   ],
   "metadata": {
    "collapsed": false
   }
  },
  {
   "cell_type": "code",
   "execution_count": 44,
   "outputs": [
    {
     "data": {
      "text/plain": "         Borough   ID      Month  Average_price\n33   Unnamed: 34  NaN 1995-01-01            NaN\n81   Unnamed: 34  NaN 1995-02-01            NaN\n129  Unnamed: 34  NaN 1995-03-01            NaN\n177  Unnamed: 34  NaN 1995-04-01            NaN\n225  Unnamed: 34  NaN 1995-05-01            NaN",
      "text/html": "<div>\n<style scoped>\n    .dataframe tbody tr th:only-of-type {\n        vertical-align: middle;\n    }\n\n    .dataframe tbody tr th {\n        vertical-align: top;\n    }\n\n    .dataframe thead th {\n        text-align: right;\n    }\n</style>\n<table border=\"1\" class=\"dataframe\">\n  <thead>\n    <tr style=\"text-align: right;\">\n      <th></th>\n      <th>Borough</th>\n      <th>ID</th>\n      <th>Month</th>\n      <th>Average_price</th>\n    </tr>\n  </thead>\n  <tbody>\n    <tr>\n      <th>33</th>\n      <td>Unnamed: 34</td>\n      <td>NaN</td>\n      <td>1995-01-01</td>\n      <td>NaN</td>\n    </tr>\n    <tr>\n      <th>81</th>\n      <td>Unnamed: 34</td>\n      <td>NaN</td>\n      <td>1995-02-01</td>\n      <td>NaN</td>\n    </tr>\n    <tr>\n      <th>129</th>\n      <td>Unnamed: 34</td>\n      <td>NaN</td>\n      <td>1995-03-01</td>\n      <td>NaN</td>\n    </tr>\n    <tr>\n      <th>177</th>\n      <td>Unnamed: 34</td>\n      <td>NaN</td>\n      <td>1995-04-01</td>\n      <td>NaN</td>\n    </tr>\n    <tr>\n      <th>225</th>\n      <td>Unnamed: 34</td>\n      <td>NaN</td>\n      <td>1995-05-01</td>\n      <td>NaN</td>\n    </tr>\n  </tbody>\n</table>\n</div>"
     },
     "execution_count": 44,
     "metadata": {},
     "output_type": "execute_result"
    }
   ],
   "source": [
    "# Subset clean_properties on the condition: df['London_Borough'] == 'Unnamed: 34' to see what information these rows contain. \n",
    "clean_properties[clean_properties['Borough'] == 'Unnamed: 34'].head()"
   ],
   "metadata": {
    "collapsed": false,
    "pycharm": {
     "name": "#%%\n"
    }
   }
  },
  {
   "cell_type": "code",
   "execution_count": 45,
   "outputs": [
    {
     "data": {
      "text/plain": "         Borough   ID      Month  Average_price\n36   Unnamed: 37  NaN 1995-01-01            NaN\n84   Unnamed: 37  NaN 1995-02-01            NaN\n132  Unnamed: 37  NaN 1995-03-01            NaN\n180  Unnamed: 37  NaN 1995-04-01            NaN\n228  Unnamed: 37  NaN 1995-05-01            NaN",
      "text/html": "<div>\n<style scoped>\n    .dataframe tbody tr th:only-of-type {\n        vertical-align: middle;\n    }\n\n    .dataframe tbody tr th {\n        vertical-align: top;\n    }\n\n    .dataframe thead th {\n        text-align: right;\n    }\n</style>\n<table border=\"1\" class=\"dataframe\">\n  <thead>\n    <tr style=\"text-align: right;\">\n      <th></th>\n      <th>Borough</th>\n      <th>ID</th>\n      <th>Month</th>\n      <th>Average_price</th>\n    </tr>\n  </thead>\n  <tbody>\n    <tr>\n      <th>36</th>\n      <td>Unnamed: 37</td>\n      <td>NaN</td>\n      <td>1995-01-01</td>\n      <td>NaN</td>\n    </tr>\n    <tr>\n      <th>84</th>\n      <td>Unnamed: 37</td>\n      <td>NaN</td>\n      <td>1995-02-01</td>\n      <td>NaN</td>\n    </tr>\n    <tr>\n      <th>132</th>\n      <td>Unnamed: 37</td>\n      <td>NaN</td>\n      <td>1995-03-01</td>\n      <td>NaN</td>\n    </tr>\n    <tr>\n      <th>180</th>\n      <td>Unnamed: 37</td>\n      <td>NaN</td>\n      <td>1995-04-01</td>\n      <td>NaN</td>\n    </tr>\n    <tr>\n      <th>228</th>\n      <td>Unnamed: 37</td>\n      <td>NaN</td>\n      <td>1995-05-01</td>\n      <td>NaN</td>\n    </tr>\n  </tbody>\n</table>\n</div>"
     },
     "execution_count": 45,
     "metadata": {},
     "output_type": "execute_result"
    }
   ],
   "source": [
    "# Let's do the same for 'Unnamed: 37':\n",
    "clean_properties[clean_properties['Borough'] =='Unnamed: 37'].head()"
   ],
   "metadata": {
    "collapsed": false,
    "pycharm": {
     "name": "#%%\n"
    }
   }
  },
  {
   "cell_type": "markdown",
   "source": [
    "These rows don't contain any valuable information. Delete them.\n"
   ],
   "metadata": {
    "collapsed": false
   }
  },
  {
   "cell_type": "code",
   "execution_count": 46,
   "outputs": [
    {
     "data": {
      "text/plain": "           Borough   ID      Month  Average_price\n33     Unnamed: 34  NaN 1995-01-01            NaN\n36     Unnamed: 37  NaN 1995-01-01            NaN\n46     Unnamed: 47  NaN 1995-01-01            NaN\n81     Unnamed: 34  NaN 1995-02-01            NaN\n84     Unnamed: 37  NaN 1995-02-01            NaN\n...            ...  ...        ...            ...\n14436  Unnamed: 37  NaN 2020-01-01            NaN\n14446  Unnamed: 47  NaN 2020-01-01            NaN\n14481  Unnamed: 34  NaN 2020-02-01            NaN\n14484  Unnamed: 37  NaN 2020-02-01            NaN\n14494  Unnamed: 47  NaN 2020-02-01            NaN\n\n[906 rows x 4 columns]",
      "text/html": "<div>\n<style scoped>\n    .dataframe tbody tr th:only-of-type {\n        vertical-align: middle;\n    }\n\n    .dataframe tbody tr th {\n        vertical-align: top;\n    }\n\n    .dataframe thead th {\n        text-align: right;\n    }\n</style>\n<table border=\"1\" class=\"dataframe\">\n  <thead>\n    <tr style=\"text-align: right;\">\n      <th></th>\n      <th>Borough</th>\n      <th>ID</th>\n      <th>Month</th>\n      <th>Average_price</th>\n    </tr>\n  </thead>\n  <tbody>\n    <tr>\n      <th>33</th>\n      <td>Unnamed: 34</td>\n      <td>NaN</td>\n      <td>1995-01-01</td>\n      <td>NaN</td>\n    </tr>\n    <tr>\n      <th>36</th>\n      <td>Unnamed: 37</td>\n      <td>NaN</td>\n      <td>1995-01-01</td>\n      <td>NaN</td>\n    </tr>\n    <tr>\n      <th>46</th>\n      <td>Unnamed: 47</td>\n      <td>NaN</td>\n      <td>1995-01-01</td>\n      <td>NaN</td>\n    </tr>\n    <tr>\n      <th>81</th>\n      <td>Unnamed: 34</td>\n      <td>NaN</td>\n      <td>1995-02-01</td>\n      <td>NaN</td>\n    </tr>\n    <tr>\n      <th>84</th>\n      <td>Unnamed: 37</td>\n      <td>NaN</td>\n      <td>1995-02-01</td>\n      <td>NaN</td>\n    </tr>\n    <tr>\n      <th>...</th>\n      <td>...</td>\n      <td>...</td>\n      <td>...</td>\n      <td>...</td>\n    </tr>\n    <tr>\n      <th>14436</th>\n      <td>Unnamed: 37</td>\n      <td>NaN</td>\n      <td>2020-01-01</td>\n      <td>NaN</td>\n    </tr>\n    <tr>\n      <th>14446</th>\n      <td>Unnamed: 47</td>\n      <td>NaN</td>\n      <td>2020-01-01</td>\n      <td>NaN</td>\n    </tr>\n    <tr>\n      <th>14481</th>\n      <td>Unnamed: 34</td>\n      <td>NaN</td>\n      <td>2020-02-01</td>\n      <td>NaN</td>\n    </tr>\n    <tr>\n      <th>14484</th>\n      <td>Unnamed: 37</td>\n      <td>NaN</td>\n      <td>2020-02-01</td>\n      <td>NaN</td>\n    </tr>\n    <tr>\n      <th>14494</th>\n      <td>Unnamed: 47</td>\n      <td>NaN</td>\n      <td>2020-02-01</td>\n      <td>NaN</td>\n    </tr>\n  </tbody>\n</table>\n<p>906 rows × 4 columns</p>\n</div>"
     },
     "execution_count": 46,
     "metadata": {},
     "output_type": "execute_result"
    }
   ],
   "source": [
    "# Let's look at how many rows have NAs as their value for ID. \n",
    "# To this end, subset clean_properties on the condition: clean_properties['ID'].isna().\n",
    "# Notice that this line doesn't actually reassign a new value to clean_properties. \n",
    "clean_properties[clean_properties['ID'].isna()]"
   ],
   "metadata": {
    "collapsed": false,
    "pycharm": {
     "name": "#%%\n"
    }
   }
  },
  {
   "cell_type": "markdown",
   "source": [
    "You always have a ***choice*** about how to deal with Null (NaN) values. We show you two methods today:\n",
    "1. filtering on ***notna()***\n",
    "2. reassigning on ***dropna()***\n",
    "\n",
    "Try ***notna()*** first.  ***notna()*** will return a series of booleans, where the value will be true if there's a not a null and false if there is a null.\n",
    "\n",
    "Make a new variable called *NaNFreeDF1* and assign it the result of filtering *clean_properties* on the condition: *clean_properties['Average_price'].notna()*"
   ],
   "metadata": {
    "collapsed": false
   }
  },
  {
   "cell_type": "code",
   "execution_count": 47,
   "outputs": [
    {
     "data": {
      "text/plain": "                 Borough         ID      Month  Average_price\n0         City of London  E09000001 1995-01-01    91448.98487\n1     Barking & Dagenham  E09000002 1995-01-01    50460.22660\n2                 Barnet  E09000003 1995-01-01    93284.51832\n3                 Bexley  E09000004 1995-01-01    64958.09036\n4                  Brent  E09000005 1995-01-01    71306.56698\n5                Bromley  E09000006 1995-01-01    81671.47692\n6                 Camden  E09000007 1995-01-01   120932.88810\n7                Croydon  E09000008 1995-01-01    69158.16225\n8                 Ealing  E09000009 1995-01-01    79885.89069\n9                Enfield  E09000010 1995-01-01    72514.69096\n10             Greenwich  E09000011 1995-01-01    62300.10169\n11               Hackney  E09000012 1995-01-01    61296.52637\n12  Hammersmith & Fulham  E09000013 1995-01-01   124902.86020\n13              Haringey  E09000014 1995-01-01    76287.56947\n14                Harrow  E09000015 1995-01-01    84769.52599\n15              Havering  E09000016 1995-01-01    68000.13774\n16            Hillingdon  E09000017 1995-01-01    73834.82964\n17              Hounslow  E09000018 1995-01-01    72231.70537\n18             Islington  E09000019 1995-01-01    92516.48557\n19  Kensington & Chelsea  E09000020 1995-01-01   182694.83260\n20  Kingston upon Thames  E09000021 1995-01-01    80875.84843\n21               Lambeth  E09000022 1995-01-01    67770.98843\n22              Lewisham  E09000023 1995-01-01    60491.26109\n23                Merton  E09000024 1995-01-01    82070.61330\n24                Newham  E09000025 1995-01-01    53539.31919\n25             Redbridge  E09000026 1995-01-01    72189.58437\n26  Richmond upon Thames  E09000027 1995-01-01   109326.12450\n27             Southwark  E09000028 1995-01-01    67885.20344\n28                Sutton  E09000029 1995-01-01    71536.97357\n29         Tower Hamlets  E09000030 1995-01-01    59865.18995\n30        Waltham Forest  E09000031 1995-01-01    61319.44913\n31            Wandsworth  E09000032 1995-01-01    88559.04381\n32           Westminster  E09000033 1995-01-01   133025.27720\n34          Inner London  E13000001 1995-01-01    78251.97650\n35          Outer London  E13000002 1995-01-01    72958.79836\n37            NORTH EAST  E12000001 1995-01-01    42076.35411\n38            NORTH WEST  E12000002 1995-01-01    43958.48001\n39    YORKS & THE HUMBER  E12000003 1995-01-01    44803.42878\n40         EAST MIDLANDS  E12000004 1995-01-01    45544.52227\n41         WEST MIDLANDS  E12000005 1995-01-01    48527.52339\n42       EAST OF ENGLAND  E12000006 1995-01-01    56701.59610\n43                LONDON  E12000007 1995-01-01    74435.76052\n44            SOUTH EAST  E12000008 1995-01-01    64018.87894\n45            SOUTH WEST  E12000009 1995-01-01    54705.15790\n47               England  E92000001 1995-01-01    53202.77128\n48        City of London  E09000001 1995-02-01    82202.77314\n49    Barking & Dagenham  E09000002 1995-02-01    51085.77983\n50                Barnet  E09000003 1995-02-01    93190.16963",
      "text/html": "<div>\n<style scoped>\n    .dataframe tbody tr th:only-of-type {\n        vertical-align: middle;\n    }\n\n    .dataframe tbody tr th {\n        vertical-align: top;\n    }\n\n    .dataframe thead th {\n        text-align: right;\n    }\n</style>\n<table border=\"1\" class=\"dataframe\">\n  <thead>\n    <tr style=\"text-align: right;\">\n      <th></th>\n      <th>Borough</th>\n      <th>ID</th>\n      <th>Month</th>\n      <th>Average_price</th>\n    </tr>\n  </thead>\n  <tbody>\n    <tr>\n      <th>0</th>\n      <td>City of London</td>\n      <td>E09000001</td>\n      <td>1995-01-01</td>\n      <td>91448.98487</td>\n    </tr>\n    <tr>\n      <th>1</th>\n      <td>Barking &amp; Dagenham</td>\n      <td>E09000002</td>\n      <td>1995-01-01</td>\n      <td>50460.22660</td>\n    </tr>\n    <tr>\n      <th>2</th>\n      <td>Barnet</td>\n      <td>E09000003</td>\n      <td>1995-01-01</td>\n      <td>93284.51832</td>\n    </tr>\n    <tr>\n      <th>3</th>\n      <td>Bexley</td>\n      <td>E09000004</td>\n      <td>1995-01-01</td>\n      <td>64958.09036</td>\n    </tr>\n    <tr>\n      <th>4</th>\n      <td>Brent</td>\n      <td>E09000005</td>\n      <td>1995-01-01</td>\n      <td>71306.56698</td>\n    </tr>\n    <tr>\n      <th>5</th>\n      <td>Bromley</td>\n      <td>E09000006</td>\n      <td>1995-01-01</td>\n      <td>81671.47692</td>\n    </tr>\n    <tr>\n      <th>6</th>\n      <td>Camden</td>\n      <td>E09000007</td>\n      <td>1995-01-01</td>\n      <td>120932.88810</td>\n    </tr>\n    <tr>\n      <th>7</th>\n      <td>Croydon</td>\n      <td>E09000008</td>\n      <td>1995-01-01</td>\n      <td>69158.16225</td>\n    </tr>\n    <tr>\n      <th>8</th>\n      <td>Ealing</td>\n      <td>E09000009</td>\n      <td>1995-01-01</td>\n      <td>79885.89069</td>\n    </tr>\n    <tr>\n      <th>9</th>\n      <td>Enfield</td>\n      <td>E09000010</td>\n      <td>1995-01-01</td>\n      <td>72514.69096</td>\n    </tr>\n    <tr>\n      <th>10</th>\n      <td>Greenwich</td>\n      <td>E09000011</td>\n      <td>1995-01-01</td>\n      <td>62300.10169</td>\n    </tr>\n    <tr>\n      <th>11</th>\n      <td>Hackney</td>\n      <td>E09000012</td>\n      <td>1995-01-01</td>\n      <td>61296.52637</td>\n    </tr>\n    <tr>\n      <th>12</th>\n      <td>Hammersmith &amp; Fulham</td>\n      <td>E09000013</td>\n      <td>1995-01-01</td>\n      <td>124902.86020</td>\n    </tr>\n    <tr>\n      <th>13</th>\n      <td>Haringey</td>\n      <td>E09000014</td>\n      <td>1995-01-01</td>\n      <td>76287.56947</td>\n    </tr>\n    <tr>\n      <th>14</th>\n      <td>Harrow</td>\n      <td>E09000015</td>\n      <td>1995-01-01</td>\n      <td>84769.52599</td>\n    </tr>\n    <tr>\n      <th>15</th>\n      <td>Havering</td>\n      <td>E09000016</td>\n      <td>1995-01-01</td>\n      <td>68000.13774</td>\n    </tr>\n    <tr>\n      <th>16</th>\n      <td>Hillingdon</td>\n      <td>E09000017</td>\n      <td>1995-01-01</td>\n      <td>73834.82964</td>\n    </tr>\n    <tr>\n      <th>17</th>\n      <td>Hounslow</td>\n      <td>E09000018</td>\n      <td>1995-01-01</td>\n      <td>72231.70537</td>\n    </tr>\n    <tr>\n      <th>18</th>\n      <td>Islington</td>\n      <td>E09000019</td>\n      <td>1995-01-01</td>\n      <td>92516.48557</td>\n    </tr>\n    <tr>\n      <th>19</th>\n      <td>Kensington &amp; Chelsea</td>\n      <td>E09000020</td>\n      <td>1995-01-01</td>\n      <td>182694.83260</td>\n    </tr>\n    <tr>\n      <th>20</th>\n      <td>Kingston upon Thames</td>\n      <td>E09000021</td>\n      <td>1995-01-01</td>\n      <td>80875.84843</td>\n    </tr>\n    <tr>\n      <th>21</th>\n      <td>Lambeth</td>\n      <td>E09000022</td>\n      <td>1995-01-01</td>\n      <td>67770.98843</td>\n    </tr>\n    <tr>\n      <th>22</th>\n      <td>Lewisham</td>\n      <td>E09000023</td>\n      <td>1995-01-01</td>\n      <td>60491.26109</td>\n    </tr>\n    <tr>\n      <th>23</th>\n      <td>Merton</td>\n      <td>E09000024</td>\n      <td>1995-01-01</td>\n      <td>82070.61330</td>\n    </tr>\n    <tr>\n      <th>24</th>\n      <td>Newham</td>\n      <td>E09000025</td>\n      <td>1995-01-01</td>\n      <td>53539.31919</td>\n    </tr>\n    <tr>\n      <th>25</th>\n      <td>Redbridge</td>\n      <td>E09000026</td>\n      <td>1995-01-01</td>\n      <td>72189.58437</td>\n    </tr>\n    <tr>\n      <th>26</th>\n      <td>Richmond upon Thames</td>\n      <td>E09000027</td>\n      <td>1995-01-01</td>\n      <td>109326.12450</td>\n    </tr>\n    <tr>\n      <th>27</th>\n      <td>Southwark</td>\n      <td>E09000028</td>\n      <td>1995-01-01</td>\n      <td>67885.20344</td>\n    </tr>\n    <tr>\n      <th>28</th>\n      <td>Sutton</td>\n      <td>E09000029</td>\n      <td>1995-01-01</td>\n      <td>71536.97357</td>\n    </tr>\n    <tr>\n      <th>29</th>\n      <td>Tower Hamlets</td>\n      <td>E09000030</td>\n      <td>1995-01-01</td>\n      <td>59865.18995</td>\n    </tr>\n    <tr>\n      <th>30</th>\n      <td>Waltham Forest</td>\n      <td>E09000031</td>\n      <td>1995-01-01</td>\n      <td>61319.44913</td>\n    </tr>\n    <tr>\n      <th>31</th>\n      <td>Wandsworth</td>\n      <td>E09000032</td>\n      <td>1995-01-01</td>\n      <td>88559.04381</td>\n    </tr>\n    <tr>\n      <th>32</th>\n      <td>Westminster</td>\n      <td>E09000033</td>\n      <td>1995-01-01</td>\n      <td>133025.27720</td>\n    </tr>\n    <tr>\n      <th>34</th>\n      <td>Inner London</td>\n      <td>E13000001</td>\n      <td>1995-01-01</td>\n      <td>78251.97650</td>\n    </tr>\n    <tr>\n      <th>35</th>\n      <td>Outer London</td>\n      <td>E13000002</td>\n      <td>1995-01-01</td>\n      <td>72958.79836</td>\n    </tr>\n    <tr>\n      <th>37</th>\n      <td>NORTH EAST</td>\n      <td>E12000001</td>\n      <td>1995-01-01</td>\n      <td>42076.35411</td>\n    </tr>\n    <tr>\n      <th>38</th>\n      <td>NORTH WEST</td>\n      <td>E12000002</td>\n      <td>1995-01-01</td>\n      <td>43958.48001</td>\n    </tr>\n    <tr>\n      <th>39</th>\n      <td>YORKS &amp; THE HUMBER</td>\n      <td>E12000003</td>\n      <td>1995-01-01</td>\n      <td>44803.42878</td>\n    </tr>\n    <tr>\n      <th>40</th>\n      <td>EAST MIDLANDS</td>\n      <td>E12000004</td>\n      <td>1995-01-01</td>\n      <td>45544.52227</td>\n    </tr>\n    <tr>\n      <th>41</th>\n      <td>WEST MIDLANDS</td>\n      <td>E12000005</td>\n      <td>1995-01-01</td>\n      <td>48527.52339</td>\n    </tr>\n    <tr>\n      <th>42</th>\n      <td>EAST OF ENGLAND</td>\n      <td>E12000006</td>\n      <td>1995-01-01</td>\n      <td>56701.59610</td>\n    </tr>\n    <tr>\n      <th>43</th>\n      <td>LONDON</td>\n      <td>E12000007</td>\n      <td>1995-01-01</td>\n      <td>74435.76052</td>\n    </tr>\n    <tr>\n      <th>44</th>\n      <td>SOUTH EAST</td>\n      <td>E12000008</td>\n      <td>1995-01-01</td>\n      <td>64018.87894</td>\n    </tr>\n    <tr>\n      <th>45</th>\n      <td>SOUTH WEST</td>\n      <td>E12000009</td>\n      <td>1995-01-01</td>\n      <td>54705.15790</td>\n    </tr>\n    <tr>\n      <th>47</th>\n      <td>England</td>\n      <td>E92000001</td>\n      <td>1995-01-01</td>\n      <td>53202.77128</td>\n    </tr>\n    <tr>\n      <th>48</th>\n      <td>City of London</td>\n      <td>E09000001</td>\n      <td>1995-02-01</td>\n      <td>82202.77314</td>\n    </tr>\n    <tr>\n      <th>49</th>\n      <td>Barking &amp; Dagenham</td>\n      <td>E09000002</td>\n      <td>1995-02-01</td>\n      <td>51085.77983</td>\n    </tr>\n    <tr>\n      <th>50</th>\n      <td>Barnet</td>\n      <td>E09000003</td>\n      <td>1995-02-01</td>\n      <td>93190.16963</td>\n    </tr>\n  </tbody>\n</table>\n</div>"
     },
     "execution_count": 47,
     "metadata": {},
     "output_type": "execute_result"
    }
   ],
   "source": [
    "# Try your hand at method (1) here: \n",
    "NaNFreeDF1 = clean_properties[clean_properties['Average_price'].notna()]\n",
    "NaNFreeDF1.head(48)"
   ],
   "metadata": {
    "collapsed": false,
    "pycharm": {
     "name": "#%%\n"
    }
   }
  },
  {
   "cell_type": "code",
   "execution_count": 48,
   "outputs": [
    {
     "data": {
      "text/plain": "Borough          13590\nID               13590\nMonth            13590\nAverage_price    13590\ndtype: int64"
     },
     "execution_count": 48,
     "metadata": {},
     "output_type": "execute_result"
    }
   ],
   "source": [
    "# If we do a count on our new DataFrame, we'll see how many rows we have that have complete information: \n",
    "NaNFreeDF1.count()"
   ],
   "metadata": {
    "collapsed": false,
    "pycharm": {
     "name": "#%%\n"
    }
   }
  },
  {
   "cell_type": "markdown",
   "source": [
    "Looks good! \n",
    "\n",
    "For completeness, now use ***dropna()***. ***dropna()*** will drop all null values. \n",
    "\n",
    "Make a new variable called *NaNFreeDF2*, and assign it the result of calling ***dropna()*** on *clean_properties*. "
   ],
   "metadata": {
    "collapsed": false
   }
  },
  {
   "cell_type": "code",
   "execution_count": 49,
   "outputs": [
    {
     "data": {
      "text/plain": "                 Borough         ID      Month  Average_price\n0         City of London  E09000001 1995-01-01    91448.98487\n1     Barking & Dagenham  E09000002 1995-01-01    50460.22660\n2                 Barnet  E09000003 1995-01-01    93284.51832\n3                 Bexley  E09000004 1995-01-01    64958.09036\n4                  Brent  E09000005 1995-01-01    71306.56698\n5                Bromley  E09000006 1995-01-01    81671.47692\n6                 Camden  E09000007 1995-01-01   120932.88810\n7                Croydon  E09000008 1995-01-01    69158.16225\n8                 Ealing  E09000009 1995-01-01    79885.89069\n9                Enfield  E09000010 1995-01-01    72514.69096\n10             Greenwich  E09000011 1995-01-01    62300.10169\n11               Hackney  E09000012 1995-01-01    61296.52637\n12  Hammersmith & Fulham  E09000013 1995-01-01   124902.86020\n13              Haringey  E09000014 1995-01-01    76287.56947\n14                Harrow  E09000015 1995-01-01    84769.52599\n15              Havering  E09000016 1995-01-01    68000.13774\n16            Hillingdon  E09000017 1995-01-01    73834.82964\n17              Hounslow  E09000018 1995-01-01    72231.70537\n18             Islington  E09000019 1995-01-01    92516.48557\n19  Kensington & Chelsea  E09000020 1995-01-01   182694.83260\n20  Kingston upon Thames  E09000021 1995-01-01    80875.84843\n21               Lambeth  E09000022 1995-01-01    67770.98843\n22              Lewisham  E09000023 1995-01-01    60491.26109\n23                Merton  E09000024 1995-01-01    82070.61330\n24                Newham  E09000025 1995-01-01    53539.31919\n25             Redbridge  E09000026 1995-01-01    72189.58437\n26  Richmond upon Thames  E09000027 1995-01-01   109326.12450\n27             Southwark  E09000028 1995-01-01    67885.20344\n28                Sutton  E09000029 1995-01-01    71536.97357\n29         Tower Hamlets  E09000030 1995-01-01    59865.18995\n30        Waltham Forest  E09000031 1995-01-01    61319.44913\n31            Wandsworth  E09000032 1995-01-01    88559.04381\n32           Westminster  E09000033 1995-01-01   133025.27720\n34          Inner London  E13000001 1995-01-01    78251.97650\n35          Outer London  E13000002 1995-01-01    72958.79836\n37            NORTH EAST  E12000001 1995-01-01    42076.35411\n38            NORTH WEST  E12000002 1995-01-01    43958.48001\n39    YORKS & THE HUMBER  E12000003 1995-01-01    44803.42878\n40         EAST MIDLANDS  E12000004 1995-01-01    45544.52227\n41         WEST MIDLANDS  E12000005 1995-01-01    48527.52339\n42       EAST OF ENGLAND  E12000006 1995-01-01    56701.59610\n43                LONDON  E12000007 1995-01-01    74435.76052\n44            SOUTH EAST  E12000008 1995-01-01    64018.87894\n45            SOUTH WEST  E12000009 1995-01-01    54705.15790\n47               England  E92000001 1995-01-01    53202.77128\n48        City of London  E09000001 1995-02-01    82202.77314\n49    Barking & Dagenham  E09000002 1995-02-01    51085.77983\n50                Barnet  E09000003 1995-02-01    93190.16963",
      "text/html": "<div>\n<style scoped>\n    .dataframe tbody tr th:only-of-type {\n        vertical-align: middle;\n    }\n\n    .dataframe tbody tr th {\n        vertical-align: top;\n    }\n\n    .dataframe thead th {\n        text-align: right;\n    }\n</style>\n<table border=\"1\" class=\"dataframe\">\n  <thead>\n    <tr style=\"text-align: right;\">\n      <th></th>\n      <th>Borough</th>\n      <th>ID</th>\n      <th>Month</th>\n      <th>Average_price</th>\n    </tr>\n  </thead>\n  <tbody>\n    <tr>\n      <th>0</th>\n      <td>City of London</td>\n      <td>E09000001</td>\n      <td>1995-01-01</td>\n      <td>91448.98487</td>\n    </tr>\n    <tr>\n      <th>1</th>\n      <td>Barking &amp; Dagenham</td>\n      <td>E09000002</td>\n      <td>1995-01-01</td>\n      <td>50460.22660</td>\n    </tr>\n    <tr>\n      <th>2</th>\n      <td>Barnet</td>\n      <td>E09000003</td>\n      <td>1995-01-01</td>\n      <td>93284.51832</td>\n    </tr>\n    <tr>\n      <th>3</th>\n      <td>Bexley</td>\n      <td>E09000004</td>\n      <td>1995-01-01</td>\n      <td>64958.09036</td>\n    </tr>\n    <tr>\n      <th>4</th>\n      <td>Brent</td>\n      <td>E09000005</td>\n      <td>1995-01-01</td>\n      <td>71306.56698</td>\n    </tr>\n    <tr>\n      <th>5</th>\n      <td>Bromley</td>\n      <td>E09000006</td>\n      <td>1995-01-01</td>\n      <td>81671.47692</td>\n    </tr>\n    <tr>\n      <th>6</th>\n      <td>Camden</td>\n      <td>E09000007</td>\n      <td>1995-01-01</td>\n      <td>120932.88810</td>\n    </tr>\n    <tr>\n      <th>7</th>\n      <td>Croydon</td>\n      <td>E09000008</td>\n      <td>1995-01-01</td>\n      <td>69158.16225</td>\n    </tr>\n    <tr>\n      <th>8</th>\n      <td>Ealing</td>\n      <td>E09000009</td>\n      <td>1995-01-01</td>\n      <td>79885.89069</td>\n    </tr>\n    <tr>\n      <th>9</th>\n      <td>Enfield</td>\n      <td>E09000010</td>\n      <td>1995-01-01</td>\n      <td>72514.69096</td>\n    </tr>\n    <tr>\n      <th>10</th>\n      <td>Greenwich</td>\n      <td>E09000011</td>\n      <td>1995-01-01</td>\n      <td>62300.10169</td>\n    </tr>\n    <tr>\n      <th>11</th>\n      <td>Hackney</td>\n      <td>E09000012</td>\n      <td>1995-01-01</td>\n      <td>61296.52637</td>\n    </tr>\n    <tr>\n      <th>12</th>\n      <td>Hammersmith &amp; Fulham</td>\n      <td>E09000013</td>\n      <td>1995-01-01</td>\n      <td>124902.86020</td>\n    </tr>\n    <tr>\n      <th>13</th>\n      <td>Haringey</td>\n      <td>E09000014</td>\n      <td>1995-01-01</td>\n      <td>76287.56947</td>\n    </tr>\n    <tr>\n      <th>14</th>\n      <td>Harrow</td>\n      <td>E09000015</td>\n      <td>1995-01-01</td>\n      <td>84769.52599</td>\n    </tr>\n    <tr>\n      <th>15</th>\n      <td>Havering</td>\n      <td>E09000016</td>\n      <td>1995-01-01</td>\n      <td>68000.13774</td>\n    </tr>\n    <tr>\n      <th>16</th>\n      <td>Hillingdon</td>\n      <td>E09000017</td>\n      <td>1995-01-01</td>\n      <td>73834.82964</td>\n    </tr>\n    <tr>\n      <th>17</th>\n      <td>Hounslow</td>\n      <td>E09000018</td>\n      <td>1995-01-01</td>\n      <td>72231.70537</td>\n    </tr>\n    <tr>\n      <th>18</th>\n      <td>Islington</td>\n      <td>E09000019</td>\n      <td>1995-01-01</td>\n      <td>92516.48557</td>\n    </tr>\n    <tr>\n      <th>19</th>\n      <td>Kensington &amp; Chelsea</td>\n      <td>E09000020</td>\n      <td>1995-01-01</td>\n      <td>182694.83260</td>\n    </tr>\n    <tr>\n      <th>20</th>\n      <td>Kingston upon Thames</td>\n      <td>E09000021</td>\n      <td>1995-01-01</td>\n      <td>80875.84843</td>\n    </tr>\n    <tr>\n      <th>21</th>\n      <td>Lambeth</td>\n      <td>E09000022</td>\n      <td>1995-01-01</td>\n      <td>67770.98843</td>\n    </tr>\n    <tr>\n      <th>22</th>\n      <td>Lewisham</td>\n      <td>E09000023</td>\n      <td>1995-01-01</td>\n      <td>60491.26109</td>\n    </tr>\n    <tr>\n      <th>23</th>\n      <td>Merton</td>\n      <td>E09000024</td>\n      <td>1995-01-01</td>\n      <td>82070.61330</td>\n    </tr>\n    <tr>\n      <th>24</th>\n      <td>Newham</td>\n      <td>E09000025</td>\n      <td>1995-01-01</td>\n      <td>53539.31919</td>\n    </tr>\n    <tr>\n      <th>25</th>\n      <td>Redbridge</td>\n      <td>E09000026</td>\n      <td>1995-01-01</td>\n      <td>72189.58437</td>\n    </tr>\n    <tr>\n      <th>26</th>\n      <td>Richmond upon Thames</td>\n      <td>E09000027</td>\n      <td>1995-01-01</td>\n      <td>109326.12450</td>\n    </tr>\n    <tr>\n      <th>27</th>\n      <td>Southwark</td>\n      <td>E09000028</td>\n      <td>1995-01-01</td>\n      <td>67885.20344</td>\n    </tr>\n    <tr>\n      <th>28</th>\n      <td>Sutton</td>\n      <td>E09000029</td>\n      <td>1995-01-01</td>\n      <td>71536.97357</td>\n    </tr>\n    <tr>\n      <th>29</th>\n      <td>Tower Hamlets</td>\n      <td>E09000030</td>\n      <td>1995-01-01</td>\n      <td>59865.18995</td>\n    </tr>\n    <tr>\n      <th>30</th>\n      <td>Waltham Forest</td>\n      <td>E09000031</td>\n      <td>1995-01-01</td>\n      <td>61319.44913</td>\n    </tr>\n    <tr>\n      <th>31</th>\n      <td>Wandsworth</td>\n      <td>E09000032</td>\n      <td>1995-01-01</td>\n      <td>88559.04381</td>\n    </tr>\n    <tr>\n      <th>32</th>\n      <td>Westminster</td>\n      <td>E09000033</td>\n      <td>1995-01-01</td>\n      <td>133025.27720</td>\n    </tr>\n    <tr>\n      <th>34</th>\n      <td>Inner London</td>\n      <td>E13000001</td>\n      <td>1995-01-01</td>\n      <td>78251.97650</td>\n    </tr>\n    <tr>\n      <th>35</th>\n      <td>Outer London</td>\n      <td>E13000002</td>\n      <td>1995-01-01</td>\n      <td>72958.79836</td>\n    </tr>\n    <tr>\n      <th>37</th>\n      <td>NORTH EAST</td>\n      <td>E12000001</td>\n      <td>1995-01-01</td>\n      <td>42076.35411</td>\n    </tr>\n    <tr>\n      <th>38</th>\n      <td>NORTH WEST</td>\n      <td>E12000002</td>\n      <td>1995-01-01</td>\n      <td>43958.48001</td>\n    </tr>\n    <tr>\n      <th>39</th>\n      <td>YORKS &amp; THE HUMBER</td>\n      <td>E12000003</td>\n      <td>1995-01-01</td>\n      <td>44803.42878</td>\n    </tr>\n    <tr>\n      <th>40</th>\n      <td>EAST MIDLANDS</td>\n      <td>E12000004</td>\n      <td>1995-01-01</td>\n      <td>45544.52227</td>\n    </tr>\n    <tr>\n      <th>41</th>\n      <td>WEST MIDLANDS</td>\n      <td>E12000005</td>\n      <td>1995-01-01</td>\n      <td>48527.52339</td>\n    </tr>\n    <tr>\n      <th>42</th>\n      <td>EAST OF ENGLAND</td>\n      <td>E12000006</td>\n      <td>1995-01-01</td>\n      <td>56701.59610</td>\n    </tr>\n    <tr>\n      <th>43</th>\n      <td>LONDON</td>\n      <td>E12000007</td>\n      <td>1995-01-01</td>\n      <td>74435.76052</td>\n    </tr>\n    <tr>\n      <th>44</th>\n      <td>SOUTH EAST</td>\n      <td>E12000008</td>\n      <td>1995-01-01</td>\n      <td>64018.87894</td>\n    </tr>\n    <tr>\n      <th>45</th>\n      <td>SOUTH WEST</td>\n      <td>E12000009</td>\n      <td>1995-01-01</td>\n      <td>54705.15790</td>\n    </tr>\n    <tr>\n      <th>47</th>\n      <td>England</td>\n      <td>E92000001</td>\n      <td>1995-01-01</td>\n      <td>53202.77128</td>\n    </tr>\n    <tr>\n      <th>48</th>\n      <td>City of London</td>\n      <td>E09000001</td>\n      <td>1995-02-01</td>\n      <td>82202.77314</td>\n    </tr>\n    <tr>\n      <th>49</th>\n      <td>Barking &amp; Dagenham</td>\n      <td>E09000002</td>\n      <td>1995-02-01</td>\n      <td>51085.77983</td>\n    </tr>\n    <tr>\n      <th>50</th>\n      <td>Barnet</td>\n      <td>E09000003</td>\n      <td>1995-02-01</td>\n      <td>93190.16963</td>\n    </tr>\n  </tbody>\n</table>\n</div>"
     },
     "execution_count": 49,
     "metadata": {},
     "output_type": "execute_result"
    }
   ],
   "source": [
    "# filtering the data with NaN values\n",
    "NaNFreeDF2 = clean_properties.dropna()\n",
    "NaNFreeDF2.head(48)"
   ],
   "metadata": {
    "collapsed": false,
    "pycharm": {
     "name": "#%%\n"
    }
   }
  },
  {
   "cell_type": "code",
   "execution_count": 50,
   "outputs": [
    {
     "data": {
      "text/plain": "Borough          13590\nID               13590\nMonth            13590\nAverage_price    13590\ndtype: int64"
     },
     "execution_count": 50,
     "metadata": {},
     "output_type": "execute_result"
    }
   ],
   "source": [
    "# Let's do a count on this DataFrame object: \n",
    "NaNFreeDF2.count()"
   ],
   "metadata": {
    "collapsed": false,
    "pycharm": {
     "name": "#%%\n"
    }
   }
  },
  {
   "cell_type": "code",
   "execution_count": 51,
   "outputs": [
    {
     "data": {
      "text/plain": "array(['City of London', 'Barking & Dagenham', 'Barnet', 'Bexley',\n       'Brent', 'Bromley', 'Camden', 'Croydon', 'Ealing', 'Enfield',\n       'Greenwich', 'Hackney', 'Hammersmith & Fulham', 'Haringey',\n       'Harrow', 'Havering', 'Hillingdon', 'Hounslow', 'Islington',\n       'Kensington & Chelsea', 'Kingston upon Thames', 'Lambeth',\n       'Lewisham', 'Merton', 'Newham', 'Redbridge',\n       'Richmond upon Thames', 'Southwark', 'Sutton', 'Tower Hamlets',\n       'Waltham Forest', 'Wandsworth', 'Westminster', 'Inner London',\n       'Outer London', 'NORTH EAST', 'NORTH WEST', 'YORKS & THE HUMBER',\n       'EAST MIDLANDS', 'WEST MIDLANDS', 'EAST OF ENGLAND', 'LONDON',\n       'SOUTH EAST', 'SOUTH WEST', 'England'], dtype=object)"
     },
     "execution_count": 51,
     "metadata": {},
     "output_type": "execute_result"
    }
   ],
   "source": [
    "NaNFreeDF2['Borough'].unique()"
   ],
   "metadata": {
    "collapsed": false,
    "pycharm": {
     "name": "#%%\n"
    }
   }
  },
  {
   "cell_type": "markdown",
   "source": [
    "Both these methods did the job! Thus, you can pick either resultant DataFrame."
   ],
   "metadata": {
    "collapsed": false
   }
  },
  {
   "cell_type": "code",
   "execution_count": 52,
   "outputs": [
    {
     "name": "stdout",
     "output_type": "stream",
     "text": [
      "(14496, 4)\n",
      "(13590, 4)\n",
      "(13590, 4)\n"
     ]
    }
   ],
   "source": [
    "# Using the .shape attribute, compare the dimenions of clean_properties, NaNFreeDF1, and NaNFreeDF2: \n",
    "print(clean_properties.shape)\n",
    "print(NaNFreeDF1.shape)\n",
    "print(NaNFreeDF2.shape)"
   ],
   "metadata": {
    "collapsed": false,
    "pycharm": {
     "name": "#%%\n"
    }
   }
  },
  {
   "cell_type": "markdown",
   "source": [
    "Our suggestions is to pick NaNFreeDF2.\n",
    "\n",
    "Drop the rest of the invalid 'London Borough' values.\n",
    "\n",
    "An elegant way to do this is to make a list of all those invalid values, then use the isin() method, combined with the negation operator ~, to remove those values. Call this list nonBoroughs."
   ],
   "metadata": {
    "collapsed": false
   }
  },
  {
   "cell_type": "code",
   "execution_count": 53,
   "outputs": [],
   "source": [
    "# A list of non-boroughs. \n",
    "nonBoroughs = ['Inner London', 'Outer London', \n",
    "               'NORTH EAST', 'NORTH WEST', 'YORKS & THE HUMBER', \n",
    "               'EAST MIDLANDS', 'WEST MIDLANDS',\n",
    "              'EAST OF ENGLAND', 'LONDON', 'SOUTH EAST', \n",
    "              'SOUTH WEST', 'England']"
   ],
   "metadata": {
    "collapsed": false,
    "pycharm": {
     "name": "#%%\n"
    }
   }
  },
  {
   "cell_type": "markdown",
   "source": [
    "Filter *NanFreeDF2* first on the condition that the rows' values for *London_Borough* is *in* the *nonBoroughs* list. "
   ],
   "metadata": {
    "collapsed": false
   }
  },
  {
   "cell_type": "code",
   "execution_count": 54,
   "outputs": [
    {
     "data": {
      "text/plain": "                  Borough         ID      Month  Average_price\n34           Inner London  E13000001 1995-01-01    78251.97650\n35           Outer London  E13000002 1995-01-01    72958.79836\n37             NORTH EAST  E12000001 1995-01-01    42076.35411\n38             NORTH WEST  E12000002 1995-01-01    43958.48001\n39     YORKS & THE HUMBER  E12000003 1995-01-01    44803.42878\n...                   ...        ...        ...            ...\n14490     EAST OF ENGLAND  E12000006 2020-02-01   286869.06350\n14491              LONDON  E12000007 2020-02-01   476972.07330\n14492          SOUTH EAST  E12000008 2020-02-01   321329.36450\n14493          SOUTH WEST  E12000009 2020-02-01   258043.97170\n14495             England  E92000001 2020-02-01   246341.31270\n\n[3624 rows x 4 columns]",
      "text/html": "<div>\n<style scoped>\n    .dataframe tbody tr th:only-of-type {\n        vertical-align: middle;\n    }\n\n    .dataframe tbody tr th {\n        vertical-align: top;\n    }\n\n    .dataframe thead th {\n        text-align: right;\n    }\n</style>\n<table border=\"1\" class=\"dataframe\">\n  <thead>\n    <tr style=\"text-align: right;\">\n      <th></th>\n      <th>Borough</th>\n      <th>ID</th>\n      <th>Month</th>\n      <th>Average_price</th>\n    </tr>\n  </thead>\n  <tbody>\n    <tr>\n      <th>34</th>\n      <td>Inner London</td>\n      <td>E13000001</td>\n      <td>1995-01-01</td>\n      <td>78251.97650</td>\n    </tr>\n    <tr>\n      <th>35</th>\n      <td>Outer London</td>\n      <td>E13000002</td>\n      <td>1995-01-01</td>\n      <td>72958.79836</td>\n    </tr>\n    <tr>\n      <th>37</th>\n      <td>NORTH EAST</td>\n      <td>E12000001</td>\n      <td>1995-01-01</td>\n      <td>42076.35411</td>\n    </tr>\n    <tr>\n      <th>38</th>\n      <td>NORTH WEST</td>\n      <td>E12000002</td>\n      <td>1995-01-01</td>\n      <td>43958.48001</td>\n    </tr>\n    <tr>\n      <th>39</th>\n      <td>YORKS &amp; THE HUMBER</td>\n      <td>E12000003</td>\n      <td>1995-01-01</td>\n      <td>44803.42878</td>\n    </tr>\n    <tr>\n      <th>...</th>\n      <td>...</td>\n      <td>...</td>\n      <td>...</td>\n      <td>...</td>\n    </tr>\n    <tr>\n      <th>14490</th>\n      <td>EAST OF ENGLAND</td>\n      <td>E12000006</td>\n      <td>2020-02-01</td>\n      <td>286869.06350</td>\n    </tr>\n    <tr>\n      <th>14491</th>\n      <td>LONDON</td>\n      <td>E12000007</td>\n      <td>2020-02-01</td>\n      <td>476972.07330</td>\n    </tr>\n    <tr>\n      <th>14492</th>\n      <td>SOUTH EAST</td>\n      <td>E12000008</td>\n      <td>2020-02-01</td>\n      <td>321329.36450</td>\n    </tr>\n    <tr>\n      <th>14493</th>\n      <td>SOUTH WEST</td>\n      <td>E12000009</td>\n      <td>2020-02-01</td>\n      <td>258043.97170</td>\n    </tr>\n    <tr>\n      <th>14495</th>\n      <td>England</td>\n      <td>E92000001</td>\n      <td>2020-02-01</td>\n      <td>246341.31270</td>\n    </tr>\n  </tbody>\n</table>\n<p>3624 rows × 4 columns</p>\n</div>"
     },
     "execution_count": 54,
     "metadata": {},
     "output_type": "execute_result"
    }
   ],
   "source": [
    "# Do this here. \n",
    "NaNFreeDF2[NaNFreeDF2.Borough.isin(nonBoroughs)]"
   ],
   "metadata": {
    "collapsed": false,
    "pycharm": {
     "name": "#%%\n"
    }
   }
  },
  {
   "cell_type": "markdown",
   "source": [
    "You can now just put the negation operator *~* before the filter statement to get just those rows whose values for *London_Borough* is **not** in the *nonBoroughs* list:"
   ],
   "metadata": {
    "collapsed": false
   }
  },
  {
   "cell_type": "code",
   "execution_count": 55,
   "outputs": [
    {
     "data": {
      "text/plain": "                  Borough         ID      Month  Average_price\n0          City of London  E09000001 1995-01-01    91448.98487\n1      Barking & Dagenham  E09000002 1995-01-01    50460.22660\n2                  Barnet  E09000003 1995-01-01    93284.51832\n3                  Bexley  E09000004 1995-01-01    64958.09036\n4                   Brent  E09000005 1995-01-01    71306.56698\n...                   ...        ...        ...            ...\n14476              Sutton  E09000029 2020-02-01   380197.65130\n14477       Tower Hamlets  E09000030 2020-02-01   462323.47580\n14478      Waltham Forest  E09000031 2020-02-01   441113.02350\n14479          Wandsworth  E09000032 2020-02-01   600088.58990\n14480         Westminster  E09000033 2020-02-01   975090.95900\n\n[9966 rows x 4 columns]",
      "text/html": "<div>\n<style scoped>\n    .dataframe tbody tr th:only-of-type {\n        vertical-align: middle;\n    }\n\n    .dataframe tbody tr th {\n        vertical-align: top;\n    }\n\n    .dataframe thead th {\n        text-align: right;\n    }\n</style>\n<table border=\"1\" class=\"dataframe\">\n  <thead>\n    <tr style=\"text-align: right;\">\n      <th></th>\n      <th>Borough</th>\n      <th>ID</th>\n      <th>Month</th>\n      <th>Average_price</th>\n    </tr>\n  </thead>\n  <tbody>\n    <tr>\n      <th>0</th>\n      <td>City of London</td>\n      <td>E09000001</td>\n      <td>1995-01-01</td>\n      <td>91448.98487</td>\n    </tr>\n    <tr>\n      <th>1</th>\n      <td>Barking &amp; Dagenham</td>\n      <td>E09000002</td>\n      <td>1995-01-01</td>\n      <td>50460.22660</td>\n    </tr>\n    <tr>\n      <th>2</th>\n      <td>Barnet</td>\n      <td>E09000003</td>\n      <td>1995-01-01</td>\n      <td>93284.51832</td>\n    </tr>\n    <tr>\n      <th>3</th>\n      <td>Bexley</td>\n      <td>E09000004</td>\n      <td>1995-01-01</td>\n      <td>64958.09036</td>\n    </tr>\n    <tr>\n      <th>4</th>\n      <td>Brent</td>\n      <td>E09000005</td>\n      <td>1995-01-01</td>\n      <td>71306.56698</td>\n    </tr>\n    <tr>\n      <th>...</th>\n      <td>...</td>\n      <td>...</td>\n      <td>...</td>\n      <td>...</td>\n    </tr>\n    <tr>\n      <th>14476</th>\n      <td>Sutton</td>\n      <td>E09000029</td>\n      <td>2020-02-01</td>\n      <td>380197.65130</td>\n    </tr>\n    <tr>\n      <th>14477</th>\n      <td>Tower Hamlets</td>\n      <td>E09000030</td>\n      <td>2020-02-01</td>\n      <td>462323.47580</td>\n    </tr>\n    <tr>\n      <th>14478</th>\n      <td>Waltham Forest</td>\n      <td>E09000031</td>\n      <td>2020-02-01</td>\n      <td>441113.02350</td>\n    </tr>\n    <tr>\n      <th>14479</th>\n      <td>Wandsworth</td>\n      <td>E09000032</td>\n      <td>2020-02-01</td>\n      <td>600088.58990</td>\n    </tr>\n    <tr>\n      <th>14480</th>\n      <td>Westminster</td>\n      <td>E09000033</td>\n      <td>2020-02-01</td>\n      <td>975090.95900</td>\n    </tr>\n  </tbody>\n</table>\n<p>9966 rows × 4 columns</p>\n</div>"
     },
     "execution_count": 55,
     "metadata": {},
     "output_type": "execute_result"
    }
   ],
   "source": [
    "NaNFreeDF2[~NaNFreeDF2.Borough.isin(nonBoroughs)]"
   ],
   "metadata": {
    "collapsed": false,
    "pycharm": {
     "name": "#%%\n"
    }
   }
  },
  {
   "cell_type": "markdown",
   "source": [
    "Then execute the reassignment: \n",
    "\n"
   ],
   "metadata": {
    "collapsed": false
   }
  },
  {
   "cell_type": "code",
   "execution_count": 56,
   "outputs": [],
   "source": [
    "NaNFreeDF2 = NaNFreeDF2[~NaNFreeDF2.Borough.isin(nonBoroughs)]"
   ],
   "metadata": {
    "collapsed": false,
    "pycharm": {
     "name": "#%%\n"
    }
   }
  },
  {
   "cell_type": "code",
   "execution_count": 57,
   "outputs": [
    {
     "data": {
      "text/plain": "              Borough         ID      Month  Average_price\n0      City of London  E09000001 1995-01-01    91448.98487\n1  Barking & Dagenham  E09000002 1995-01-01    50460.22660\n2              Barnet  E09000003 1995-01-01    93284.51832\n3              Bexley  E09000004 1995-01-01    64958.09036\n4               Brent  E09000005 1995-01-01    71306.56698",
      "text/html": "<div>\n<style scoped>\n    .dataframe tbody tr th:only-of-type {\n        vertical-align: middle;\n    }\n\n    .dataframe tbody tr th {\n        vertical-align: top;\n    }\n\n    .dataframe thead th {\n        text-align: right;\n    }\n</style>\n<table border=\"1\" class=\"dataframe\">\n  <thead>\n    <tr style=\"text-align: right;\">\n      <th></th>\n      <th>Borough</th>\n      <th>ID</th>\n      <th>Month</th>\n      <th>Average_price</th>\n    </tr>\n  </thead>\n  <tbody>\n    <tr>\n      <th>0</th>\n      <td>City of London</td>\n      <td>E09000001</td>\n      <td>1995-01-01</td>\n      <td>91448.98487</td>\n    </tr>\n    <tr>\n      <th>1</th>\n      <td>Barking &amp; Dagenham</td>\n      <td>E09000002</td>\n      <td>1995-01-01</td>\n      <td>50460.22660</td>\n    </tr>\n    <tr>\n      <th>2</th>\n      <td>Barnet</td>\n      <td>E09000003</td>\n      <td>1995-01-01</td>\n      <td>93284.51832</td>\n    </tr>\n    <tr>\n      <th>3</th>\n      <td>Bexley</td>\n      <td>E09000004</td>\n      <td>1995-01-01</td>\n      <td>64958.09036</td>\n    </tr>\n    <tr>\n      <th>4</th>\n      <td>Brent</td>\n      <td>E09000005</td>\n      <td>1995-01-01</td>\n      <td>71306.56698</td>\n    </tr>\n  </tbody>\n</table>\n</div>"
     },
     "execution_count": 57,
     "metadata": {},
     "output_type": "execute_result"
    }
   ],
   "source": [
    "NaNFreeDF2.head()"
   ],
   "metadata": {
    "collapsed": false,
    "pycharm": {
     "name": "#%%\n"
    }
   }
  },
  {
   "cell_type": "markdown",
   "source": [
    "Make a new variable called 'df', which is what data scientists typically name their final, analysis-ready DataFrame. "
   ],
   "metadata": {
    "collapsed": false
   }
  },
  {
   "cell_type": "code",
   "execution_count": 58,
   "outputs": [],
   "source": [
    "# Do that here. \n",
    "df = NaNFreeDF2"
   ],
   "metadata": {
    "collapsed": false,
    "pycharm": {
     "name": "#%%\n"
    }
   }
  },
  {
   "cell_type": "code",
   "execution_count": 59,
   "outputs": [
    {
     "data": {
      "text/plain": "              Borough         ID      Month  Average_price\n0      City of London  E09000001 1995-01-01    91448.98487\n1  Barking & Dagenham  E09000002 1995-01-01    50460.22660\n2              Barnet  E09000003 1995-01-01    93284.51832\n3              Bexley  E09000004 1995-01-01    64958.09036\n4               Brent  E09000005 1995-01-01    71306.56698",
      "text/html": "<div>\n<style scoped>\n    .dataframe tbody tr th:only-of-type {\n        vertical-align: middle;\n    }\n\n    .dataframe tbody tr th {\n        vertical-align: top;\n    }\n\n    .dataframe thead th {\n        text-align: right;\n    }\n</style>\n<table border=\"1\" class=\"dataframe\">\n  <thead>\n    <tr style=\"text-align: right;\">\n      <th></th>\n      <th>Borough</th>\n      <th>ID</th>\n      <th>Month</th>\n      <th>Average_price</th>\n    </tr>\n  </thead>\n  <tbody>\n    <tr>\n      <th>0</th>\n      <td>City of London</td>\n      <td>E09000001</td>\n      <td>1995-01-01</td>\n      <td>91448.98487</td>\n    </tr>\n    <tr>\n      <th>1</th>\n      <td>Barking &amp; Dagenham</td>\n      <td>E09000002</td>\n      <td>1995-01-01</td>\n      <td>50460.22660</td>\n    </tr>\n    <tr>\n      <th>2</th>\n      <td>Barnet</td>\n      <td>E09000003</td>\n      <td>1995-01-01</td>\n      <td>93284.51832</td>\n    </tr>\n    <tr>\n      <th>3</th>\n      <td>Bexley</td>\n      <td>E09000004</td>\n      <td>1995-01-01</td>\n      <td>64958.09036</td>\n    </tr>\n    <tr>\n      <th>4</th>\n      <td>Brent</td>\n      <td>E09000005</td>\n      <td>1995-01-01</td>\n      <td>71306.56698</td>\n    </tr>\n  </tbody>\n</table>\n</div>"
     },
     "execution_count": 59,
     "metadata": {},
     "output_type": "execute_result"
    }
   ],
   "source": [
    "df.head()"
   ],
   "metadata": {
    "collapsed": false,
    "pycharm": {
     "name": "#%%\n"
    }
   }
  },
  {
   "cell_type": "code",
   "execution_count": 60,
   "outputs": [
    {
     "data": {
      "text/plain": "Borough                  object\nID                       object\nMonth            datetime64[ns]\nAverage_price           float64\ndtype: object"
     },
     "execution_count": 60,
     "metadata": {},
     "output_type": "execute_result"
    }
   ],
   "source": [
    "df.dtypes"
   ],
   "metadata": {
    "collapsed": false,
    "pycharm": {
     "name": "#%%\n"
    }
   }
  },
  {
   "cell_type": "markdown",
   "source": [
    "#### 2.6. Visualizing the data\n",
    "Time to get a visual idea of the price shift occurring in the London boroughs. \n",
    "\n",
    "Restrict your observations to Camden for now. \n",
    "\n",
    "How have housing prices changed since 1995?"
   ],
   "metadata": {
    "collapsed": false
   }
  },
  {
   "cell_type": "code",
   "execution_count": 61,
   "outputs": [
    {
     "data": {
      "text/plain": "Text(0, 0.5, 'Price')"
     },
     "execution_count": 61,
     "metadata": {},
     "output_type": "execute_result"
    },
    {
     "data": {
      "text/plain": "<Figure size 432x288 with 1 Axes>",
      "image/png": "[encoded data removed]"
     },
     "metadata": {
      "needs_background": "light"
     },
     "output_type": "display_data"
    }
   ],
   "source": [
    "# First of all, make a variable called camden_prices, and assign it the result of filtering df on the following condition:\n",
    "# df['London_Borough'] == 'Camden'\n",
    "camden_prices = df[df['Borough'] == 'Camden']\n",
    "\n",
    "# Make a variable called ax. Assign it the result of calling the plot() method, and plugging in the following values as parameters:\n",
    "# kind ='line', x = 'Month', y='Average_price'\n",
    "ax = camden_prices.plot(kind ='line', x = 'Month', y='Average_price')\n",
    "\n",
    "# Finally, call the set_ylabel() method on ax, and set that label to the string: 'Price'. \n",
    "ax.set_ylabel('Price')"
   ],
   "metadata": {
    "collapsed": false,
    "pycharm": {
     "name": "#%%\n"
    }
   }
  },
  {
   "cell_type": "markdown",
   "source": [
    "To limit the amount of temporal data-points you have, it would be useful to extract the year from every value in our *Month* column. 300 is more datapoints than you need.\n",
    "\n",
    "To this end, you'll apply a ***lambda function***. The logic works as follows. You'll:\n",
    "1. look through the `Month` column\n",
    "2. extract the year from each individual value in that column \n",
    "3. store that corresponding year as separate column"
   ],
   "metadata": {
    "collapsed": false
   }
  },
  {
   "cell_type": "code",
   "execution_count": 70,
   "outputs": [
    {
     "data": {
      "text/plain": "              Borough         ID      Month  Average_price  Year\n14476          Sutton  E09000029 2020-02-01    380197.6513  2020\n14477   Tower Hamlets  E09000030 2020-02-01    462323.4758  2020\n14478  Waltham Forest  E09000031 2020-02-01    441113.0235  2020\n14479      Wandsworth  E09000032 2020-02-01    600088.5899  2020\n14480     Westminster  E09000033 2020-02-01    975090.9590  2020",
      "text/html": "<div>\n<style scoped>\n    .dataframe tbody tr th:only-of-type {\n        vertical-align: middle;\n    }\n\n    .dataframe tbody tr th {\n        vertical-align: top;\n    }\n\n    .dataframe thead th {\n        text-align: right;\n    }\n</style>\n<table border=\"1\" class=\"dataframe\">\n  <thead>\n    <tr style=\"text-align: right;\">\n      <th></th>\n      <th>Borough</th>\n      <th>ID</th>\n      <th>Month</th>\n      <th>Average_price</th>\n      <th>Year</th>\n    </tr>\n  </thead>\n  <tbody>\n    <tr>\n      <th>14476</th>\n      <td>Sutton</td>\n      <td>E09000029</td>\n      <td>2020-02-01</td>\n      <td>380197.6513</td>\n      <td>2020</td>\n    </tr>\n    <tr>\n      <th>14477</th>\n      <td>Tower Hamlets</td>\n      <td>E09000030</td>\n      <td>2020-02-01</td>\n      <td>462323.4758</td>\n      <td>2020</td>\n    </tr>\n    <tr>\n      <th>14478</th>\n      <td>Waltham Forest</td>\n      <td>E09000031</td>\n      <td>2020-02-01</td>\n      <td>441113.0235</td>\n      <td>2020</td>\n    </tr>\n    <tr>\n      <th>14479</th>\n      <td>Wandsworth</td>\n      <td>E09000032</td>\n      <td>2020-02-01</td>\n      <td>600088.5899</td>\n      <td>2020</td>\n    </tr>\n    <tr>\n      <th>14480</th>\n      <td>Westminster</td>\n      <td>E09000033</td>\n      <td>2020-02-01</td>\n      <td>975090.9590</td>\n      <td>2020</td>\n    </tr>\n  </tbody>\n</table>\n</div>"
     },
     "execution_count": 70,
     "metadata": {},
     "output_type": "execute_result"
    }
   ],
   "source": [
    "# Try this yourself. \n",
    "df['Year'] = df['Month'].apply(lambda t: t.year)\n",
    "\n",
    "# Call the tail() method on df\n",
    "df.tail()"
   ],
   "metadata": {
    "collapsed": false,
    "pycharm": {
     "name": "#%%\n"
    }
   }
  },
  {
   "cell_type": "markdown",
   "source": [
    "To calculate the mean house price for each year, you first need to **group by** the London_Borough and Year columns.\n",
    "\n",
    "Make a new variable called *dfg*, and assign it the result of calling the ***groupby()*** method on *df*. Plug in the parameters: by=['Borough', 'Year']. To get the ***mean()*** of the result you'll chain that onto the end. \n",
    "\n",
    "We've helped you with this line, it's a little tricky. "
   ],
   "metadata": {
    "collapsed": false
   }
  },
  {
   "cell_type": "code",
   "execution_count": 71,
   "outputs": [
    {
     "data": {
      "text/plain": "                           Average_price\nBorough              Year               \nRedbridge            2004  222917.561708\nHammersmith & Fulham 1997  151723.237233\nRichmond upon Thames 2005  323618.988550\nEnfield              2006  219541.679367\nLewisham             2005  190867.854550\nBrent                2005  241690.070950\nGreenwich            2017  391749.944825\nBexley               1999   86777.715903\nKensington & Chelsea 2009  705187.532033\nHounslow             2004  215827.150708",
      "text/html": "<div>\n<style scoped>\n    .dataframe tbody tr th:only-of-type {\n        vertical-align: middle;\n    }\n\n    .dataframe tbody tr th {\n        vertical-align: top;\n    }\n\n    .dataframe thead th {\n        text-align: right;\n    }\n</style>\n<table border=\"1\" class=\"dataframe\">\n  <thead>\n    <tr style=\"text-align: right;\">\n      <th></th>\n      <th></th>\n      <th>Average_price</th>\n    </tr>\n    <tr>\n      <th>Borough</th>\n      <th>Year</th>\n      <th></th>\n    </tr>\n  </thead>\n  <tbody>\n    <tr>\n      <th>Redbridge</th>\n      <th>2004</th>\n      <td>222917.561708</td>\n    </tr>\n    <tr>\n      <th>Hammersmith &amp; Fulham</th>\n      <th>1997</th>\n      <td>151723.237233</td>\n    </tr>\n    <tr>\n      <th>Richmond upon Thames</th>\n      <th>2005</th>\n      <td>323618.988550</td>\n    </tr>\n    <tr>\n      <th>Enfield</th>\n      <th>2006</th>\n      <td>219541.679367</td>\n    </tr>\n    <tr>\n      <th>Lewisham</th>\n      <th>2005</th>\n      <td>190867.854550</td>\n    </tr>\n    <tr>\n      <th>Brent</th>\n      <th>2005</th>\n      <td>241690.070950</td>\n    </tr>\n    <tr>\n      <th>Greenwich</th>\n      <th>2017</th>\n      <td>391749.944825</td>\n    </tr>\n    <tr>\n      <th>Bexley</th>\n      <th>1999</th>\n      <td>86777.715903</td>\n    </tr>\n    <tr>\n      <th>Kensington &amp; Chelsea</th>\n      <th>2009</th>\n      <td>705187.532033</td>\n    </tr>\n    <tr>\n      <th>Hounslow</th>\n      <th>2004</th>\n      <td>215827.150708</td>\n    </tr>\n  </tbody>\n</table>\n</div>"
     },
     "execution_count": 71,
     "metadata": {},
     "output_type": "execute_result"
    }
   ],
   "source": [
    "# Using the function 'groupby' will help you to calculate the mean for each year and for each Borough. \n",
    "## As you can see, the variables Borough and Year are now indices\n",
    "dfg = df.groupby(by=['Borough', 'Year']).mean()\n",
    "dfg.sample(10)"
   ],
   "metadata": {
    "collapsed": false,
    "pycharm": {
     "name": "#%%\n"
    }
   }
  },
  {
   "cell_type": "code",
   "execution_count": 72,
   "outputs": [
    {
     "data": {
      "text/plain": "              Borough  Year  Average_price\n0  Barking & Dagenham  1995   51817.969390\n1  Barking & Dagenham  1996   51718.192690\n2  Barking & Dagenham  1997   55974.262309\n3  Barking & Dagenham  1998   60285.821083\n4  Barking & Dagenham  1999   65320.934441",
      "text/html": "<div>\n<style scoped>\n    .dataframe tbody tr th:only-of-type {\n        vertical-align: middle;\n    }\n\n    .dataframe tbody tr th {\n        vertical-align: top;\n    }\n\n    .dataframe thead th {\n        text-align: right;\n    }\n</style>\n<table border=\"1\" class=\"dataframe\">\n  <thead>\n    <tr style=\"text-align: right;\">\n      <th></th>\n      <th>Borough</th>\n      <th>Year</th>\n      <th>Average_price</th>\n    </tr>\n  </thead>\n  <tbody>\n    <tr>\n      <th>0</th>\n      <td>Barking &amp; Dagenham</td>\n      <td>1995</td>\n      <td>51817.969390</td>\n    </tr>\n    <tr>\n      <th>1</th>\n      <td>Barking &amp; Dagenham</td>\n      <td>1996</td>\n      <td>51718.192690</td>\n    </tr>\n    <tr>\n      <th>2</th>\n      <td>Barking &amp; Dagenham</td>\n      <td>1997</td>\n      <td>55974.262309</td>\n    </tr>\n    <tr>\n      <th>3</th>\n      <td>Barking &amp; Dagenham</td>\n      <td>1998</td>\n      <td>60285.821083</td>\n    </tr>\n    <tr>\n      <th>4</th>\n      <td>Barking &amp; Dagenham</td>\n      <td>1999</td>\n      <td>65320.934441</td>\n    </tr>\n  </tbody>\n</table>\n</div>"
     },
     "execution_count": 72,
     "metadata": {},
     "output_type": "execute_result"
    }
   ],
   "source": [
    "# Let's reset the index for our new DataFrame dfg, and call the head() method on it. \n",
    "dfg = dfg.reset_index()\n",
    "dfg.head()"
   ],
   "metadata": {
    "collapsed": false,
    "pycharm": {
     "name": "#%%\n"
    }
   }
  },
  {
   "cell_type": "markdown",
   "source": [
    "### 3. Modelling\n",
    "Now comes the really exciting stuff. \n",
    "\n",
    "You want to create a function that will calculate a ratio of house prices, that compares the price of a house in 2018 to the price in 1998. \n",
    "\n",
    "Call this function create_price_ratio. \n",
    "\n",
    "You want this function to:\n",
    "\n",
    "1. Take a filter of dfg, specifically where this filter constrains the London_Borough, as an argument. For example, one admissible argument should be: **dfg[dfg['London_Borough']=='Camden']**. \n",
    "\n",
    "2. Get the Average Price for that borough for 1998 and, seperately, for 2018. \n",
    "\n",
    "3. Calculate the ratio of the Average Price for 1998 divided by the Average Price for 2018. \n",
    "\n",
    "4. Return that ratio. \n",
    "\n",
    "Once you've written this function, you'll use it to iterate through all the unique London_Boroughs and work out the ratio capturing the difference of house prices between 1998 and 2018.\n",
    "\n",
    "***Hint***: This section should test the skills you acquired in:\n",
    "- Python Data Science Toolbox (Part 1), all modules\n"
   ],
   "metadata": {
    "collapsed": false
   }
  },
  {
   "cell_type": "code",
   "execution_count": 73,
   "outputs": [],
   "source": [
    "# Here's where you should write your function:\n",
    "def create_price_ratio(d):\n",
    "    y1998 = float(d['Average_price'][d['Year']==1998])\n",
    "    y2018 = float(d['Average_price'][d['Year']==2018])\n",
    "    ratio = [y2018/y1998]\n",
    "    return ratio\n"
   ],
   "metadata": {
    "collapsed": false,
    "pycharm": {
     "name": "#%%\n"
    }
   }
  },
  {
   "cell_type": "code",
   "execution_count": 74,
   "outputs": [
    {
     "data": {
      "text/plain": "[4.89661861291754]"
     },
     "execution_count": 74,
     "metadata": {},
     "output_type": "execute_result"
    }
   ],
   "source": [
    "#  Test out the function by calling it with the following argument:\n",
    "# dfg[dfg['London_Borough']=='Barking & Dagenham']\n",
    "create_price_ratio(dfg[dfg['Borough']=='Barking & Dagenham'])"
   ],
   "metadata": {
    "collapsed": false,
    "pycharm": {
     "name": "#%%\n"
    }
   }
  },
  {
   "cell_type": "code",
   "execution_count": 75,
   "outputs": [],
   "source": [
    "# We want to do this for all of the London Boroughs. \n",
    "# First, let's make an empty dictionary, called final, where we'll store our ratios for each unique London_Borough.\n",
    "final = {}"
   ],
   "metadata": {
    "collapsed": false,
    "pycharm": {
     "name": "#%%\n"
    }
   }
  },
  {
   "cell_type": "code",
   "execution_count": 76,
   "outputs": [
    {
     "name": "stdout",
     "output_type": "stream",
     "text": [
      "{'Barking & Dagenham': [4.89661861291754], 'Barnet': [4.358195917538044], 'Bexley': [4.248977046127877], 'Brent': [4.8945544971392865], 'Bromley': [4.0947846853338765], 'Camden': [4.935353408884261], 'City of London': [5.301620377587609], 'Croydon': [4.201100280024767], 'Ealing': [4.311450902121834], 'Enfield': [4.26347158349581], 'Greenwich': [4.763036347329193], 'Hackney': [6.198285561008662], 'Hammersmith & Fulham': [4.137798101936229], 'Haringey': [5.134624964136042], 'Harrow': [4.0591964329643195], 'Havering': [4.325230371335308], 'Hillingdon': [4.2002730803844575], 'Hounslow': [3.976409106143329], 'Islington': [4.844048012802298], 'Kensington & Chelsea': [5.082465066092464], 'Kingston upon Thames': [4.270549521484271], 'Lambeth': [4.957751163514063], 'Lewisham': [5.449221041059685], 'Merton': [4.741273313294604], 'Newham': [5.305390437201879], 'Redbridge': [4.471182006097364], 'Richmond upon Thames': [4.005161895721457], 'Southwark': [5.516485302379376], 'Sutton': [4.118522608573157], 'Tower Hamlets': [4.62670104006116], 'Waltham Forest': [5.83475580932281], 'Wandsworth': [4.757709347739269], 'Westminster': [5.353565392605413]}\n"
     ]
    }
   ],
   "source": [
    "# Now let's declare a for loop that will iterate through each of the unique elements of the 'London_Borough' column of our DataFrame dfg.\n",
    "# Call the iterator variable 'b'. \n",
    "for b in dfg['Borough'].unique():\n",
    "    # Let's make our parameter to our create_price_ratio function: i.e., we subset dfg on 'London_Borough' == b. \n",
    "    borough = dfg[dfg['Borough'] == b]\n",
    "    # Make a new entry in the final dictionary whose value's the result of calling create_price_ratio with the argument: borough\n",
    "    final[b] = create_price_ratio(borough)\n",
    "# We use the function and incorporate that into a new key of the dictionary \n",
    "print(final) "
   ],
   "metadata": {
    "collapsed": false,
    "pycharm": {
     "name": "#%%\n"
    }
   }
  },
  {
   "cell_type": "markdown",
   "source": [
    "Now you have a dictionary with data about the ratio of average prices for each borough between 1998 and 2018,  but you can make it prettier by converting it to a DataFrame. "
   ],
   "metadata": {
    "collapsed": false
   }
  },
  {
   "cell_type": "code",
   "execution_count": 77,
   "outputs": [],
   "source": [
    "# Make a variable called df_ratios, and assign it the result of calling the DataFrame method on the dictionary final. \n",
    "df_ratios = pd.DataFrame(final)"
   ],
   "metadata": {
    "collapsed": false,
    "pycharm": {
     "name": "#%%\n"
    }
   }
  },
  {
   "cell_type": "code",
   "execution_count": 78,
   "outputs": [
    {
     "data": {
      "text/plain": "   Barking & Dagenham    Barnet    Bexley     Brent   Bromley    Camden  \\\n0            4.896619  4.358196  4.248977  4.894554  4.094785  4.935353   \n\n   City of London  Croydon    Ealing   Enfield  ...    Merton   Newham  \\\n0         5.30162   4.2011  4.311451  4.263472  ...  4.741273  5.30539   \n\n   Redbridge  Richmond upon Thames  Southwark    Sutton  Tower Hamlets  \\\n0   4.471182              4.005162   5.516485  4.118523       4.626701   \n\n   Waltham Forest  Wandsworth  Westminster  \n0        5.834756    4.757709     5.353565  \n\n[1 rows x 33 columns]",
      "text/html": "<div>\n<style scoped>\n    .dataframe tbody tr th:only-of-type {\n        vertical-align: middle;\n    }\n\n    .dataframe tbody tr th {\n        vertical-align: top;\n    }\n\n    .dataframe thead th {\n        text-align: right;\n    }\n</style>\n<table border=\"1\" class=\"dataframe\">\n  <thead>\n    <tr style=\"text-align: right;\">\n      <th></th>\n      <th>Barking &amp; Dagenham</th>\n      <th>Barnet</th>\n      <th>Bexley</th>\n      <th>Brent</th>\n      <th>Bromley</th>\n      <th>Camden</th>\n      <th>City of London</th>\n      <th>Croydon</th>\n      <th>Ealing</th>\n      <th>Enfield</th>\n      <th>...</th>\n      <th>Merton</th>\n      <th>Newham</th>\n      <th>Redbridge</th>\n      <th>Richmond upon Thames</th>\n      <th>Southwark</th>\n      <th>Sutton</th>\n      <th>Tower Hamlets</th>\n      <th>Waltham Forest</th>\n      <th>Wandsworth</th>\n      <th>Westminster</th>\n    </tr>\n  </thead>\n  <tbody>\n    <tr>\n      <th>0</th>\n      <td>4.896619</td>\n      <td>4.358196</td>\n      <td>4.248977</td>\n      <td>4.894554</td>\n      <td>4.094785</td>\n      <td>4.935353</td>\n      <td>5.30162</td>\n      <td>4.2011</td>\n      <td>4.311451</td>\n      <td>4.263472</td>\n      <td>...</td>\n      <td>4.741273</td>\n      <td>5.30539</td>\n      <td>4.471182</td>\n      <td>4.005162</td>\n      <td>5.516485</td>\n      <td>4.118523</td>\n      <td>4.626701</td>\n      <td>5.834756</td>\n      <td>4.757709</td>\n      <td>5.353565</td>\n    </tr>\n  </tbody>\n</table>\n<p>1 rows × 33 columns</p>\n</div>"
     },
     "execution_count": 78,
     "metadata": {},
     "output_type": "execute_result"
    }
   ],
   "source": [
    "# Call the head() method on this variable to check it out. \n",
    "df_ratios.head()"
   ],
   "metadata": {
    "collapsed": false,
    "pycharm": {
     "name": "#%%\n"
    }
   }
  },
  {
   "cell_type": "code",
   "execution_count": 79,
   "outputs": [
    {
     "data": {
      "text/plain": "                index         0\n0  Barking & Dagenham  4.896619\n1              Barnet  4.358196\n2              Bexley  4.248977\n3               Brent  4.894554\n4             Bromley  4.094785",
      "text/html": "<div>\n<style scoped>\n    .dataframe tbody tr th:only-of-type {\n        vertical-align: middle;\n    }\n\n    .dataframe tbody tr th {\n        vertical-align: top;\n    }\n\n    .dataframe thead th {\n        text-align: right;\n    }\n</style>\n<table border=\"1\" class=\"dataframe\">\n  <thead>\n    <tr style=\"text-align: right;\">\n      <th></th>\n      <th>index</th>\n      <th>0</th>\n    </tr>\n  </thead>\n  <tbody>\n    <tr>\n      <th>0</th>\n      <td>Barking &amp; Dagenham</td>\n      <td>4.896619</td>\n    </tr>\n    <tr>\n      <th>1</th>\n      <td>Barnet</td>\n      <td>4.358196</td>\n    </tr>\n    <tr>\n      <th>2</th>\n      <td>Bexley</td>\n      <td>4.248977</td>\n    </tr>\n    <tr>\n      <th>3</th>\n      <td>Brent</td>\n      <td>4.894554</td>\n    </tr>\n    <tr>\n      <th>4</th>\n      <td>Bromley</td>\n      <td>4.094785</td>\n    </tr>\n  </tbody>\n</table>\n</div>"
     },
     "execution_count": 79,
     "metadata": {},
     "output_type": "execute_result"
    }
   ],
   "source": [
    "# All we need to do now is transpose it, and reset the index! \n",
    "df_ratios_T = df_ratios.T\n",
    "df_ratios = df_ratios_T.reset_index()\n",
    "df_ratios.head()"
   ],
   "metadata": {
    "collapsed": false,
    "pycharm": {
     "name": "#%%\n"
    }
   }
  },
  {
   "cell_type": "code",
   "execution_count": 80,
   "outputs": [
    {
     "data": {
      "text/plain": "              Borough      2018\n0  Barking & Dagenham  4.896619\n1              Barnet  4.358196\n2              Bexley  4.248977\n3               Brent  4.894554\n4             Bromley  4.094785",
      "text/html": "<div>\n<style scoped>\n    .dataframe tbody tr th:only-of-type {\n        vertical-align: middle;\n    }\n\n    .dataframe tbody tr th {\n        vertical-align: top;\n    }\n\n    .dataframe thead th {\n        text-align: right;\n    }\n</style>\n<table border=\"1\" class=\"dataframe\">\n  <thead>\n    <tr style=\"text-align: right;\">\n      <th></th>\n      <th>Borough</th>\n      <th>2018</th>\n    </tr>\n  </thead>\n  <tbody>\n    <tr>\n      <th>0</th>\n      <td>Barking &amp; Dagenham</td>\n      <td>4.896619</td>\n    </tr>\n    <tr>\n      <th>1</th>\n      <td>Barnet</td>\n      <td>4.358196</td>\n    </tr>\n    <tr>\n      <th>2</th>\n      <td>Bexley</td>\n      <td>4.248977</td>\n    </tr>\n    <tr>\n      <th>3</th>\n      <td>Brent</td>\n      <td>4.894554</td>\n    </tr>\n    <tr>\n      <th>4</th>\n      <td>Bromley</td>\n      <td>4.094785</td>\n    </tr>\n  </tbody>\n</table>\n</div>"
     },
     "execution_count": 80,
     "metadata": {},
     "output_type": "execute_result"
    }
   ],
   "source": [
    "# Let's just rename the 'index' column as 'London_Borough', and the '0' column to '2018'.\n",
    "df_ratios.rename(columns={'index':'Borough', 0:'2018'}, inplace=True)\n",
    "df_ratios.head()"
   ],
   "metadata": {
    "collapsed": false,
    "pycharm": {
     "name": "#%%\n"
    }
   }
  },
  {
   "cell_type": "code",
   "execution_count": 83,
   "outputs": [
    {
     "name": "stdout",
     "output_type": "stream",
     "text": [
      "                 Borough      2018\n",
      "11               Hackney  6.198286\n",
      "30        Waltham Forest  5.834756\n",
      "27             Southwark  5.516485\n",
      "22              Lewisham  5.449221\n",
      "32           Westminster  5.353565\n",
      "24                Newham  5.305390\n",
      "6         City of London  5.301620\n",
      "13              Haringey  5.134625\n",
      "19  Kensington & Chelsea  5.082465\n",
      "21               Lambeth  4.957751\n",
      "5                 Camden  4.935353\n",
      "0     Barking & Dagenham  4.896619\n",
      "3                  Brent  4.894554\n",
      "18             Islington  4.844048\n",
      "10             Greenwich  4.763036\n"
     ]
    }
   ],
   "source": [
    "# Let's sort in descending order and select the top 15 boroughs.\n",
    "# Make a variable called top15, and assign it the result of calling sort_values() on df_ratios. \n",
    "top15 = df_ratios.sort_values(by='2018',ascending=False).head(15)\n",
    "print(top15)\n"
   ],
   "metadata": {
    "collapsed": false,
    "pycharm": {
     "name": "#%%\n"
    }
   }
  },
  {
   "cell_type": "code",
   "execution_count": 84,
   "outputs": [
    {
     "data": {
      "text/plain": "[Text(0, 0, 'Hackney'),\n Text(0, 0, 'Waltham Forest'),\n Text(0, 0, 'Southwark'),\n Text(0, 0, 'Lewisham'),\n Text(0, 0, 'Westminster'),\n Text(0, 0, 'Newham'),\n Text(0, 0, 'City of London'),\n Text(0, 0, 'Haringey'),\n Text(0, 0, 'Kensington & Chelsea'),\n Text(0, 0, 'Lambeth'),\n Text(0, 0, 'Camden'),\n Text(0, 0, 'Barking & Dagenham'),\n Text(0, 0, 'Brent'),\n Text(0, 0, 'Islington'),\n Text(0, 0, 'Greenwich')]"
     },
     "execution_count": 84,
     "metadata": {},
     "output_type": "execute_result"
    },
    {
     "data": {
      "text/plain": "<Figure size 432x288 with 1 Axes>",
      "image/png": "[encoded data removed]"
     },
     "metadata": {
      "needs_background": "light"
     },
     "output_type": "display_data"
    }
   ],
   "source": [
    "# Let's plot the boroughs that have seen the greatest changes in price.\n",
    "# Make a variable called ax. Assign it the result of filtering top15 on 'Borough' and '2018', then calling plot(), with\n",
    "# the parameter kind = 'bar'. \n",
    "ax = top15[['Borough','2018']].plot(kind='bar')\n",
    "\n",
    "ax.set_xticklabels(top15.Borough)"
   ],
   "metadata": {
    "collapsed": false,
    "pycharm": {
     "name": "#%%\n"
    }
   }
  },
  {
   "cell_type": "markdown",
   "source": [
    "### 4. Conclusion\n",
    "Congratulation!  You're done. Excellent work.\n",
    "\n",
    "What can you conclude? Type your conclusions below. \n",
    "\n",
    "We hope you enjoyed this practical project. It should have consolidated your data cleaning and pandas skills by looking at a real-world problem with the kind of dataset you might encounter as a budding data scientist. "
   ],
   "metadata": {
    "collapsed": false
   }
  }
 ]
}